{
 "cells": [
  {
   "cell_type": "markdown",
   "metadata": {
    "id": "iEhft5itAcpU"
   },
   "source": [
    "Loading the IMDB dataset"
   ]
  },
  {
   "cell_type": "code",
   "execution_count": 19,
   "metadata": {
    "colab": {
     "base_uri": "https://localhost:8080/"
    },
    "id": "FNcrKguOAIsv",
    "outputId": "59ac47ae-489f-40c9-8646-01e179bba0e7"
   },
   "outputs": [
    {
     "name": "stdout",
     "output_type": "stream",
     "text": [
      "  % Total    % Received % Xferd  Average Speed   Time    Time     Time  Current\n",
      "                                 Dload  Upload   Total   Spent    Left  Speed\n",
      "100 80.2M  100 80.2M    0     0  17.3M      0  0:00:04  0:00:04 --:--:-- 18.1M\n"
     ]
    }
   ],
   "source": [
    "!curl -O https://ai.stanford.edu/~amaas/data/sentiment/aclImdb_v1.tar.gz\n",
    "!tar -xf aclImdb_v1.tar.gz\n",
    "!rm -r aclImdb/train/unsup"
   ]
  },
  {
   "cell_type": "markdown",
   "metadata": {
    "id": "2HcKr6k3AlsG"
   },
   "source": [
    "**Setting the data**"
   ]
  },
  {
   "cell_type": "code",
   "execution_count": 20,
   "metadata": {
    "colab": {
     "base_uri": "https://localhost:8080/"
    },
    "id": "b9oIyT0VAr27",
    "outputId": "810eabea-5b70-4aed-c59c-88b5e15ef057"
   },
   "outputs": [
    {
     "name": "stdout",
     "output_type": "stream",
     "text": [
      "Found 20000 files belonging to 2 classes.\n",
      "Using 19800 files for training.\n",
      "Found 20000 files belonging to 2 classes.\n",
      "Using 19980 files for validation.\n",
      "Found 25000 files belonging to 2 classes.\n"
     ]
    }
   ],
   "source": [
    "import os, pathlib, shutil, random\n",
    "from tensorflow import keras\n",
    "batch_size = 32\n",
    "base_dir = pathlib.Path(\"aclImdb\")\n",
    "val_dir = base_dir / \"val\"\n",
    "train_dir = base_dir / \"train\"\n",
    "for category in (\"neg\", \"pos\"):\n",
    "    if not os.path.exists(val_dir / category):\n",
    "        os.makedirs(val_dir / category)\n",
    "    files = os.listdir(train_dir / category)\n",
    "    random.Random(1337).shuffle(files)\n",
    "    num_val_samples = int(0.2 * len(files))\n",
    "    val_files = files[-num_val_samples:]\n",
    "    for fname in val_files:\n",
    "        shutil.move(train_dir / category / fname,\n",
    "                    val_dir / category / fname)\n",
    "\n",
    "train_ds = keras.utils.text_dataset_from_directory(\n",
    "    \"aclImdb/train\", batch_size=batch_size, validation_split=0.01, subset=\"training\", seed=1337\n",
    ")\n",
    "val_ds = keras.utils.text_dataset_from_directory(\n",
    "    \"aclImdb/val\", batch_size=batch_size, validation_split=0.999, subset=\"validation\", seed=1337\n",
    ")\n",
    "test_ds = keras.utils.text_dataset_from_directory(\n",
    "    \"aclImdb/test\", batch_size=batch_size\n",
    ")\n",
    "text_only_train_ds = train_ds.map(lambda x, y: x)"
   ]
  },
  {
   "cell_type": "markdown",
   "metadata": {
    "id": "2tmLOj09BPwp"
   },
   "source": [
    "Preparing integer sequence datasets"
   ]
  },
  {
   "cell_type": "code",
   "execution_count": 21,
   "metadata": {
    "id": "F2KPfbgdCEF3"
   },
   "outputs": [],
   "source": [
    "from tensorflow.keras import layers\n",
    "\n",
    "max_length = 150\n",
    "max_tokens = 10000\n",
    "text_vectorization = layers.TextVectorization(\n",
    "    max_tokens=max_tokens,\n",
    "    output_mode=\"int\",\n",
    "    output_sequence_length=max_length,\n",
    ")\n",
    "text_vectorization.adapt(text_only_train_ds)\n",
    "\n",
    "int_train_ds = train_ds.map(\n",
    "    lambda x, y: (text_vectorization(x), y),\n",
    "    num_parallel_calls=4).take(100)\n",
    "int_val_ds = val_ds.map(\n",
    "    lambda x, y: (text_vectorization(x), y),\n",
    "    num_parallel_calls=4).take(10000)\n",
    "int_test_ds = test_ds.map(\n",
    "    lambda x, y: (text_vectorization(x), y),\n",
    "    num_parallel_calls=4)"
   ]
  },
  {
   "cell_type": "markdown",
   "metadata": {
    "id": "QjGF-5peDNWC"
   },
   "source": [
    "Sequence model on one-hot encoded vectors"
   ]
  },
  {
   "cell_type": "code",
   "execution_count": 22,
   "metadata": {
    "colab": {
     "base_uri": "https://localhost:8080/"
    },
    "id": "Q-eY1VJoDUIc",
    "outputId": "533bc539-9617-426b-c3fc-913882ab8f4f"
   },
   "outputs": [
    {
     "name": "stdout",
     "output_type": "stream",
     "text": [
      "Model: \"model\"\n",
      "_________________________________________________________________\n",
      " Layer (type)                Output Shape              Param #   \n",
      "=================================================================\n",
      " input_1 (InputLayer)        [(None, None)]            0         \n",
      "                                                                 \n",
      " tf.one_hot (TFOpLambda)     (None, None, 10000)       0         \n",
      "                                                                 \n",
      " bidirectional (Bidirection  (None, 64)                2568448   \n",
      " al)                                                             \n",
      "                                                                 \n",
      " dropout (Dropout)           (None, 64)                0         \n",
      "                                                                 \n",
      " dense (Dense)               (None, 1)                 65        \n",
      "                                                                 \n",
      "=================================================================\n",
      "Total params: 2568513 (9.80 MB)\n",
      "Trainable params: 2568513 (9.80 MB)\n",
      "Non-trainable params: 0 (0.00 Byte)\n",
      "_________________________________________________________________\n"
     ]
    }
   ],
   "source": [
    "import tensorflow as tf\n",
    "inputs = keras.Input(shape=(None,), dtype=\"int64\")\n",
    "embedded = tf.one_hot(inputs, depth=max_tokens)\n",
    "x = layers.Bidirectional(layers.LSTM(32))(embedded)\n",
    "x = layers.Dropout(0.5)(x)\n",
    "outputs = layers.Dense(1, activation=\"sigmoid\")(x)\n",
    "model = keras.Model(inputs, outputs)\n",
    "model.compile(optimizer=\"rmsprop\",\n",
    "              loss=\"binary_crossentropy\",\n",
    "              metrics=[\"accuracy\"])\n",
    "model.summary()"
   ]
  },
  {
   "cell_type": "markdown",
   "metadata": {
    "id": "i_FzG_4KDYp-"
   },
   "source": [
    "Training a basic sequence"
   ]
  },
  {
   "cell_type": "code",
   "execution_count": 23,
   "metadata": {
    "colab": {
     "base_uri": "https://localhost:8080/",
     "height": 1000
    },
    "id": "vyFzRRuVDYTk",
    "outputId": "ccefffb7-13f2-4f20-fa72-fe0a06a401a9"
   },
   "outputs": [
    {
     "name": "stdout",
     "output_type": "stream",
     "text": [
      "Requirement already satisfied: matplotlib in /usr/local/lib/python3.10/dist-packages (3.7.1)\n",
      "Requirement already satisfied: contourpy>=1.0.1 in /usr/local/lib/python3.10/dist-packages (from matplotlib) (1.2.1)\n",
      "Requirement already satisfied: cycler>=0.10 in /usr/local/lib/python3.10/dist-packages (from matplotlib) (0.12.1)\n",
      "Requirement already satisfied: fonttools>=4.22.0 in /usr/local/lib/python3.10/dist-packages (from matplotlib) (4.51.0)\n",
      "Requirement already satisfied: kiwisolver>=1.0.1 in /usr/local/lib/python3.10/dist-packages (from matplotlib) (1.4.5)\n",
      "Requirement already satisfied: numpy>=1.20 in /usr/local/lib/python3.10/dist-packages (from matplotlib) (1.25.2)\n",
      "Requirement already satisfied: packaging>=20.0 in /usr/local/lib/python3.10/dist-packages (from matplotlib) (24.0)\n",
      "Requirement already satisfied: pillow>=6.2.0 in /usr/local/lib/python3.10/dist-packages (from matplotlib) (9.4.0)\n",
      "Requirement already satisfied: pyparsing>=2.3.1 in /usr/local/lib/python3.10/dist-packages (from matplotlib) (3.1.2)\n",
      "Requirement already satisfied: python-dateutil>=2.7 in /usr/local/lib/python3.10/dist-packages (from matplotlib) (2.8.2)\n",
      "Requirement already satisfied: six>=1.5 in /usr/local/lib/python3.10/dist-packages (from python-dateutil>=2.7->matplotlib) (1.16.0)\n",
      "Epoch 1/10\n",
      "100/100 [==============================] - 11s 62ms/step - loss: 0.6919 - accuracy: 0.5259 - val_loss: 0.6885 - val_accuracy: 0.5871\n",
      "Epoch 2/10\n",
      "100/100 [==============================] - 5s 55ms/step - loss: 0.6323 - accuracy: 0.6606 - val_loss: 0.5718 - val_accuracy: 0.7613\n",
      "Epoch 3/10\n",
      "100/100 [==============================] - 5s 54ms/step - loss: 0.4887 - accuracy: 0.7937 - val_loss: 0.4678 - val_accuracy: 0.7920\n",
      "Epoch 4/10\n",
      "100/100 [==============================] - 5s 54ms/step - loss: 0.3751 - accuracy: 0.8616 - val_loss: 0.4552 - val_accuracy: 0.7992\n",
      "Epoch 5/10\n",
      "100/100 [==============================] - 5s 54ms/step - loss: 0.3086 - accuracy: 0.8941 - val_loss: 0.4423 - val_accuracy: 0.8146\n",
      "Epoch 6/10\n",
      "100/100 [==============================] - 5s 54ms/step - loss: 0.2450 - accuracy: 0.9275 - val_loss: 0.3877 - val_accuracy: 0.8357\n",
      "Epoch 7/10\n",
      "100/100 [==============================] - 5s 53ms/step - loss: 0.1934 - accuracy: 0.9422 - val_loss: 0.4933 - val_accuracy: 0.7821\n",
      "Epoch 8/10\n",
      "100/100 [==============================] - 5s 53ms/step - loss: 0.1799 - accuracy: 0.9475 - val_loss: 0.4292 - val_accuracy: 0.8336\n",
      "Epoch 9/10\n",
      "100/100 [==============================] - 5s 53ms/step - loss: 0.1414 - accuracy: 0.9584 - val_loss: 0.5144 - val_accuracy: 0.8207\n",
      "Epoch 10/10\n",
      "100/100 [==============================] - 5s 53ms/step - loss: 0.1289 - accuracy: 0.9650 - val_loss: 0.5790 - val_accuracy: 0.8311\n",
      "782/782 [==============================] - 7s 7ms/step - loss: 0.4282 - accuracy: 0.8097\n",
      "Validation accuracy: 0.831\n",
      "Test accuracy: 0.810\n"
     ]
    },
    {
     "data": {
      "image/png": "[encoded data removed]",
      "text/plain": [
       "<Figure size 640x480 with 1 Axes>"
      ]
     },
     "metadata": {},
     "output_type": "display_data"
    }
   ],
   "source": [
    "!pip install matplotlib\n",
    "import tensorflow.keras as keras\n",
    "import matplotlib.pyplot as plt\n",
    "\n",
    "# Assume model is defined already\n",
    "callbacks = [\n",
    "    keras.callbacks.ModelCheckpoint(\"one_hot_bidir_lstm.keras\",\n",
    "                                    save_best_only=True)\n",
    "]\n",
    "history = model.fit(int_train_ds, validation_data=int_val_ds, epochs=10, callbacks=callbacks)\n",
    "\n",
    "# Loading the best model\n",
    "model = keras.models.load_model(\"one_hot_bidir_lstm.keras\")\n",
    "\n",
    "# Evaluating the model on test set\n",
    "test_loss, test_accuracy = model.evaluate(int_test_ds)\n",
    "\n",
    "# Printing the validation and test accuracy\n",
    "print(f\"Validation accuracy: {history.history['val_accuracy'][-1]:.3f}\")\n",
    "print(f\"Test accuracy: {test_accuracy:.3f}\")\n",
    "\n",
    "# Plotting accuracies\n",
    "plt.plot(history.history['val_accuracy'], label='Validation Accuracy')\n",
    "plt.axhline(y=test_accuracy, color='r', linestyle='--', label='Test Accuracy')\n",
    "plt.xlabel('Epoch')\n",
    "plt.ylabel('Accuracy')\n",
    "plt.title('Validation and Test Accuracies over Epochs')\n",
    "plt.legend()\n",
    "plt.show()"
   ]
  },
  {
   "cell_type": "markdown",
   "metadata": {
    "id": "FQIphBiIEw6I"
   },
   "source": [
    "Putting an example of an embedding layer"
   ]
  },
  {
   "cell_type": "code",
   "execution_count": 24,
   "metadata": {
    "id": "Zb6ubUQwE2yW"
   },
   "outputs": [],
   "source": [
    "from tensorflow.keras import layers\n",
    "max_tokens = 10000\n",
    "embedding_layer = layers.Embedding(input_dim=max_tokens, output_dim=256)"
   ]
  },
  {
   "cell_type": "markdown",
   "metadata": {
    "id": "qhUgVrRUE6CZ"
   },
   "source": [
    "Building model that uses embedding layer from the scratch"
   ]
  },
  {
   "cell_type": "code",
   "execution_count": 25,
   "metadata": {
    "colab": {
     "base_uri": "https://localhost:8080/",
     "height": 1000
    },
    "id": "jGwyreLzFfrV",
    "outputId": "7052e7db-098b-4998-c991-51e9068f8f8a"
   },
   "outputs": [
    {
     "name": "stdout",
     "output_type": "stream",
     "text": [
      "  % Total    % Received % Xferd  Average Speed   Time    Time     Time  Current\n",
      "                                 Dload  Upload   Total   Spent    Left  Speed\n",
      "100 80.2M  100 80.2M    0     0  10.6M      0  0:00:07  0:00:07 --:--:-- 13.3M\n",
      "Found 25000 files belonging to 2 classes.\n",
      "Using 20000 files for training.\n",
      "Found 25000 files belonging to 2 classes.\n",
      "Using 5000 files for validation.\n",
      "Found 25000 files belonging to 2 classes.\n",
      "Model: \"model_1\"\n",
      "_________________________________________________________________\n",
      " Layer (type)                Output Shape              Param #   \n",
      "=================================================================\n",
      " input_2 (InputLayer)        [(None, None)]            0         \n",
      "                                                                 \n",
      " embedding_1 (Embedding)     (None, None, 256)         2560000   \n",
      "                                                                 \n",
      " bidirectional_1 (Bidirecti  (None, 64)                73984     \n",
      " onal)                                                           \n",
      "                                                                 \n",
      " dropout_1 (Dropout)         (None, 64)                0         \n",
      "                                                                 \n",
      " dense_1 (Dense)             (None, 1)                 65        \n",
      "                                                                 \n",
      "=================================================================\n",
      "Total params: 2634049 (10.05 MB)\n",
      "Trainable params: 2634049 (10.05 MB)\n",
      "Non-trainable params: 0 (0.00 Byte)\n",
      "_________________________________________________________________\n",
      "Epoch 1/10\n",
      "100/100 [==============================] - 10s 74ms/step - loss: 0.6889 - accuracy: 0.5484 - val_loss: 0.6772 - val_accuracy: 0.5738\n",
      "Epoch 2/10\n",
      "100/100 [==============================] - 5s 48ms/step - loss: 0.5813 - accuracy: 0.7053 - val_loss: 0.5346 - val_accuracy: 0.7438\n",
      "Epoch 3/10\n",
      "100/100 [==============================] - 4s 41ms/step - loss: 0.4229 - accuracy: 0.8281 - val_loss: 0.4915 - val_accuracy: 0.7678\n",
      "Epoch 4/10\n",
      "100/100 [==============================] - 4s 36ms/step - loss: 0.3105 - accuracy: 0.8884 - val_loss: 0.4779 - val_accuracy: 0.7902\n",
      "Epoch 5/10\n",
      "100/100 [==============================] - 3s 30ms/step - loss: 0.2323 - accuracy: 0.9197 - val_loss: 0.5054 - val_accuracy: 0.7712\n",
      "Epoch 6/10\n",
      "100/100 [==============================] - 3s 30ms/step - loss: 0.1700 - accuracy: 0.9453 - val_loss: 0.5733 - val_accuracy: 0.7950\n",
      "Epoch 7/10\n",
      "100/100 [==============================] - 3s 26ms/step - loss: 0.1185 - accuracy: 0.9675 - val_loss: 0.5936 - val_accuracy: 0.7748\n",
      "Epoch 8/10\n",
      "100/100 [==============================] - 3s 27ms/step - loss: 0.0895 - accuracy: 0.9725 - val_loss: 0.5995 - val_accuracy: 0.7722\n",
      "Epoch 9/10\n",
      "100/100 [==============================] - 2s 25ms/step - loss: 0.0655 - accuracy: 0.9841 - val_loss: 0.7659 - val_accuracy: 0.7664\n",
      "Epoch 10/10\n",
      "100/100 [==============================] - 3s 25ms/step - loss: 0.0653 - accuracy: 0.9806 - val_loss: 0.6767 - val_accuracy: 0.7732\n",
      "782/782 [==============================] - 6s 6ms/step - loss: 0.4896 - accuracy: 0.7849\n",
      "Test acc: 0.785\n",
      "782/782 [==============================] - 5s 6ms/step - loss: 0.4896 - accuracy: 0.7849\n"
     ]
    },
    {
     "data": {
      "image/png": "[encoded data removed]",
      "text/plain": [
       "<Figure size 640x480 with 1 Axes>"
      ]
     },
     "metadata": {},
     "output_type": "display_data"
    }
   ],
   "source": [
    "import os\n",
    "import pathlib\n",
    "import random\n",
    "import matplotlib.pyplot as plt\n",
    "from tensorflow import keras\n",
    "from tensorflow.keras import layers\n",
    "\n",
    "# Downloading the datasets\n",
    "!curl -O https://ai.stanford.edu/~amaas/data/sentiment/aclImdb_v1.tar.gz\n",
    "!tar -xf aclImdb_v1.tar.gz\n",
    "!rm -r aclImdb/train/unsup\n",
    "\n",
    "# Defining directories to the paths\n",
    "base_dir = pathlib.Path(\"aclImdb\")\n",
    "train_dir = base_dir / \"train\"\n",
    "test_dir = base_dir / \"test\"\n",
    "\n",
    "# Creating the training, validation and test datasets\n",
    "batch_size = 32\n",
    "max_length = 150\n",
    "max_tokens = 10000\n",
    "\n",
    "# Training dataset\n",
    "train_ds = keras.utils.text_dataset_from_directory(\n",
    "    directory=train_dir,\n",
    "    batch_size=batch_size,\n",
    "    validation_split=0.2,\n",
    "    subset=\"training\",\n",
    "    seed=1337,\n",
    "    label_mode=\"binary\",\n",
    ")\n",
    "\n",
    "# Validation dataset\n",
    "val_ds = keras.utils.text_dataset_from_directory(\n",
    "    directory=train_dir,\n",
    "    batch_size=batch_size,\n",
    "    validation_split=0.2,\n",
    "    subset=\"validation\",\n",
    "    seed=1337,\n",
    "    label_mode=\"binary\",\n",
    ")\n",
    "\n",
    "# Test dataset\n",
    "test_ds = keras.utils.text_dataset_from_directory(\n",
    "    directory=test_dir,\n",
    "    batch_size=batch_size,\n",
    "    label_mode=\"binary\",\n",
    ")\n",
    "\n",
    "# Defining datasets of integer sequence\n",
    "text_only_train_ds = train_ds.map(lambda x, y: x)\n",
    "\n",
    "# Preparing datasets of integer sequence\n",
    "text_vectorization = layers.TextVectorization(\n",
    "    max_tokens=max_tokens,\n",
    "    output_mode=\"int\",\n",
    "    output_sequence_length=max_length,\n",
    ")\n",
    "text_vectorization.adapt(text_only_train_ds)\n",
    "\n",
    "int_train_ds = train_ds.map(\n",
    "    lambda x, y: (text_vectorization(x), y),\n",
    "    num_parallel_calls=4\n",
    ").take(100)\n",
    "\n",
    "int_val_ds = val_ds.map(\n",
    "    lambda x, y: (text_vectorization(x), y),\n",
    "    num_parallel_calls=4\n",
    ").take(10000)\n",
    "\n",
    "int_test_ds = test_ds.map(\n",
    "    lambda x, y: (text_vectorization(x), y),\n",
    "    num_parallel_calls=4\n",
    ").take(10000)\n",
    "\n",
    "# Model definition\n",
    "inputs = keras.Input(shape=(None,), dtype=\"int64\")\n",
    "embedded = layers.Embedding(input_dim=max_tokens, output_dim=256)(inputs)\n",
    "x = layers.Bidirectional(layers.LSTM(32))(embedded)\n",
    "x = layers.Dropout(0.5)(x)\n",
    "outputs = layers.Dense(1, activation=\"sigmoid\")(x)\n",
    "model = keras.Model(inputs, outputs)\n",
    "model.compile(optimizer=\"rmsprop\",\n",
    "              loss=\"binary_crossentropy\",\n",
    "              metrics=[\"accuracy\"])\n",
    "model.summary()\n",
    "\n",
    "# Model training\n",
    "callbacks = [\n",
    "    keras.callbacks.ModelCheckpoint(\"embeddings_bidir_gru.keras\",\n",
    "                                    save_best_only=True)\n",
    "]\n",
    "history = model.fit(int_train_ds, validation_data=int_val_ds, epochs=10, callbacks=callbacks)\n",
    "\n",
    "# Loading the best model and evaluating on the testing set\n",
    "model = keras.models.load_model(\"embeddings_bidir_gru.keras\")\n",
    "print(f\"Test acc: {model.evaluate(int_test_ds)[1]:.3f}\")\n",
    "\n",
    "# Extracting accuracies from past\n",
    "val_acc = history.history['val_accuracy']\n",
    "test_acc = model.evaluate(int_test_ds)[1]\n",
    "\n",
    "# Plotting\n",
    "plt.plot(range(1, len(val_acc) + 1), val_acc, label='Validation Accuracy')\n",
    "plt.axhline(y=test_acc, color='r', linestyle='--', label='Test Accuracy')\n",
    "plt.xlabel('Epoch')\n",
    "plt.ylabel('Accuracy')\n",
    "plt.title('Validation and Test Accuracies Over Epochs')\n",
    "plt.legend()\n",
    "plt.show()"
   ]
  },
  {
   "cell_type": "markdown",
   "metadata": {
    "id": "4Xli3Q9vKAm1"
   },
   "source": [
    "Enabling masking on embedding layer"
   ]
  },
  {
   "cell_type": "code",
   "execution_count": 26,
   "metadata": {
    "colab": {
     "base_uri": "https://localhost:8080/",
     "height": 1000
    },
    "id": "OKx_AMUrKHKN",
    "outputId": "9aa9f0e6-9e13-44cb-e5a4-a6208d0386e2"
   },
   "outputs": [
    {
     "name": "stdout",
     "output_type": "stream",
     "text": [
      "Model: \"model_2\"\n",
      "_________________________________________________________________\n",
      " Layer (type)                Output Shape              Param #   \n",
      "=================================================================\n",
      " input_3 (InputLayer)        [(None, None)]            0         \n",
      "                                                                 \n",
      " embedding_2 (Embedding)     (None, None, 256)         2560000   \n",
      "                                                                 \n",
      " bidirectional_2 (Bidirecti  (None, 64)                73984     \n",
      " onal)                                                           \n",
      "                                                                 \n",
      " dropout_2 (Dropout)         (None, 64)                0         \n",
      "                                                                 \n",
      " dense_2 (Dense)             (None, 1)                 65        \n",
      "                                                                 \n",
      "=================================================================\n",
      "Total params: 2634049 (10.05 MB)\n",
      "Trainable params: 2634049 (10.05 MB)\n",
      "Non-trainable params: 0 (0.00 Byte)\n",
      "_________________________________________________________________\n",
      "Epoch 1/10\n",
      "100/100 [==============================] - 17s 100ms/step - loss: 0.6843 - accuracy: 0.5634 - val_loss: 0.6348 - val_accuracy: 0.6596\n",
      "Epoch 2/10\n",
      "100/100 [==============================] - 5s 53ms/step - loss: 0.5473 - accuracy: 0.7337 - val_loss: 0.5514 - val_accuracy: 0.7356\n",
      "Epoch 3/10\n",
      "100/100 [==============================] - 4s 41ms/step - loss: 0.3772 - accuracy: 0.8478 - val_loss: 0.4563 - val_accuracy: 0.7812\n",
      "Epoch 4/10\n",
      "100/100 [==============================] - 4s 41ms/step - loss: 0.2735 - accuracy: 0.8947 - val_loss: 0.4969 - val_accuracy: 0.7932\n",
      "Epoch 5/10\n",
      "100/100 [==============================] - 3s 33ms/step - loss: 0.1992 - accuracy: 0.9294 - val_loss: 0.5710 - val_accuracy: 0.7494\n",
      "Epoch 6/10\n",
      "100/100 [==============================] - 3s 30ms/step - loss: 0.1388 - accuracy: 0.9559 - val_loss: 0.4510 - val_accuracy: 0.8010\n",
      "Epoch 7/10\n",
      "100/100 [==============================] - 3s 28ms/step - loss: 0.1072 - accuracy: 0.9666 - val_loss: 0.4769 - val_accuracy: 0.7924\n",
      "Epoch 8/10\n",
      "100/100 [==============================] - 3s 34ms/step - loss: 0.0747 - accuracy: 0.9781 - val_loss: 0.5028 - val_accuracy: 0.7942\n",
      "Epoch 9/10\n",
      "100/100 [==============================] - 3s 29ms/step - loss: 0.0545 - accuracy: 0.9806 - val_loss: 0.7239 - val_accuracy: 0.7760\n",
      "Epoch 10/10\n",
      "100/100 [==============================] - 3s 29ms/step - loss: 0.0492 - accuracy: 0.9856 - val_loss: 0.6707 - val_accuracy: 0.7802\n",
      "782/782 [==============================] - 9s 7ms/step - loss: 0.4808 - accuracy: 0.7886\n",
      "Test acc: 0.789\n",
      "782/782 [==============================] - 5s 7ms/step - loss: 0.4808 - accuracy: 0.7886\n"
     ]
    },
    {
     "data": {
      "image/png": "[encoded data removed]",
      "text/plain": [
       "<Figure size 640x480 with 1 Axes>"
      ]
     },
     "metadata": {},
     "output_type": "display_data"
    }
   ],
   "source": [
    "import matplotlib.pyplot as plt\n",
    "\n",
    "inputs = keras.Input(shape=(None,), dtype=\"int64\")\n",
    "embedded = layers.Embedding(\n",
    "    input_dim=max_tokens, output_dim=256, mask_zero=True)(inputs)\n",
    "x = layers.Bidirectional(layers.LSTM(32))(embedded)\n",
    "x = layers.Dropout(0.5)(x)\n",
    "outputs = layers.Dense(1, activation=\"sigmoid\")(x)\n",
    "model = keras.Model(inputs, outputs)\n",
    "model.compile(optimizer=\"rmsprop\",\n",
    "              loss=\"binary_crossentropy\",\n",
    "              metrics=[\"accuracy\"])\n",
    "model.summary()\n",
    "\n",
    "callbacks = [\n",
    "    keras.callbacks.ModelCheckpoint(\"embeddings_bidir_gru_with_masking.keras\",\n",
    "                                    save_best_only=True)\n",
    "]\n",
    "history = model.fit(int_train_ds, validation_data=int_val_ds, epochs=10, callbacks=callbacks)\n",
    "model = keras.models.load_model(\"embeddings_bidir_gru_with_masking.keras\")\n",
    "print(f\"Test acc: {model.evaluate(int_test_ds)[1]:.3f}\")\n",
    "\n",
    "# Extracting accuracies from past\n",
    "val_acc = history.history['val_accuracy']\n",
    "test_acc = model.evaluate(int_test_ds)[1]\n",
    "\n",
    "# Plotting\n",
    "plt.plot(range(1, len(val_acc) + 1), val_acc, label='Validation Accuracy')\n",
    "plt.axhline(y=test_acc, color='r', linestyle='--', label='Test Accuracy')\n",
    "plt.xlabel('Epoch')\n",
    "plt.ylabel('Accuracy')\n",
    "plt.title('Validation and Test Accuracies Over Epochs')\n",
    "plt.legend()\n",
    "plt.show()"
   ]
  },
  {
   "cell_type": "markdown",
   "metadata": {
    "id": "Eq83_2aVKgV1"
   },
   "source": [
    "Pretrained embeddings"
   ]
  },
  {
   "cell_type": "code",
   "execution_count": 27,
   "metadata": {
    "colab": {
     "base_uri": "https://localhost:8080/"
    },
    "id": "EcfrngbcKkbn",
    "outputId": "007e7a2c-173f-486d-ff3d-d562b68b53fb"
   },
   "outputs": [
    {
     "name": "stdout",
     "output_type": "stream",
     "text": [
      "--2024-05-05 05:11:46--  http://nlp.stanford.edu/data/glove.6B.zip\n",
      "Resolving nlp.stanford.edu (nlp.stanford.edu)... 171.64.67.140\n",
      "Connecting to nlp.stanford.edu (nlp.stanford.edu)|171.64.67.140|:80... connected.\n",
      "HTTP request sent, awaiting response... 302 Found\n",
      "Location: https://nlp.stanford.edu/data/glove.6B.zip [following]\n",
      "--2024-05-05 05:11:46--  https://nlp.stanford.edu/data/glove.6B.zip\n",
      "Connecting to nlp.stanford.edu (nlp.stanford.edu)|171.64.67.140|:443... connected.\n",
      "HTTP request sent, awaiting response... 301 Moved Permanently\n",
      "Location: https://downloads.cs.stanford.edu/nlp/data/glove.6B.zip [following]\n",
      "--2024-05-05 05:11:46--  https://downloads.cs.stanford.edu/nlp/data/glove.6B.zip\n",
      "Resolving downloads.cs.stanford.edu (downloads.cs.stanford.edu)... 171.64.64.22\n",
      "Connecting to downloads.cs.stanford.edu (downloads.cs.stanford.edu)|171.64.64.22|:443... connected.\n",
      "HTTP request sent, awaiting response... 200 OK\n",
      "Length: 862182613 (822M) [application/zip]\n",
      "Saving to: ‘glove.6B.zip’\n",
      "\n",
      "glove.6B.zip        100%[===================>] 822.24M  5.02MB/s    in 2m 39s  \n",
      "\n",
      "2024-05-05 05:14:26 (5.16 MB/s) - ‘glove.6B.zip’ saved [862182613/862182613]\n",
      "\n"
     ]
    }
   ],
   "source": [
    "!wget http://nlp.stanford.edu/data/glove.6B.zip\n",
    "!unzip -q glove.6B.zip"
   ]
  },
  {
   "cell_type": "markdown",
   "metadata": {
    "id": "MvflfWDmLP6L"
   },
   "source": [
    "Parsing the pretrained GloVe word-embeddings"
   ]
  },
  {
   "cell_type": "code",
   "execution_count": 28,
   "metadata": {
    "colab": {
     "base_uri": "https://localhost:8080/"
    },
    "id": "CSM8Jzi8LYLW",
    "outputId": "a2363d46-0376-4803-f748-4866c307bbec"
   },
   "outputs": [
    {
     "name": "stdout",
     "output_type": "stream",
     "text": [
      "Found 400000 word vectors.\n"
     ]
    }
   ],
   "source": [
    "import numpy as np\n",
    "path_to_glove_file = \"glove.6B.100d.txt\"\n",
    "\n",
    "embeddings_index = {}\n",
    "with open(path_to_glove_file) as f:\n",
    "    for line in f:\n",
    "        word, coefs = line.split(maxsplit=1)\n",
    "        coefs = np.fromstring(coefs, \"f\", sep=\" \")\n",
    "        embeddings_index[word] = coefs\n",
    "\n",
    "print(f\"Found {len(embeddings_index)} word vectors.\")"
   ]
  },
  {
   "cell_type": "markdown",
   "metadata": {
    "id": "kHsy3kG9MLam"
   },
   "source": [
    "Preparing the matrix"
   ]
  },
  {
   "cell_type": "code",
   "execution_count": 29,
   "metadata": {
    "id": "A7GB5z8OMOh0"
   },
   "outputs": [],
   "source": [
    "embedding_dim = 100\n",
    "\n",
    "vocabulary = text_vectorization.get_vocabulary()\n",
    "word_index = dict(zip(vocabulary, range(len(vocabulary))))\n",
    "\n",
    "embedding_matrix = np.zeros((max_tokens, embedding_dim))\n",
    "for word, i in word_index.items():\n",
    "    if i < max_tokens:\n",
    "        embedding_vector = embeddings_index.get(word)\n",
    "    if embedding_vector is not None:\n",
    "        embedding_matrix[i] = embedding_vector\n",
    "\n",
    "embedding_layer = layers.Embedding(\n",
    "    max_tokens,\n",
    "    embedding_dim,\n",
    "    embeddings_initializer=keras.initializers.Constant(embedding_matrix),\n",
    "    trainable=False,\n",
    "    mask_zero=True,\n",
    ")"
   ]
  },
  {
   "cell_type": "markdown",
   "metadata": {
    "id": "u3VVU3QrN9QQ"
   },
   "source": [
    "Model of pretrained embedding layer"
   ]
  },
  {
   "cell_type": "code",
   "execution_count": 30,
   "metadata": {
    "colab": {
     "base_uri": "https://localhost:8080/",
     "height": 1000
    },
    "id": "84b5DofWOEYc",
    "outputId": "5b2150f6-5fad-48bb-dfea-a25ce01a9624"
   },
   "outputs": [
    {
     "name": "stdout",
     "output_type": "stream",
     "text": [
      "Model: \"model_3\"\n",
      "_________________________________________________________________\n",
      " Layer (type)                Output Shape              Param #   \n",
      "=================================================================\n",
      " input_4 (InputLayer)        [(None, None)]            0         \n",
      "                                                                 \n",
      " embedding_3 (Embedding)     (None, None, 100)         1000000   \n",
      "                                                                 \n",
      " bidirectional_3 (Bidirecti  (None, 64)                34048     \n",
      " onal)                                                           \n",
      "                                                                 \n",
      " dropout_3 (Dropout)         (None, 64)                0         \n",
      "                                                                 \n",
      " dense_3 (Dense)             (None, 1)                 65        \n",
      "                                                                 \n",
      "=================================================================\n",
      "Total params: 1034113 (3.94 MB)\n",
      "Trainable params: 34113 (133.25 KB)\n",
      "Non-trainable params: 1000000 (3.81 MB)\n",
      "_________________________________________________________________\n",
      "Epoch 1/10\n",
      "100/100 [==============================] - 23s 159ms/step - loss: 0.6905 - accuracy: 0.5497 - val_loss: 0.6699 - val_accuracy: 0.5848\n",
      "Epoch 2/10\n",
      "100/100 [==============================] - 13s 134ms/step - loss: 0.6461 - accuracy: 0.6306 - val_loss: 0.6395 - val_accuracy: 0.6256\n",
      "Epoch 3/10\n",
      "100/100 [==============================] - 13s 129ms/step - loss: 0.6046 - accuracy: 0.6737 - val_loss: 0.5638 - val_accuracy: 0.7120\n",
      "Epoch 4/10\n",
      "100/100 [==============================] - 3s 25ms/step - loss: 0.5742 - accuracy: 0.7084 - val_loss: 0.5907 - val_accuracy: 0.6912\n",
      "Epoch 5/10\n",
      "100/100 [==============================] - 13s 133ms/step - loss: 0.5503 - accuracy: 0.7256 - val_loss: 0.5369 - val_accuracy: 0.7356\n",
      "Epoch 6/10\n",
      "100/100 [==============================] - 3s 29ms/step - loss: 0.5241 - accuracy: 0.7412 - val_loss: 0.5402 - val_accuracy: 0.7092\n",
      "Epoch 7/10\n",
      "100/100 [==============================] - 13s 129ms/step - loss: 0.4952 - accuracy: 0.7728 - val_loss: 0.5090 - val_accuracy: 0.7570\n",
      "Epoch 8/10\n",
      "100/100 [==============================] - 3s 26ms/step - loss: 0.4795 - accuracy: 0.7703 - val_loss: 0.5231 - val_accuracy: 0.7390\n",
      "Epoch 9/10\n",
      "100/100 [==============================] - 3s 27ms/step - loss: 0.4638 - accuracy: 0.7844 - val_loss: 0.5314 - val_accuracy: 0.7404\n",
      "Epoch 10/10\n",
      "100/100 [==============================] - 3s 26ms/step - loss: 0.4470 - accuracy: 0.7922 - val_loss: 0.5196 - val_accuracy: 0.7424\n",
      "782/782 [==============================] - 9s 7ms/step - loss: 0.5038 - accuracy: 0.7595\n",
      "Test acc: 0.760\n",
      "782/782 [==============================] - 5s 7ms/step - loss: 0.5038 - accuracy: 0.7595\n"
     ]
    },
    {
     "data": {
      "image/png": "[encoded data removed]",
      "text/plain": [
       "<Figure size 640x480 with 1 Axes>"
      ]
     },
     "metadata": {},
     "output_type": "display_data"
    }
   ],
   "source": [
    "import matplotlib.pyplot as plt\n",
    "\n",
    "inputs = keras.Input(shape=(None,), dtype=\"int64\")\n",
    "embedded = embedding_layer(inputs)\n",
    "x = layers.Bidirectional(layers.LSTM(32))(embedded)\n",
    "x = layers.Dropout(0.5)(x)\n",
    "outputs = layers.Dense(1, activation=\"sigmoid\")(x)\n",
    "model = keras.Model(inputs, outputs)\n",
    "model.compile(optimizer=\"rmsprop\",\n",
    "              loss=\"binary_crossentropy\",\n",
    "              metrics=[\"accuracy\"])\n",
    "model.summary()\n",
    "\n",
    "callbacks = [\n",
    "    keras.callbacks.ModelCheckpoint(\"glove_embeddings_sequence_model.keras\",\n",
    "                                    save_best_only=True)\n",
    "]\n",
    "history = model.fit(int_train_ds, validation_data=int_val_ds, epochs=10, callbacks=callbacks)\n",
    "model = keras.models.load_model(\"glove_embeddings_sequence_model.keras\")\n",
    "print(f\"Test acc: {model.evaluate(int_test_ds)[1]:.3f}\")\n",
    "\n",
    "# Extracting accuracies from the past\n",
    "val_acc = history.history['val_accuracy']\n",
    "test_acc = model.evaluate(int_test_ds)[1]\n",
    "\n",
    "# Plotting\n",
    "plt.plot(range(1, len(val_acc) + 1), val_acc, label='Validation Accuracy')\n",
    "plt.axhline(y=test_acc, color='r', linestyle='--', label='Test Accuracy')\n",
    "plt.xlabel('Epoch')\n",
    "plt.ylabel('Accuracy')\n",
    "plt.title('Validation and Test Accuracies Over Epochs')\n",
    "plt.legend()\n",
    "plt.show()"
   ]
  },
  {
   "cell_type": "markdown",
   "metadata": {
    "id": "mv32jPmrPm5W"
   },
   "source": [
    "Finding out to determine the number of traing samples at which point the embedding layer gives better performance"
   ]
  },
  {
   "cell_type": "code",
   "execution_count": 31,
   "metadata": {
    "id": "p_cxKR28QudO"
   },
   "outputs": [],
   "source": [
    "import os\n",
    "import pathlib\n",
    "import random\n",
    "import numpy as np\n",
    "from tensorflow import keras\n",
    "from tensorflow.keras import layers"
   ]
  },
  {
   "cell_type": "markdown",
   "metadata": {
    "id": "GMORt6gTQyhZ"
   },
   "source": [
    "Downloading and loading the data"
   ]
  },
  {
   "cell_type": "code",
   "execution_count": null,
   "metadata": {
    "id": "ZrvrHSN3Q1Y-"
   },
   "outputs": [],
   "source": [
    "!curl -O https://ai.stanford.edu/~amaas/data/sentiment/aclImdb_v1.tar.gz\n",
    "!tar -xf aclImdb_v1.tar.gz\n",
    "!rm -r aclImdb/train/unsup"
   ]
  },
  {
   "cell_type": "code",
   "execution_count": 32,
   "metadata": {
    "colab": {
     "base_uri": "https://localhost:8080/"
    },
    "id": "IX0SAkUpRDnd",
    "outputId": "90fbed03-d375-4f87-cd04-0c9966e36fbf"
   },
   "outputs": [
    {
     "name": "stdout",
     "output_type": "stream",
     "text": [
      "Found 25000 files belonging to 2 classes.\n",
      "Using 20000 files for training.\n",
      "Found 25000 files belonging to 2 classes.\n",
      "Using 5000 files for validation.\n",
      "Found 25000 files belonging to 2 classes.\n"
     ]
    }
   ],
   "source": [
    "#Defining directories to the paths\n",
    "base_dir = pathlib.Path(\"aclImdb\")\n",
    "train_dir = base_dir / \"train\"\n",
    "test_dir = base_dir / \"test\"\n",
    "\n",
    "#Creating training, validation and testing datasets\n",
    "batch_size = 32\n",
    "max_length = 150\n",
    "max_tokens = 10000\n",
    "\n",
    "# Training dataset\n",
    "train_ds = keras.utils.text_dataset_from_directory(\n",
    "    directory=train_dir,\n",
    "    batch_size=batch_size,\n",
    "    validation_split=0.2,\n",
    "    subset=\"training\",\n",
    "    seed=1337,\n",
    "    label_mode=\"binary\",\n",
    ")\n",
    "\n",
    "# Validation dataset\n",
    "val_ds = keras.utils.text_dataset_from_directory(\n",
    "    directory=train_dir,\n",
    "    batch_size=batch_size,\n",
    "    validation_split=0.2,\n",
    "    subset=\"validation\",\n",
    "    seed=1337,\n",
    "    label_mode=\"binary\",\n",
    ")\n",
    "\n",
    "# Test dataset\n",
    "test_ds = keras.utils.text_dataset_from_directory(\n",
    "    directory=test_dir,\n",
    "    batch_size=batch_size,\n",
    "    label_mode=\"binary\",\n",
    ")"
   ]
  },
  {
   "cell_type": "markdown",
   "metadata": {
    "id": "gDJ1qWiNRbwC"
   },
   "source": [
    "Defining datasets of integer sequence"
   ]
  },
  {
   "cell_type": "code",
   "execution_count": 33,
   "metadata": {
    "id": "HMXCTLy3R35f"
   },
   "outputs": [],
   "source": [
    "text_only_train_ds = train_ds.map(lambda x, y: x)"
   ]
  },
  {
   "cell_type": "markdown",
   "metadata": {
    "id": "lrmGBFHBSAsS"
   },
   "source": [
    "Preparing datasets of integer sequence"
   ]
  },
  {
   "cell_type": "code",
   "execution_count": 34,
   "metadata": {
    "id": "diroLsUCSFkP"
   },
   "outputs": [],
   "source": [
    "text_vectorization = layers.TextVectorization(\n",
    "    max_tokens=max_tokens,\n",
    "    output_mode=\"int\",\n",
    "    output_sequence_length=max_length,\n",
    ")\n",
    "text_vectorization.adapt(text_only_train_ds)"
   ]
  },
  {
   "cell_type": "markdown",
   "metadata": {
    "id": "M5mHfiuOSKtv"
   },
   "source": [
    "Defining the embedding layer"
   ]
  },
  {
   "cell_type": "code",
   "execution_count": 35,
   "metadata": {
    "id": "kwEzP8CVSSN5"
   },
   "outputs": [],
   "source": [
    "embedding_dim = 100\n",
    "path_to_glove_file = \"glove.6B.100d.txt\"\n",
    "embeddings_index = {}\n",
    "with open(path_to_glove_file) as f:\n",
    "    for line in f:\n",
    "        word, coefs = line.split(maxsplit=1)\n",
    "        coefs = np.fromstring(coefs, \"f\", sep=\" \")\n",
    "        embeddings_index[word] = coefs\n",
    "\n",
    "vocabulary = text_vectorization.get_vocabulary()\n",
    "word_index = dict(zip(vocabulary, range(len(vocabulary))))\n",
    "embedding_matrix = np.zeros((max_tokens, embedding_dim))\n",
    "for word, i in word_index.items():\n",
    "    if i < max_tokens:\n",
    "        embedding_vector = embeddings_index.get(word)\n",
    "        if embedding_vector is not None:\n",
    "            embedding_matrix[i] = embedding_vector\n",
    "\n",
    "embedding_layer = layers.Embedding(\n",
    "    max_tokens,\n",
    "    embedding_dim,\n",
    "    embeddings_initializer=keras.initializers.Constant(embedding_matrix),\n",
    "    trainable=False,\n",
    "    mask_zero=True,\n",
    ")"
   ]
  },
  {
   "cell_type": "markdown",
   "metadata": {
    "id": "aweeiqoPSYpn"
   },
   "source": [
    "Defining architecture of the model with one-hot encoding"
   ]
  },
  {
   "cell_type": "code",
   "execution_count": 36,
   "metadata": {
    "id": "8YRt4BTSSpPY"
   },
   "outputs": [],
   "source": [
    "def get_one_hot_model():\n",
    "    inputs = keras.Input(shape=(None,), dtype=\"int64\")\n",
    "    embedded = tf.one_hot(inputs, depth=max_tokens)\n",
    "    x = layers.Bidirectional(layers.LSTM(32))(embedded)\n",
    "    x = layers.Dropout(0.5)(x)\n",
    "    outputs = layers.Dense(1, activation=\"sigmoid\")(x)\n",
    "    model = keras.Model(inputs, outputs)\n",
    "    model.compile(optimizer=\"rmsprop\",\n",
    "                  loss=\"binary_crossentropy\",\n",
    "                  metrics=[\"accuracy\"])\n",
    "    return model"
   ]
  },
  {
   "cell_type": "markdown",
   "metadata": {
    "id": "ZlhO9sBOStUU"
   },
   "source": [
    "Defining architecture of the model with pretrained word embeddings"
   ]
  },
  {
   "cell_type": "code",
   "execution_count": 37,
   "metadata": {
    "id": "XwVehwzeS1he"
   },
   "outputs": [],
   "source": [
    "def get_embedding_model():\n",
    "    inputs = keras.Input(shape=(None,), dtype=\"int64\")\n",
    "    embedded = embedding_layer(inputs)\n",
    "    x = layers.Bidirectional(layers.LSTM(32))(embedded)\n",
    "    x = layers.Dropout(0.5)(x)\n",
    "    outputs = layers.Dense(1, activation=\"sigmoid\")(x)\n",
    "    model = keras.Model(inputs, outputs)\n",
    "    model.compile(optimizer=\"rmsprop\",\n",
    "                  loss=\"binary_crossentropy\",\n",
    "                  metrics=[\"accuracy\"])\n",
    "    return model"
   ]
  },
  {
   "cell_type": "markdown",
   "metadata": {
    "id": "eiXJyW61S5TR"
   },
   "source": [
    "Training and evaluating model with change in number of training samples"
   ]
  },
  {
   "cell_type": "code",
   "execution_count": 38,
   "metadata": {
    "colab": {
     "base_uri": "https://localhost:8080/",
     "height": 1000
    },
    "id": "8Z7QB1Y0UBLt",
    "outputId": "807c8a4c-ac8a-4c10-81e7-8b5b43ae8a78"
   },
   "outputs": [
    {
     "name": "stdout",
     "output_type": "stream",
     "text": [
      "  % Total    % Received % Xferd  Average Speed   Time    Time     Time  Current\n",
      "                                 Dload  Upload   Total   Spent    Left  Speed\n",
      "100 80.2M  100 80.2M    0     0  22.7M      0  0:00:03  0:00:03 --:--:-- 22.7M\n",
      "Found 25000 files belonging to 2 classes.\n",
      "Using 20000 files for training.\n",
      "Found 25000 files belonging to 2 classes.\n",
      "Using 5000 files for validation.\n",
      "Number of training samples: 100\n",
      "Validation accuracy: 0.765\n",
      "Test accuracy: 0.754\n",
      "\n",
      "Number of training samples: 500\n",
      "Validation accuracy: 0.843\n",
      "Test accuracy: 0.825\n",
      "\n",
      "Number of training samples: 1000\n",
      "Validation accuracy: 0.842\n",
      "Test accuracy: 0.828\n",
      "\n",
      "Number of training samples: 2000\n",
      "Validation accuracy: 0.845\n",
      "Test accuracy: 0.833\n",
      "\n",
      "Number of training samples: 5000\n",
      "Validation accuracy: 0.857\n",
      "Test accuracy: 0.835\n",
      "\n",
      "Number of training samples: 10000\n",
      "Validation accuracy: 0.854\n",
      "Test accuracy: 0.834\n",
      "\n"
     ]
    },
    {
     "data": {
      "image/png": "[encoded data removed]",
      "text/plain": [
       "<Figure size 640x480 with 1 Axes>"
      ]
     },
     "metadata": {},
     "output_type": "display_data"
    }
   ],
   "source": [
    "import tensorflow as tf\n",
    "import matplotlib.pyplot as plt\n",
    "\n",
    "# Defining the different number of samples to try\n",
    "num_training_samples = [100, 500, 1000, 2000, 5000, 10000]\n",
    "\n",
    "# Defining constants\n",
    "max_length = 150\n",
    "max_tokens = 10000\n",
    "batch_size = 32\n",
    "\n",
    "# Load the dataset\n",
    "!curl -O https://ai.stanford.edu/~amaas/data/sentiment/aclImdb_v1.tar.gz\n",
    "!tar -xf aclImdb_v1.tar.gz\n",
    "!rm -r aclImdb/train/unsup\n",
    "\n",
    "# Load the dataset\n",
    "train_ds = keras.utils.text_dataset_from_directory(\n",
    "    \"aclImdb/train\", batch_size=batch_size, validation_split=0.2, subset=\"training\", seed=1337\n",
    ")\n",
    "val_ds = keras.utils.text_dataset_from_directory(\n",
    "    \"aclImdb/train\", batch_size=batch_size, validation_split=0.2, subset=\"validation\", seed=1337\n",
    ")\n",
    "\n",
    "text_only_train_ds = train_ds.map(lambda x, y: x)\n",
    "\n",
    "# Preparing the vectorization layer\n",
    "text_vectorization = layers.TextVectorization(\n",
    "    max_tokens=max_tokens,\n",
    "    output_mode=\"int\",\n",
    "    output_sequence_length=max_length,\n",
    ")\n",
    "text_vectorization.adapt(text_only_train_ds)\n",
    "\n",
    "val_accuracies = []\n",
    "test_accuracies = []\n",
    "\n",
    "# Repeating different numbers of training samples\n",
    "for num_samples in num_training_samples:\n",
    "    # Prepare the integer sequence datasets\n",
    "    int_train_ds = train_ds.map(\n",
    "        lambda x, y: (text_vectorization(x), y),\n",
    "        num_parallel_calls=tf.data.AUTOTUNE\n",
    "    ).take(num_samples)\n",
    "    int_val_ds = val_ds.map(\n",
    "        lambda x, y: (text_vectorization(x), y),\n",
    "        num_parallel_calls=tf.data.AUTOTUNE\n",
    "    )\n",
    "\n",
    "    # Let's define the model\n",
    "    inputs = keras.Input(shape=(None,), dtype=\"int64\")\n",
    "    embedded = layers.Embedding(input_dim=max_tokens, output_dim=256)(inputs)\n",
    "    x = layers.Bidirectional(layers.LSTM(32))(embedded)\n",
    "    x = layers.Dropout(0.5)(x)\n",
    "    outputs = layers.Dense(1, activation=\"sigmoid\")(x)\n",
    "    model = keras.Model(inputs, outputs)\n",
    "    model.compile(optimizer=\"rmsprop\", loss=\"binary_crossentropy\", metrics=[\"accuracy\"])\n",
    "\n",
    "    # Train the model\n",
    "    model.fit(int_train_ds, validation_data=int_val_ds, epochs=5, verbose=0)\n",
    "\n",
    "    # Evaluate the model on validation and test sets\n",
    "    val_accuracy = model.evaluate(int_val_ds, verbose=0)[1]\n",
    "    test_accuracy = model.evaluate(int_test_ds, verbose=0)[1]\n",
    "\n",
    "    val_accuracies.append(val_accuracy)\n",
    "    test_accuracies.append(test_accuracy)\n",
    "\n",
    "    # Results\n",
    "    print(f\"Number of training samples: {num_samples}\")\n",
    "    print(f\"Validation accuracy: {val_accuracy:.3f}\")\n",
    "    print(f\"Test accuracy: {test_accuracy:.3f}\")\n",
    "    print()\n",
    "\n",
    "# Plotting\n",
    "plt.plot(num_training_samples, val_accuracies, label='Validation Accuracy')\n",
    "plt.plot(num_training_samples, test_accuracies, label='Test Accuracy')\n",
    "plt.xlabel('Number of Training Samples')\n",
    "plt.ylabel('Accuracy')\n",
    "plt.title('Validation and Test Accuracies vs. Number of Training Samples')\n",
    "plt.legend()\n",
    "plt.show()"
   ]
  }
 ],
 "metadata": {
  "accelerator": "GPU",
  "colab": {
   "gpuType": "A100",
   "machine_shape": "hm",
   "provenance": []
  },
  "kernelspec": {
   "display_name": "Python 3 (ipykernel)",
   "language": "python",
   "name": "python3"
  },
  "language_info": {
   "codemirror_mode": {
    "name": "ipython",
    "version": 3
   },
   "file_extension": ".py",
   "mimetype": "text/x-python",
   "name": "python",
   "nbconvert_exporter": "python",
   "pygments_lexer": "ipython3",
   "version": "3.11.5"
  }
 },
 "nbformat": 4,
 "nbformat_minor": 1
}
