{
  "cells": [
    {
      "cell_type": "code",
      "execution_count": 1,
      "metadata": {
        "colab": {
          "base_uri": "https://localhost:8080/",
          "height": 90
        },
        "id": "0V654B_u7y3Q",
        "outputId": "bcdb0e56-05be-4de5-c9cc-a58b9b64c554"
      },
      "outputs": [
        {
          "output_type": "display_data",
          "data": {
            "text/plain": [
              "<IPython.core.display.HTML object>"
            ],
            "text/html": [
              "\n",
              "     <input type=\"file\" id=\"files-48ed8ad2-ec7e-4d93-9d1f-b4e4f98c5153\" name=\"files[]\" multiple disabled\n",
              "        style=\"border:none\" />\n",
              "     <output id=\"result-48ed8ad2-ec7e-4d93-9d1f-b4e4f98c5153\">\n",
              "      Upload widget is only available when the cell has been executed in the\n",
              "      current browser session. Please rerun this cell to enable.\n",
              "      </output>\n",
              "      <script>// Copyright 2017 Google LLC\n",
              "//\n",
              "// Licensed under the Apache License, Version 2.0 (the \"License\");\n",
              "// you may not use this file except in compliance with the License.\n",
              "// You may obtain a copy of the License at\n",
              "//\n",
              "//      http://www.apache.org/licenses/LICENSE-2.0\n",
              "//\n",
              "// Unless required by applicable law or agreed to in writing, software\n",
              "// distributed under the License is distributed on an \"AS IS\" BASIS,\n",
              "// WITHOUT WARRANTIES OR CONDITIONS OF ANY KIND, either express or implied.\n",
              "// See the License for the specific language governing permissions and\n",
              "// limitations under the License.\n",
              "\n",
              "/**\n",
              " * @fileoverview Helpers for google.colab Python module.\n",
              " */\n",
              "(function(scope) {\n",
              "function span(text, styleAttributes = {}) {\n",
              "  const element = document.createElement('span');\n",
              "  element.textContent = text;\n",
              "  for (const key of Object.keys(styleAttributes)) {\n",
              "    element.style[key] = styleAttributes[key];\n",
              "  }\n",
              "  return element;\n",
              "}\n",
              "\n",
              "// Max number of bytes which will be uploaded at a time.\n",
              "const MAX_PAYLOAD_SIZE = 100 * 1024;\n",
              "\n",
              "function _uploadFiles(inputId, outputId) {\n",
              "  const steps = uploadFilesStep(inputId, outputId);\n",
              "  const outputElement = document.getElementById(outputId);\n",
              "  // Cache steps on the outputElement to make it available for the next call\n",
              "  // to uploadFilesContinue from Python.\n",
              "  outputElement.steps = steps;\n",
              "\n",
              "  return _uploadFilesContinue(outputId);\n",
              "}\n",
              "\n",
              "// This is roughly an async generator (not supported in the browser yet),\n",
              "// where there are multiple asynchronous steps and the Python side is going\n",
              "// to poll for completion of each step.\n",
              "// This uses a Promise to block the python side on completion of each step,\n",
              "// then passes the result of the previous step as the input to the next step.\n",
              "function _uploadFilesContinue(outputId) {\n",
              "  const outputElement = document.getElementById(outputId);\n",
              "  const steps = outputElement.steps;\n",
              "\n",
              "  const next = steps.next(outputElement.lastPromiseValue);\n",
              "  return Promise.resolve(next.value.promise).then((value) => {\n",
              "    // Cache the last promise value to make it available to the next\n",
              "    // step of the generator.\n",
              "    outputElement.lastPromiseValue = value;\n",
              "    return next.value.response;\n",
              "  });\n",
              "}\n",
              "\n",
              "/**\n",
              " * Generator function which is called between each async step of the upload\n",
              " * process.\n",
              " * @param {string} inputId Element ID of the input file picker element.\n",
              " * @param {string} outputId Element ID of the output display.\n",
              " * @return {!Iterable<!Object>} Iterable of next steps.\n",
              " */\n",
              "function* uploadFilesStep(inputId, outputId) {\n",
              "  const inputElement = document.getElementById(inputId);\n",
              "  inputElement.disabled = false;\n",
              "\n",
              "  const outputElement = document.getElementById(outputId);\n",
              "  outputElement.innerHTML = '';\n",
              "\n",
              "  const pickedPromise = new Promise((resolve) => {\n",
              "    inputElement.addEventListener('change', (e) => {\n",
              "      resolve(e.target.files);\n",
              "    });\n",
              "  });\n",
              "\n",
              "  const cancel = document.createElement('button');\n",
              "  inputElement.parentElement.appendChild(cancel);\n",
              "  cancel.textContent = 'Cancel upload';\n",
              "  const cancelPromise = new Promise((resolve) => {\n",
              "    cancel.onclick = () => {\n",
              "      resolve(null);\n",
              "    };\n",
              "  });\n",
              "\n",
              "  // Wait for the user to pick the files.\n",
              "  const files = yield {\n",
              "    promise: Promise.race([pickedPromise, cancelPromise]),\n",
              "    response: {\n",
              "      action: 'starting',\n",
              "    }\n",
              "  };\n",
              "\n",
              "  cancel.remove();\n",
              "\n",
              "  // Disable the input element since further picks are not allowed.\n",
              "  inputElement.disabled = true;\n",
              "\n",
              "  if (!files) {\n",
              "    return {\n",
              "      response: {\n",
              "        action: 'complete',\n",
              "      }\n",
              "    };\n",
              "  }\n",
              "\n",
              "  for (const file of files) {\n",
              "    const li = document.createElement('li');\n",
              "    li.append(span(file.name, {fontWeight: 'bold'}));\n",
              "    li.append(span(\n",
              "        `(${file.type || 'n/a'}) - ${file.size} bytes, ` +\n",
              "        `last modified: ${\n",
              "            file.lastModifiedDate ? file.lastModifiedDate.toLocaleDateString() :\n",
              "                                    'n/a'} - `));\n",
              "    const percent = span('0% done');\n",
              "    li.appendChild(percent);\n",
              "\n",
              "    outputElement.appendChild(li);\n",
              "\n",
              "    const fileDataPromise = new Promise((resolve) => {\n",
              "      const reader = new FileReader();\n",
              "      reader.onload = (e) => {\n",
              "        resolve(e.target.result);\n",
              "      };\n",
              "      reader.readAsArrayBuffer(file);\n",
              "    });\n",
              "    // Wait for the data to be ready.\n",
              "    let fileData = yield {\n",
              "      promise: fileDataPromise,\n",
              "      response: {\n",
              "        action: 'continue',\n",
              "      }\n",
              "    };\n",
              "\n",
              "    // Use a chunked sending to avoid message size limits. See b/62115660.\n",
              "    let position = 0;\n",
              "    do {\n",
              "      const length = Math.min(fileData.byteLength - position, MAX_PAYLOAD_SIZE);\n",
              "      const chunk = new Uint8Array(fileData, position, length);\n",
              "      position += length;\n",
              "\n",
              "      const base64 = btoa(String.fromCharCode.apply(null, chunk));\n",
              "      yield {\n",
              "        response: {\n",
              "          action: 'append',\n",
              "          file: file.name,\n",
              "          data: base64,\n",
              "        },\n",
              "      };\n",
              "\n",
              "      let percentDone = fileData.byteLength === 0 ?\n",
              "          100 :\n",
              "          Math.round((position / fileData.byteLength) * 100);\n",
              "      percent.textContent = `${percentDone}% done`;\n",
              "\n",
              "    } while (position < fileData.byteLength);\n",
              "  }\n",
              "\n",
              "  // All done.\n",
              "  yield {\n",
              "    response: {\n",
              "      action: 'complete',\n",
              "    }\n",
              "  };\n",
              "}\n",
              "\n",
              "scope.google = scope.google || {};\n",
              "scope.google.colab = scope.google.colab || {};\n",
              "scope.google.colab._files = {\n",
              "  _uploadFiles,\n",
              "  _uploadFilesContinue,\n",
              "};\n",
              "})(self);\n",
              "</script> "
            ]
          },
          "metadata": {}
        },
        {
          "output_type": "stream",
          "name": "stdout",
          "text": [
            "Saving kaggle.json to kaggle.json\n"
          ]
        },
        {
          "output_type": "execute_result",
          "data": {
            "text/plain": [
              "{'kaggle.json': b'{\"username\":\"saikrishnagummalla\",\"key\":\"e3f053141e25f48b369759649dc594c5\"}'}"
            ]
          },
          "metadata": {},
          "execution_count": 1
        }
      ],
      "source": [
        "from google.colab import files\n",
        "files.upload()"
      ]
    },
    {
      "cell_type": "code",
      "execution_count": 2,
      "metadata": {
        "id": "LDorKbXq75qN"
      },
      "outputs": [],
      "source": [
        "!mkdir ~/.kaggle\n",
        "!cp kaggle.json ~/.kaggle/\n",
        "!chmod 600 ~/.kaggle/kaggle.json"
      ]
    },
    {
      "cell_type": "code",
      "execution_count": 3,
      "metadata": {
        "colab": {
          "base_uri": "https://localhost:8080/"
        },
        "id": "KcTNy2JX8DPN",
        "outputId": "e272a6b5-cca5-431e-8672-080c536f9517"
      },
      "outputs": [
        {
          "output_type": "stream",
          "name": "stdout",
          "text": [
            "Downloading dogs-vs-cats.zip to /content\n",
            "100% 810M/812M [00:21<00:00, 43.1MB/s]\n",
            "100% 812M/812M [00:21<00:00, 40.1MB/s]\n"
          ]
        }
      ],
      "source": [
        "!kaggle competitions download -c dogs-vs-cats"
      ]
    },
    {
      "cell_type": "code",
      "execution_count": 4,
      "metadata": {
        "id": "47h7uoNk8KWv"
      },
      "outputs": [],
      "source": [
        "!unzip -qq dogs-vs-cats.zip"
      ]
    },
    {
      "cell_type": "code",
      "execution_count": 5,
      "metadata": {
        "id": "QAoi2SkV8Smq"
      },
      "outputs": [],
      "source": [
        "!unzip -qq train.zip"
      ]
    },
    {
      "cell_type": "markdown",
      "metadata": {
        "id": "qaVmWO0J8Xbi"
      },
      "source": [
        "Question-1\n",
        "\n",
        "Consider the Cats & Dogs example. Start initially with a training sample of 1000, a validation sample of 500, and a test sample of 500 (like in the text). Use any technique to reduce overfitting and improve performance in developing a network that you train from scratch. What performance did you achieve?"
      ]
    },
    {
      "cell_type": "markdown",
      "metadata": {
        "id": "NfDXU_VT8cfD"
      },
      "source": [
        "A convolutional neural network needs to be created from scratch. As we have uploaded the dataset from kaggle already, lets create our subsets from the dataset which are training, validation and testing. We will be taking 1000 images for training, 500 images for validation and 500 images for testing."
      ]
    },
    {
      "cell_type": "code",
      "execution_count": 6,
      "metadata": {
        "id": "Y2F1tLOH-OCv"
      },
      "outputs": [],
      "source": [
        "import os, shutil, pathlib\n",
        "\n",
        "original_dir = pathlib.Path(\"train\")\n",
        "new_base_dir = pathlib.Path(\"cats_vs_dogs_small\")\n",
        "\n",
        "def make_subset(subset_name, start_index, end_index):\n",
        "    for category in (\"cat\", \"dog\"):\n",
        "        dir = new_base_dir / subset_name / category\n",
        "        os.makedirs(dir)\n",
        "        fnames = [f\"{category}.{i}.jpg\" for i in range(start_index, end_index)]\n",
        "        for fname in fnames:\n",
        "            shutil.copyfile(src=original_dir / fname,\n",
        "                            dst=dir / fname)\n",
        "\n",
        "make_subset(\"train\", start_index=0, end_index=500)\n",
        "make_subset(\"validation\", start_index=500, end_index=1000)\n",
        "make_subset(\"test\", start_index=1000, end_index=2000)"
      ]
    },
    {
      "cell_type": "markdown",
      "metadata": {
        "id": "n-jthsn_-b-3"
      },
      "source": [
        "\n",
        "Constructing the model\n",
        "\n",
        "Images which is 3D tensor in this case, are our input for this network, but they must first be transformed.Next, we use maxpooling with a 2x2 window (pool_size) and convolution with a 3x3 window (kernel_size).\n",
        "\n",
        "This assignment has the main goal of classifying images if that's a cat or a dog. To build in the dense layer, we need a layer that changes the 3D shape into 1D.\n",
        "\n",
        "Launching a small convolution for classifying cats and dogs"
      ]
    },
    {
      "cell_type": "code",
      "execution_count": 7,
      "metadata": {
        "id": "bSBvPHpB-5KR"
      },
      "outputs": [],
      "source": [
        "from tensorflow import keras\n",
        "from tensorflow.keras import layers\n",
        "\n",
        "inputs = keras.Input(shape=(180, 180, 3))\n",
        "x = layers.Rescaling(1./255)(inputs)\n",
        "x = layers.Conv2D(filters=32, kernel_size=3, activation=\"relu\")(x)\n",
        "x = layers.MaxPooling2D(pool_size=2)(x)\n",
        "x = layers.Conv2D(filters=64, kernel_size=3, activation=\"relu\")(x)\n",
        "x = layers.MaxPooling2D(pool_size=2)(x)\n",
        "x = layers.Conv2D(filters=128, kernel_size=3, activation=\"relu\")(x)\n",
        "x = layers.MaxPooling2D(pool_size=2)(x)\n",
        "x = layers.Conv2D(filters=256, kernel_size=3, activation=\"relu\")(x)\n",
        "x = layers.MaxPooling2D(pool_size=2)(x)\n",
        "x = layers.Conv2D(filters=256, kernel_size=3, activation=\"relu\")(x)\n",
        "x = layers.Flatten()(x)\n",
        "outputs = layers.Dense(1, activation=\"sigmoid\")(x)\n",
        "model = keras.Model(inputs=inputs, outputs=outputs)"
      ]
    },
    {
      "cell_type": "code",
      "execution_count": 8,
      "metadata": {
        "colab": {
          "base_uri": "https://localhost:8080/"
        },
        "id": "U13y4lYJApSa",
        "outputId": "5c12e388-0ce8-4202-8346-76cf6a80047e"
      },
      "outputs": [
        {
          "output_type": "stream",
          "name": "stdout",
          "text": [
            "Model: \"model\"\n",
            "_________________________________________________________________\n",
            " Layer (type)                Output Shape              Param #   \n",
            "=================================================================\n",
            " input_1 (InputLayer)        [(None, 180, 180, 3)]     0         \n",
            "                                                                 \n",
            " rescaling (Rescaling)       (None, 180, 180, 3)       0         \n",
            "                                                                 \n",
            " conv2d (Conv2D)             (None, 178, 178, 32)      896       \n",
            "                                                                 \n",
            " max_pooling2d (MaxPooling2  (None, 89, 89, 32)        0         \n",
            " D)                                                              \n",
            "                                                                 \n",
            " conv2d_1 (Conv2D)           (None, 87, 87, 64)        18496     \n",
            "                                                                 \n",
            " max_pooling2d_1 (MaxPoolin  (None, 43, 43, 64)        0         \n",
            " g2D)                                                            \n",
            "                                                                 \n",
            " conv2d_2 (Conv2D)           (None, 41, 41, 128)       73856     \n",
            "                                                                 \n",
            " max_pooling2d_2 (MaxPoolin  (None, 20, 20, 128)       0         \n",
            " g2D)                                                            \n",
            "                                                                 \n",
            " conv2d_3 (Conv2D)           (None, 18, 18, 256)       295168    \n",
            "                                                                 \n",
            " max_pooling2d_3 (MaxPoolin  (None, 9, 9, 256)         0         \n",
            " g2D)                                                            \n",
            "                                                                 \n",
            " conv2d_4 (Conv2D)           (None, 7, 7, 256)         590080    \n",
            "                                                                 \n",
            " flatten (Flatten)           (None, 12544)             0         \n",
            "                                                                 \n",
            " dense (Dense)               (None, 1)                 12545     \n",
            "                                                                 \n",
            "=================================================================\n",
            "Total params: 991041 (3.78 MB)\n",
            "Trainable params: 991041 (3.78 MB)\n",
            "Non-trainable params: 0 (0.00 Byte)\n",
            "_________________________________________________________________\n"
          ]
        }
      ],
      "source": [
        "model.summary()"
      ]
    },
    {
      "cell_type": "markdown",
      "metadata": {
        "id": "36833IcFBjIJ"
      },
      "source": [
        "We can see that there are 991,041 parameters to optimize.\n",
        "\n",
        "**Building the model for training**"
      ]
    },
    {
      "cell_type": "code",
      "execution_count": 9,
      "metadata": {
        "id": "xDdR4ty8BiKs"
      },
      "outputs": [],
      "source": [
        "model.compile(loss=\"binary_crossentropy\",\n",
        "              optimizer=\"rmsprop\",\n",
        "              metrics=[\"accuracy\"])"
      ]
    },
    {
      "cell_type": "markdown",
      "metadata": {
        "id": "rLo26t0SCYaK"
      },
      "source": [
        "**Data preprocessing**\n",
        "\n",
        "We will be using image_dataset_from_directory to read the images\n",
        "\n",
        "This code modifies the images to tensors as stated above in their respective folders of training,validation and test."
      ]
    },
    {
      "cell_type": "code",
      "execution_count": 10,
      "metadata": {
        "colab": {
          "base_uri": "https://localhost:8080/"
        },
        "id": "NHmd5rByCjyr",
        "outputId": "72dce03c-cec9-424c-f1cf-b0d307518a44"
      },
      "outputs": [
        {
          "output_type": "stream",
          "name": "stdout",
          "text": [
            "Found 1000 files belonging to 2 classes.\n",
            "Found 1000 files belonging to 2 classes.\n",
            "Found 2000 files belonging to 2 classes.\n"
          ]
        }
      ],
      "source": [
        "from tensorflow.keras.utils import image_dataset_from_directory\n",
        "\n",
        "dataset_Training = image_dataset_from_directory(\n",
        "    new_base_dir / \"train\",\n",
        "    image_size=(180, 180),\n",
        "    batch_size=32)\n",
        "dataset_Validation = image_dataset_from_directory(\n",
        "    new_base_dir / \"validation\",\n",
        "    image_size=(180, 180),\n",
        "    batch_size=32)\n",
        "dataset_Testing = image_dataset_from_directory(\n",
        "    new_base_dir / \"test\",\n",
        "    image_size=(180, 180),\n",
        "    batch_size=32)"
      ]
    },
    {
      "cell_type": "code",
      "execution_count": 11,
      "metadata": {
        "id": "V6qZIKThDfmq"
      },
      "outputs": [],
      "source": [
        "import numpy as np\n",
        "import tensorflow as tf\n",
        "random_numbers = np.random.normal(size=(1000, 16))\n",
        "data = tf.data.Dataset.from_tensor_slices(random_numbers)"
      ]
    },
    {
      "cell_type": "code",
      "execution_count": 12,
      "metadata": {
        "colab": {
          "base_uri": "https://localhost:8080/"
        },
        "id": "YHBM0jOHDhYp",
        "outputId": "2503ddf0-1878-4955-9cc6-45bc455f3cce"
      },
      "outputs": [
        {
          "output_type": "stream",
          "name": "stdout",
          "text": [
            "(16,)\n",
            "(16,)\n",
            "(16,)\n"
          ]
        }
      ],
      "source": [
        "for i, element in enumerate(data):\n",
        "    print(element.shape)\n",
        "    if i >= 2:\n",
        "        break"
      ]
    },
    {
      "cell_type": "code",
      "execution_count": 13,
      "metadata": {
        "colab": {
          "base_uri": "https://localhost:8080/"
        },
        "id": "bTtoS6DXDjuh",
        "outputId": "5d3d7e65-800c-4593-b831-9b3ff13af3b8"
      },
      "outputs": [
        {
          "output_type": "stream",
          "name": "stdout",
          "text": [
            "(32, 16)\n",
            "(32, 16)\n",
            "(32, 16)\n"
          ]
        }
      ],
      "source": [
        "data_batch = data.batch(32)\n",
        "for i, element in enumerate(data_batch):\n",
        "    print(element.shape)\n",
        "    if i >= 2:\n",
        "        break"
      ]
    },
    {
      "cell_type": "code",
      "execution_count": 14,
      "metadata": {
        "colab": {
          "base_uri": "https://localhost:8080/"
        },
        "id": "C8jCC5R-Dobd",
        "outputId": "59cd013a-29e5-46cd-e8f7-f51fa1546a34"
      },
      "outputs": [
        {
          "output_type": "stream",
          "name": "stdout",
          "text": [
            "(4, 4)\n",
            "(4, 4)\n",
            "(4, 4)\n"
          ]
        }
      ],
      "source": [
        "data_reshaped = data.map(lambda x: tf.reshape(x, (4, 4)))\n",
        "for i, element in enumerate(data_reshaped):\n",
        "    print(element.shape)\n",
        "    if i >= 2:\n",
        "        break"
      ]
    },
    {
      "cell_type": "code",
      "execution_count": 15,
      "metadata": {
        "colab": {
          "base_uri": "https://localhost:8080/"
        },
        "id": "QemArOEuDqnL",
        "outputId": "a2d6ddd7-5ae3-4467-e00a-6d8abb92a92c"
      },
      "outputs": [
        {
          "output_type": "stream",
          "name": "stdout",
          "text": [
            "data batch shape: (32, 180, 180, 3)\n",
            "labels batch shape: (32,)\n"
          ]
        }
      ],
      "source": [
        "for data_batch, labels_batch in dataset_Training:\n",
        "    print(\"data batch shape:\", data_batch.shape)\n",
        "    print(\"labels batch shape:\", labels_batch.shape)\n",
        "    break"
      ]
    },
    {
      "cell_type": "markdown",
      "metadata": {
        "id": "MR9IlfrFEDlP"
      },
      "source": [
        "**Applying the model**"
      ]
    },
    {
      "cell_type": "markdown",
      "metadata": {
        "id": "7SctToygENLh"
      },
      "source": [
        "Callbacks is used for this since there is no need of remodeling as callbacks will automatically store files containing the weights generated from the best epoch."
      ]
    },
    {
      "cell_type": "code",
      "execution_count": 16,
      "metadata": {
        "colab": {
          "base_uri": "https://localhost:8080/"
        },
        "id": "p2r9490CEC78",
        "outputId": "53494f9f-403b-4e9b-e71a-c43ee41ef9a6"
      },
      "outputs": [
        {
          "output_type": "stream",
          "name": "stdout",
          "text": [
            "Epoch 1/30\n",
            "32/32 [==============================] - 6s 46ms/step - loss: 0.7050 - accuracy: 0.5250 - val_loss: 0.7207 - val_accuracy: 0.5000\n",
            "Epoch 2/30\n",
            "32/32 [==============================] - 1s 29ms/step - loss: 0.6963 - accuracy: 0.5160 - val_loss: 0.6920 - val_accuracy: 0.5000\n",
            "Epoch 3/30\n",
            "32/32 [==============================] - 1s 27ms/step - loss: 0.7187 - accuracy: 0.5340 - val_loss: 0.7044 - val_accuracy: 0.5000\n",
            "Epoch 4/30\n",
            "32/32 [==============================] - 1s 27ms/step - loss: 0.6923 - accuracy: 0.5490 - val_loss: 0.7099 - val_accuracy: 0.5050\n",
            "Epoch 5/30\n",
            "32/32 [==============================] - 1s 30ms/step - loss: 0.6787 - accuracy: 0.5620 - val_loss: 0.6697 - val_accuracy: 0.6130\n",
            "Epoch 6/30\n",
            "32/32 [==============================] - 1s 27ms/step - loss: 0.6875 - accuracy: 0.6170 - val_loss: 0.7838 - val_accuracy: 0.5030\n",
            "Epoch 7/30\n",
            "32/32 [==============================] - 1s 26ms/step - loss: 0.6514 - accuracy: 0.6290 - val_loss: 0.7056 - val_accuracy: 0.5190\n",
            "Epoch 8/30\n",
            "32/32 [==============================] - 1s 30ms/step - loss: 0.6233 - accuracy: 0.6560 - val_loss: 0.6552 - val_accuracy: 0.5970\n",
            "Epoch 9/30\n",
            "32/32 [==============================] - 1s 28ms/step - loss: 0.6082 - accuracy: 0.6500 - val_loss: 0.7058 - val_accuracy: 0.5860\n",
            "Epoch 10/30\n",
            "32/32 [==============================] - 1s 30ms/step - loss: 0.5919 - accuracy: 0.6770 - val_loss: 0.6380 - val_accuracy: 0.6370\n",
            "Epoch 11/30\n",
            "32/32 [==============================] - 1s 29ms/step - loss: 0.5528 - accuracy: 0.7180 - val_loss: 0.7029 - val_accuracy: 0.6420\n",
            "Epoch 12/30\n",
            "32/32 [==============================] - 1s 31ms/step - loss: 0.5350 - accuracy: 0.7380 - val_loss: 0.6256 - val_accuracy: 0.6620\n",
            "Epoch 13/30\n",
            "32/32 [==============================] - 1s 28ms/step - loss: 0.4955 - accuracy: 0.7520 - val_loss: 0.7325 - val_accuracy: 0.6470\n",
            "Epoch 14/30\n",
            "32/32 [==============================] - 1s 27ms/step - loss: 0.4753 - accuracy: 0.7640 - val_loss: 0.7023 - val_accuracy: 0.6220\n",
            "Epoch 15/30\n",
            "32/32 [==============================] - 1s 27ms/step - loss: 0.4293 - accuracy: 0.7970 - val_loss: 0.7460 - val_accuracy: 0.6370\n",
            "Epoch 16/30\n",
            "32/32 [==============================] - 1s 26ms/step - loss: 0.4140 - accuracy: 0.8040 - val_loss: 0.9275 - val_accuracy: 0.6280\n",
            "Epoch 17/30\n",
            "32/32 [==============================] - 1s 27ms/step - loss: 0.3142 - accuracy: 0.8620 - val_loss: 0.7617 - val_accuracy: 0.6670\n",
            "Epoch 18/30\n",
            "32/32 [==============================] - 1s 27ms/step - loss: 0.2688 - accuracy: 0.8840 - val_loss: 0.9381 - val_accuracy: 0.6240\n",
            "Epoch 19/30\n",
            "32/32 [==============================] - 1s 26ms/step - loss: 0.2276 - accuracy: 0.9020 - val_loss: 0.8997 - val_accuracy: 0.6710\n",
            "Epoch 20/30\n",
            "32/32 [==============================] - 1s 26ms/step - loss: 0.1812 - accuracy: 0.9310 - val_loss: 1.1492 - val_accuracy: 0.6560\n",
            "Epoch 21/30\n",
            "32/32 [==============================] - 1s 26ms/step - loss: 0.1377 - accuracy: 0.9460 - val_loss: 1.4192 - val_accuracy: 0.6520\n",
            "Epoch 22/30\n",
            "32/32 [==============================] - 1s 27ms/step - loss: 0.1037 - accuracy: 0.9660 - val_loss: 1.0926 - val_accuracy: 0.6890\n",
            "Epoch 23/30\n",
            "32/32 [==============================] - 1s 27ms/step - loss: 0.0879 - accuracy: 0.9640 - val_loss: 1.3714 - val_accuracy: 0.6640\n",
            "Epoch 24/30\n",
            "32/32 [==============================] - 1s 26ms/step - loss: 0.0843 - accuracy: 0.9750 - val_loss: 2.1019 - val_accuracy: 0.6640\n",
            "Epoch 25/30\n",
            "32/32 [==============================] - 1s 28ms/step - loss: 0.0566 - accuracy: 0.9820 - val_loss: 1.5952 - val_accuracy: 0.6850\n",
            "Epoch 26/30\n",
            "32/32 [==============================] - 1s 28ms/step - loss: 0.0509 - accuracy: 0.9850 - val_loss: 1.5664 - val_accuracy: 0.6780\n",
            "Epoch 27/30\n",
            "32/32 [==============================] - 1s 29ms/step - loss: 0.0659 - accuracy: 0.9860 - val_loss: 1.6899 - val_accuracy: 0.6450\n",
            "Epoch 28/30\n",
            "32/32 [==============================] - 1s 28ms/step - loss: 0.0197 - accuracy: 0.9950 - val_loss: 1.8513 - val_accuracy: 0.6780\n",
            "Epoch 29/30\n",
            "32/32 [==============================] - 1s 29ms/step - loss: 0.1135 - accuracy: 0.9740 - val_loss: 1.3089 - val_accuracy: 0.6910\n",
            "Epoch 30/30\n",
            "32/32 [==============================] - 1s 27ms/step - loss: 0.0111 - accuracy: 0.9980 - val_loss: 1.7901 - val_accuracy: 0.6850\n"
          ]
        }
      ],
      "source": [
        "callbacks = [\n",
        "    keras.callbacks.ModelCheckpoint(\n",
        "        filepath=\"convnet_from_scratch.keras\",\n",
        "        save_best_only=True,\n",
        "        monitor=\"val_loss\")\n",
        "]\n",
        "history = model.fit(\n",
        "    dataset_Training,\n",
        "    epochs=30,\n",
        "    validation_data=dataset_Validation,\n",
        "    callbacks=callbacks)"
      ]
    },
    {
      "cell_type": "markdown",
      "metadata": {
        "id": "KImM0rBhFsNg"
      },
      "source": [
        "**Here are the loss and accuracy curves for the training model**"
      ]
    },
    {
      "cell_type": "code",
      "execution_count": 17,
      "metadata": {
        "colab": {
          "base_uri": "https://localhost:8080/",
          "height": 887
        },
        "id": "CwLHqvVQGODk",
        "outputId": "1716d98f-6e27-463c-be65-eea76066531f"
      },
      "outputs": [
        {
          "output_type": "display_data",
          "data": {
            "text/plain": [
              "<Figure size 640x480 with 1 Axes>"
            ],
            "image/png": "[encoded data removed]"
          },
          "metadata": {}
        },
        {
          "output_type": "display_data",
          "data": {
            "text/plain": [
              "<Figure size 640x480 with 1 Axes>"
            ],
            "image/png": "[encoded data removed]"
          },
          "metadata": {}
        }
      ],
      "source": [
        "import matplotlib.pyplot as plt\n",
        "accuracy = history.history[\"accuracy\"]\n",
        "val_accuracy = history.history[\"val_accuracy\"]\n",
        "loss = history.history[\"loss\"]\n",
        "val_loss = history.history[\"val_loss\"]\n",
        "epochs = range(1, len(accuracy) + 1)\n",
        "plt.plot(epochs, accuracy, \"bo\", label=\"Training accuracy\")\n",
        "plt.plot(epochs, val_accuracy, \"b\", label=\"Validation accuracy\")\n",
        "plt.title(\"Training and validation accuracy\")\n",
        "plt.legend()\n",
        "plt.figure()\n",
        "plt.plot(epochs, loss, \"bo\", label=\"Training loss\")\n",
        "plt.plot(epochs, val_loss, \"b\", label=\"Validation loss\")\n",
        "plt.title(\"Training and validation loss\")\n",
        "plt.legend()\n",
        "plt.show()"
      ]
    },
    {
      "cell_type": "markdown",
      "metadata": {
        "id": "86twEkEYVIxy"
      },
      "source": [
        "**Checking this model on the test set**"
      ]
    },
    {
      "cell_type": "code",
      "execution_count": 18,
      "metadata": {
        "colab": {
          "base_uri": "https://localhost:8080/"
        },
        "id": "zNEcWAyPVSmh",
        "outputId": "ed0fd90c-5113-423b-f4d1-ba5c00470168"
      },
      "outputs": [
        {
          "output_type": "stream",
          "name": "stdout",
          "text": [
            "63/63 [==============================] - 1s 11ms/step - loss: 0.6322 - accuracy: 0.6415\n",
            "Test accuracy: 0.641\n"
          ]
        }
      ],
      "source": [
        "test_model = keras.models.load_model(\"convnet_from_scratch.keras\")\n",
        "test_loss, test_acc = test_model.evaluate(dataset_Testing)\n",
        "print(f\"Test accuracy: {test_acc:.3f}\")"
      ]
    },
    {
      "cell_type": "markdown",
      "metadata": {
        "id": "dR3PmjpnRLrg"
      },
      "source": [
        "From the above output, we can see that the test accuracy is too low of 65%, therefore, to improve this model, we will be training our model with the below techniques:\n",
        "\n",
        "a) Data Augmentation\n",
        "\n",
        "b) Drop out Method\n",
        "\n",
        "c) Data Augmentation and drop out method"
      ]
    },
    {
      "cell_type": "markdown",
      "metadata": {
        "id": "O61vcXpsSE66"
      },
      "source": [
        "**a) Data Augmentation:**\n",
        "\n",
        "Applying data augmentation to image model:"
      ]
    },
    {
      "cell_type": "code",
      "execution_count": 19,
      "metadata": {
        "id": "Ljv6N4zYSOkg"
      },
      "outputs": [],
      "source": [
        "from tensorflow import keras\n",
        "from tensorflow.keras import layers\n",
        "data_augmentation = keras.Sequential(\n",
        "    [\n",
        "        layers.RandomFlip(\"horizontal\"),\n",
        "        layers.RandomRotation(0.1),\n",
        "        layers.RandomZoom(0.2),\n",
        "    ]\n",
        ")"
      ]
    },
    {
      "cell_type": "markdown",
      "metadata": {
        "id": "SLY8AbNoSaSJ"
      },
      "source": [
        "Building a new convnet"
      ]
    },
    {
      "cell_type": "code",
      "execution_count": 20,
      "metadata": {
        "id": "C2WiNzniSvPd"
      },
      "outputs": [],
      "source": [
        "inputs = keras.Input(shape=(180, 180, 3))\n",
        "x = data_augmentation(inputs)\n",
        "x = layers.Rescaling(1./255)(x)\n",
        "x = layers.Conv2D(filters=32, kernel_size=3, activation=\"relu\")(x)\n",
        "x = layers.MaxPooling2D(pool_size=2)(x)\n",
        "x = layers.Conv2D(filters=64, kernel_size=3, activation=\"relu\")(x)\n",
        "x = layers.MaxPooling2D(pool_size=2)(x)\n",
        "x = layers.Conv2D(filters=128, kernel_size=3, activation=\"relu\")(x)\n",
        "x = layers.MaxPooling2D(pool_size=2)(x)\n",
        "x = layers.Conv2D(filters=256, kernel_size=3, activation=\"relu\")(x)\n",
        "x = layers.MaxPooling2D(pool_size=2)(x)\n",
        "x = layers.Conv2D(filters=256, kernel_size=3, activation=\"relu\")(x)\n",
        "x = layers.Flatten()(x)\n",
        "outputs = layers.Dense(1, activation=\"sigmoid\")(x)\n",
        "model = keras.Model(inputs=inputs, outputs=outputs)\n",
        "\n",
        "model.compile(loss=\"binary_crossentropy\",\n",
        "              optimizer=\"rmsprop\",\n",
        "              metrics=[\"accuracy\"])"
      ]
    },
    {
      "cell_type": "markdown",
      "metadata": {
        "id": "UYqZTSqES1WP"
      },
      "source": [
        "Training the convnet"
      ]
    },
    {
      "cell_type": "code",
      "execution_count": 21,
      "metadata": {
        "colab": {
          "base_uri": "https://localhost:8080/"
        },
        "id": "BcdxfpEuS3sy",
        "outputId": "d9f80dd4-9a7c-4eb0-9266-bcf763a40bff"
      },
      "outputs": [
        {
          "output_type": "stream",
          "name": "stdout",
          "text": [
            "Epoch 1/100\n",
            "32/32 [==============================] - 3s 35ms/step - loss: 0.7005 - accuracy: 0.5070 - val_loss: 0.6929 - val_accuracy: 0.5000\n",
            "Epoch 2/100\n",
            "32/32 [==============================] - 1s 31ms/step - loss: 0.6931 - accuracy: 0.5130 - val_loss: 0.6928 - val_accuracy: 0.5000\n",
            "Epoch 3/100\n",
            "32/32 [==============================] - 1s 30ms/step - loss: 0.6953 - accuracy: 0.5390 - val_loss: 0.6914 - val_accuracy: 0.5790\n",
            "Epoch 4/100\n",
            "32/32 [==============================] - 1s 31ms/step - loss: 0.6859 - accuracy: 0.5650 - val_loss: 0.6892 - val_accuracy: 0.5350\n",
            "Epoch 5/100\n",
            "32/32 [==============================] - 1s 31ms/step - loss: 0.6869 - accuracy: 0.5700 - val_loss: 0.6756 - val_accuracy: 0.6080\n",
            "Epoch 6/100\n",
            "32/32 [==============================] - 1s 28ms/step - loss: 0.6610 - accuracy: 0.6210 - val_loss: 0.8549 - val_accuracy: 0.5080\n",
            "Epoch 7/100\n",
            "32/32 [==============================] - 1s 29ms/step - loss: 0.6515 - accuracy: 0.6330 - val_loss: 0.6991 - val_accuracy: 0.5640\n",
            "Epoch 8/100\n",
            "32/32 [==============================] - 1s 33ms/step - loss: 0.6527 - accuracy: 0.6490 - val_loss: 0.6578 - val_accuracy: 0.5910\n",
            "Epoch 9/100\n",
            "32/32 [==============================] - 1s 30ms/step - loss: 0.7250 - accuracy: 0.6660 - val_loss: 0.6755 - val_accuracy: 0.6440\n",
            "Epoch 10/100\n",
            "32/32 [==============================] - 1s 31ms/step - loss: 0.5902 - accuracy: 0.6870 - val_loss: 0.7578 - val_accuracy: 0.5390\n",
            "Epoch 11/100\n",
            "32/32 [==============================] - 1s 31ms/step - loss: 0.6078 - accuracy: 0.6790 - val_loss: 0.6568 - val_accuracy: 0.6430\n",
            "Epoch 12/100\n",
            "32/32 [==============================] - 1s 30ms/step - loss: 0.5858 - accuracy: 0.6820 - val_loss: 0.6047 - val_accuracy: 0.6850\n",
            "Epoch 13/100\n",
            "32/32 [==============================] - 1s 30ms/step - loss: 0.6201 - accuracy: 0.6950 - val_loss: 0.5848 - val_accuracy: 0.6950\n",
            "Epoch 14/100\n",
            "32/32 [==============================] - 1s 28ms/step - loss: 0.5661 - accuracy: 0.6990 - val_loss: 0.6206 - val_accuracy: 0.6570\n",
            "Epoch 15/100\n",
            "32/32 [==============================] - 1s 28ms/step - loss: 0.5788 - accuracy: 0.7090 - val_loss: 0.6007 - val_accuracy: 0.6870\n",
            "Epoch 16/100\n",
            "32/32 [==============================] - 1s 28ms/step - loss: 0.5620 - accuracy: 0.7100 - val_loss: 0.6136 - val_accuracy: 0.6650\n",
            "Epoch 17/100\n",
            "32/32 [==============================] - 1s 28ms/step - loss: 0.5611 - accuracy: 0.7150 - val_loss: 0.5903 - val_accuracy: 0.7050\n",
            "Epoch 18/100\n",
            "32/32 [==============================] - 1s 29ms/step - loss: 0.5733 - accuracy: 0.7100 - val_loss: 0.6076 - val_accuracy: 0.6560\n",
            "Epoch 19/100\n",
            "32/32 [==============================] - 1s 28ms/step - loss: 0.5267 - accuracy: 0.7420 - val_loss: 0.6414 - val_accuracy: 0.6220\n",
            "Epoch 20/100\n",
            "32/32 [==============================] - 1s 28ms/step - loss: 0.5329 - accuracy: 0.7310 - val_loss: 0.6059 - val_accuracy: 0.6750\n",
            "Epoch 21/100\n",
            "32/32 [==============================] - 1s 27ms/step - loss: 0.5296 - accuracy: 0.7330 - val_loss: 0.6118 - val_accuracy: 0.7000\n",
            "Epoch 22/100\n",
            "32/32 [==============================] - 1s 31ms/step - loss: 0.5267 - accuracy: 0.7380 - val_loss: 0.5746 - val_accuracy: 0.7030\n",
            "Epoch 23/100\n",
            "32/32 [==============================] - 1s 30ms/step - loss: 0.4911 - accuracy: 0.7680 - val_loss: 1.0021 - val_accuracy: 0.5680\n",
            "Epoch 24/100\n",
            "32/32 [==============================] - 1s 30ms/step - loss: 0.5299 - accuracy: 0.7330 - val_loss: 0.6030 - val_accuracy: 0.6950\n",
            "Epoch 25/100\n",
            "32/32 [==============================] - 1s 30ms/step - loss: 0.5095 - accuracy: 0.7470 - val_loss: 0.6086 - val_accuracy: 0.6890\n",
            "Epoch 26/100\n",
            "32/32 [==============================] - 1s 31ms/step - loss: 0.4900 - accuracy: 0.7500 - val_loss: 0.6336 - val_accuracy: 0.6720\n",
            "Epoch 27/100\n",
            "32/32 [==============================] - 1s 32ms/step - loss: 0.4790 - accuracy: 0.7690 - val_loss: 0.5434 - val_accuracy: 0.7330\n",
            "Epoch 28/100\n",
            "32/32 [==============================] - 1s 29ms/step - loss: 0.4738 - accuracy: 0.7600 - val_loss: 0.6276 - val_accuracy: 0.7130\n",
            "Epoch 29/100\n",
            "32/32 [==============================] - 1s 29ms/step - loss: 0.4798 - accuracy: 0.7730 - val_loss: 0.6490 - val_accuracy: 0.7040\n",
            "Epoch 30/100\n",
            "32/32 [==============================] - 1s 28ms/step - loss: 0.4485 - accuracy: 0.7860 - val_loss: 0.5451 - val_accuracy: 0.7320\n",
            "Epoch 31/100\n",
            "32/32 [==============================] - 1s 28ms/step - loss: 0.4674 - accuracy: 0.7650 - val_loss: 1.1546 - val_accuracy: 0.5890\n",
            "Epoch 32/100\n",
            "32/32 [==============================] - 1s 28ms/step - loss: 0.4408 - accuracy: 0.7870 - val_loss: 0.6293 - val_accuracy: 0.6880\n",
            "Epoch 33/100\n",
            "32/32 [==============================] - 1s 28ms/step - loss: 0.4451 - accuracy: 0.7960 - val_loss: 0.6619 - val_accuracy: 0.6990\n",
            "Epoch 34/100\n",
            "32/32 [==============================] - 1s 28ms/step - loss: 0.4435 - accuracy: 0.8050 - val_loss: 0.6073 - val_accuracy: 0.7060\n",
            "Epoch 35/100\n",
            "32/32 [==============================] - 1s 28ms/step - loss: 0.4261 - accuracy: 0.8060 - val_loss: 0.6151 - val_accuracy: 0.7000\n",
            "Epoch 36/100\n",
            "32/32 [==============================] - 1s 28ms/step - loss: 0.4157 - accuracy: 0.8150 - val_loss: 1.2268 - val_accuracy: 0.6390\n",
            "Epoch 37/100\n",
            "32/32 [==============================] - 1s 28ms/step - loss: 0.4184 - accuracy: 0.8110 - val_loss: 0.6576 - val_accuracy: 0.7190\n",
            "Epoch 38/100\n",
            "32/32 [==============================] - 1s 29ms/step - loss: 0.3905 - accuracy: 0.8300 - val_loss: 0.7313 - val_accuracy: 0.7060\n",
            "Epoch 39/100\n",
            "32/32 [==============================] - 1s 29ms/step - loss: 0.4247 - accuracy: 0.8020 - val_loss: 0.5574 - val_accuracy: 0.7480\n",
            "Epoch 40/100\n",
            "32/32 [==============================] - 1s 30ms/step - loss: 0.4091 - accuracy: 0.8120 - val_loss: 0.6014 - val_accuracy: 0.7290\n",
            "Epoch 41/100\n",
            "32/32 [==============================] - 1s 30ms/step - loss: 0.3908 - accuracy: 0.8240 - val_loss: 0.6214 - val_accuracy: 0.7400\n",
            "Epoch 42/100\n",
            "32/32 [==============================] - 1s 30ms/step - loss: 0.3919 - accuracy: 0.8290 - val_loss: 0.5816 - val_accuracy: 0.7410\n",
            "Epoch 43/100\n",
            "32/32 [==============================] - 1s 30ms/step - loss: 0.3435 - accuracy: 0.8480 - val_loss: 0.6515 - val_accuracy: 0.7210\n",
            "Epoch 44/100\n",
            "32/32 [==============================] - 1s 28ms/step - loss: 0.3712 - accuracy: 0.8360 - val_loss: 0.6067 - val_accuracy: 0.7600\n",
            "Epoch 45/100\n",
            "32/32 [==============================] - 1s 28ms/step - loss: 0.3679 - accuracy: 0.8330 - val_loss: 0.6013 - val_accuracy: 0.7490\n",
            "Epoch 46/100\n",
            "32/32 [==============================] - 1s 28ms/step - loss: 0.3481 - accuracy: 0.8390 - val_loss: 0.7308 - val_accuracy: 0.6960\n",
            "Epoch 47/100\n",
            "32/32 [==============================] - 1s 28ms/step - loss: 0.3764 - accuracy: 0.8400 - val_loss: 0.5626 - val_accuracy: 0.7180\n",
            "Epoch 48/100\n",
            "32/32 [==============================] - 1s 28ms/step - loss: 0.3585 - accuracy: 0.8440 - val_loss: 0.8414 - val_accuracy: 0.7050\n",
            "Epoch 49/100\n",
            "32/32 [==============================] - 1s 28ms/step - loss: 0.3407 - accuracy: 0.8580 - val_loss: 0.7420 - val_accuracy: 0.7250\n",
            "Epoch 50/100\n",
            "32/32 [==============================] - 1s 27ms/step - loss: 0.3175 - accuracy: 0.8740 - val_loss: 0.6801 - val_accuracy: 0.7240\n",
            "Epoch 51/100\n",
            "32/32 [==============================] - 1s 28ms/step - loss: 0.3178 - accuracy: 0.8600 - val_loss: 0.7496 - val_accuracy: 0.7010\n",
            "Epoch 52/100\n",
            "32/32 [==============================] - 1s 28ms/step - loss: 0.3176 - accuracy: 0.8540 - val_loss: 0.8013 - val_accuracy: 0.6840\n",
            "Epoch 53/100\n",
            "32/32 [==============================] - 1s 29ms/step - loss: 0.2923 - accuracy: 0.8720 - val_loss: 0.6448 - val_accuracy: 0.7770\n",
            "Epoch 54/100\n",
            "32/32 [==============================] - 1s 29ms/step - loss: 0.2900 - accuracy: 0.8720 - val_loss: 0.9053 - val_accuracy: 0.7100\n",
            "Epoch 55/100\n",
            "32/32 [==============================] - 1s 30ms/step - loss: 0.3036 - accuracy: 0.8710 - val_loss: 0.6607 - val_accuracy: 0.7570\n",
            "Epoch 56/100\n",
            "32/32 [==============================] - 1s 31ms/step - loss: 0.2888 - accuracy: 0.8710 - val_loss: 0.6069 - val_accuracy: 0.7440\n",
            "Epoch 57/100\n",
            "32/32 [==============================] - 1s 30ms/step - loss: 0.2632 - accuracy: 0.8960 - val_loss: 0.7332 - val_accuracy: 0.7430\n",
            "Epoch 58/100\n",
            "32/32 [==============================] - 1s 29ms/step - loss: 0.2750 - accuracy: 0.8780 - val_loss: 0.7926 - val_accuracy: 0.7550\n",
            "Epoch 59/100\n",
            "32/32 [==============================] - 1s 29ms/step - loss: 0.2879 - accuracy: 0.8780 - val_loss: 0.5618 - val_accuracy: 0.7730\n",
            "Epoch 60/100\n",
            "32/32 [==============================] - 1s 28ms/step - loss: 0.2552 - accuracy: 0.9070 - val_loss: 0.8583 - val_accuracy: 0.7160\n",
            "Epoch 61/100\n",
            "32/32 [==============================] - 1s 28ms/step - loss: 0.3015 - accuracy: 0.8710 - val_loss: 0.7130 - val_accuracy: 0.7490\n",
            "Epoch 62/100\n",
            "32/32 [==============================] - 1s 28ms/step - loss: 0.2603 - accuracy: 0.8940 - val_loss: 0.6665 - val_accuracy: 0.7600\n",
            "Epoch 63/100\n",
            "32/32 [==============================] - 1s 28ms/step - loss: 0.2712 - accuracy: 0.8910 - val_loss: 0.8367 - val_accuracy: 0.7290\n",
            "Epoch 64/100\n",
            "32/32 [==============================] - 1s 28ms/step - loss: 0.2327 - accuracy: 0.9020 - val_loss: 0.7766 - val_accuracy: 0.7440\n",
            "Epoch 65/100\n",
            "32/32 [==============================] - 1s 29ms/step - loss: 0.2523 - accuracy: 0.8920 - val_loss: 0.7109 - val_accuracy: 0.7260\n",
            "Epoch 66/100\n",
            "32/32 [==============================] - 1s 28ms/step - loss: 0.2673 - accuracy: 0.8990 - val_loss: 0.8671 - val_accuracy: 0.7280\n",
            "Epoch 67/100\n",
            "32/32 [==============================] - 1s 28ms/step - loss: 0.2182 - accuracy: 0.9050 - val_loss: 0.8081 - val_accuracy: 0.7390\n",
            "Epoch 68/100\n",
            "32/32 [==============================] - 1s 29ms/step - loss: 0.2678 - accuracy: 0.8930 - val_loss: 0.7423 - val_accuracy: 0.7430\n",
            "Epoch 69/100\n",
            "32/32 [==============================] - 1s 28ms/step - loss: 0.2093 - accuracy: 0.9120 - val_loss: 0.7163 - val_accuracy: 0.7590\n",
            "Epoch 70/100\n",
            "32/32 [==============================] - 1s 29ms/step - loss: 0.1878 - accuracy: 0.9210 - val_loss: 0.8137 - val_accuracy: 0.7610\n",
            "Epoch 71/100\n",
            "32/32 [==============================] - 1s 30ms/step - loss: 0.2054 - accuracy: 0.9170 - val_loss: 0.8494 - val_accuracy: 0.7430\n",
            "Epoch 72/100\n",
            "32/32 [==============================] - 1s 30ms/step - loss: 0.2203 - accuracy: 0.9180 - val_loss: 0.7190 - val_accuracy: 0.7670\n",
            "Epoch 73/100\n",
            "32/32 [==============================] - 1s 30ms/step - loss: 0.1983 - accuracy: 0.9230 - val_loss: 1.2082 - val_accuracy: 0.7080\n",
            "Epoch 74/100\n",
            "32/32 [==============================] - 1s 30ms/step - loss: 0.1877 - accuracy: 0.9240 - val_loss: 1.3604 - val_accuracy: 0.7000\n",
            "Epoch 75/100\n",
            "32/32 [==============================] - 1s 30ms/step - loss: 0.2057 - accuracy: 0.9210 - val_loss: 1.5891 - val_accuracy: 0.7130\n",
            "Epoch 76/100\n",
            "32/32 [==============================] - 1s 29ms/step - loss: 0.2213 - accuracy: 0.9080 - val_loss: 0.6771 - val_accuracy: 0.7590\n",
            "Epoch 77/100\n",
            "32/32 [==============================] - 1s 28ms/step - loss: 0.1945 - accuracy: 0.9220 - val_loss: 0.7701 - val_accuracy: 0.7780\n",
            "Epoch 78/100\n",
            "32/32 [==============================] - 1s 28ms/step - loss: 0.1544 - accuracy: 0.9440 - val_loss: 0.7678 - val_accuracy: 0.7680\n",
            "Epoch 79/100\n",
            "32/32 [==============================] - 1s 28ms/step - loss: 0.1778 - accuracy: 0.9300 - val_loss: 0.9707 - val_accuracy: 0.7330\n",
            "Epoch 80/100\n",
            "32/32 [==============================] - 1s 28ms/step - loss: 0.2077 - accuracy: 0.9190 - val_loss: 0.8010 - val_accuracy: 0.7600\n",
            "Epoch 81/100\n",
            "32/32 [==============================] - 1s 28ms/step - loss: 0.1498 - accuracy: 0.9510 - val_loss: 0.9486 - val_accuracy: 0.7550\n",
            "Epoch 82/100\n",
            "32/32 [==============================] - 1s 28ms/step - loss: 0.1824 - accuracy: 0.9360 - val_loss: 1.0011 - val_accuracy: 0.7530\n",
            "Epoch 83/100\n",
            "32/32 [==============================] - 1s 28ms/step - loss: 0.1666 - accuracy: 0.9410 - val_loss: 1.1597 - val_accuracy: 0.7420\n",
            "Epoch 84/100\n",
            "32/32 [==============================] - 1s 28ms/step - loss: 0.1369 - accuracy: 0.9500 - val_loss: 0.8705 - val_accuracy: 0.7690\n",
            "Epoch 85/100\n",
            "32/32 [==============================] - 1s 27ms/step - loss: 0.1693 - accuracy: 0.9370 - val_loss: 0.9512 - val_accuracy: 0.7630\n",
            "Epoch 86/100\n",
            "32/32 [==============================] - 1s 29ms/step - loss: 0.1558 - accuracy: 0.9370 - val_loss: 1.4008 - val_accuracy: 0.7420\n",
            "Epoch 87/100\n",
            "32/32 [==============================] - 1s 30ms/step - loss: 0.1844 - accuracy: 0.9340 - val_loss: 0.8325 - val_accuracy: 0.7470\n",
            "Epoch 88/100\n",
            "32/32 [==============================] - 1s 31ms/step - loss: 0.1607 - accuracy: 0.9450 - val_loss: 0.8703 - val_accuracy: 0.7650\n",
            "Epoch 89/100\n",
            "32/32 [==============================] - 1s 30ms/step - loss: 0.1251 - accuracy: 0.9510 - val_loss: 0.9062 - val_accuracy: 0.7680\n",
            "Epoch 90/100\n",
            "32/32 [==============================] - 1s 30ms/step - loss: 0.1516 - accuracy: 0.9410 - val_loss: 1.0224 - val_accuracy: 0.7660\n",
            "Epoch 91/100\n",
            "32/32 [==============================] - 1s 30ms/step - loss: 0.1673 - accuracy: 0.9350 - val_loss: 0.7880 - val_accuracy: 0.7580\n",
            "Epoch 92/100\n",
            "32/32 [==============================] - 1s 28ms/step - loss: 0.1491 - accuracy: 0.9460 - val_loss: 0.8245 - val_accuracy: 0.7450\n",
            "Epoch 93/100\n",
            "32/32 [==============================] - 1s 28ms/step - loss: 0.1334 - accuracy: 0.9470 - val_loss: 0.9085 - val_accuracy: 0.7730\n",
            "Epoch 94/100\n",
            "32/32 [==============================] - 1s 28ms/step - loss: 0.1249 - accuracy: 0.9550 - val_loss: 1.1624 - val_accuracy: 0.7300\n",
            "Epoch 95/100\n",
            "32/32 [==============================] - 1s 28ms/step - loss: 0.1489 - accuracy: 0.9460 - val_loss: 1.0185 - val_accuracy: 0.7620\n",
            "Epoch 96/100\n",
            "32/32 [==============================] - 1s 28ms/step - loss: 0.1274 - accuracy: 0.9540 - val_loss: 1.0679 - val_accuracy: 0.7550\n",
            "Epoch 97/100\n",
            "32/32 [==============================] - 1s 28ms/step - loss: 0.1022 - accuracy: 0.9630 - val_loss: 2.2945 - val_accuracy: 0.7030\n",
            "Epoch 98/100\n",
            "32/32 [==============================] - 1s 28ms/step - loss: 0.1445 - accuracy: 0.9530 - val_loss: 1.0817 - val_accuracy: 0.7510\n",
            "Epoch 99/100\n",
            "32/32 [==============================] - 1s 29ms/step - loss: 0.0875 - accuracy: 0.9620 - val_loss: 1.0756 - val_accuracy: 0.7690\n",
            "Epoch 100/100\n",
            "32/32 [==============================] - 1s 28ms/step - loss: 0.1906 - accuracy: 0.9410 - val_loss: 1.0111 - val_accuracy: 0.7530\n"
          ]
        }
      ],
      "source": [
        "callbacks = [\n",
        "    keras.callbacks.ModelCheckpoint(\n",
        "        filepath=\"convnet_from_scratch_with_augmentation.keras\",\n",
        "        save_best_only=True,\n",
        "        monitor=\"val_loss\")\n",
        "]\n",
        "history = model.fit(\n",
        "    dataset_Training,\n",
        "    epochs=100,\n",
        "    validation_data=dataset_Validation,\n",
        "     callbacks=callbacks)"
      ]
    },
    {
      "cell_type": "markdown",
      "source": [
        "Checking the test dataset"
      ],
      "metadata": {
        "id": "dgzhBQDhq2hB"
      }
    },
    {
      "cell_type": "code",
      "source": [
        "model_testing = keras.models.load_model(\n",
        "    \"convnet_from_scratch_with_augmentation.keras\")\n",
        "test_loss, test_acc = model_testing.evaluate(dataset_Testing)\n",
        "print(f\"Test accuracy: {test_acc:.3f}\")"
      ],
      "metadata": {
        "colab": {
          "base_uri": "https://localhost:8080/"
        },
        "id": "P6FZPT1Qq762",
        "outputId": "4a092f46-7c10-43bf-97f0-f8ec2b011e0c"
      },
      "execution_count": 22,
      "outputs": [
        {
          "output_type": "stream",
          "name": "stdout",
          "text": [
            "63/63 [==============================] - 1s 9ms/step - loss: 0.5251 - accuracy: 0.7400\n",
            "Test accuracy: 0.740\n"
          ]
        }
      ]
    },
    {
      "cell_type": "markdown",
      "source": [
        "**b) Drop out method:**"
      ],
      "metadata": {
        "id": "IogA_516rNFk"
      }
    },
    {
      "cell_type": "markdown",
      "source": [
        "Applying a new convnet including dropout"
      ],
      "metadata": {
        "id": "UPlkyKhErUG9"
      }
    },
    {
      "cell_type": "code",
      "source": [
        "inputs = keras.Input(shape=(180, 180, 3))\n",
        "x = layers.Rescaling(1./255)(inputs)\n",
        "x = layers.Conv2D(filters=32, kernel_size=3, activation=\"relu\")(x)\n",
        "x = layers.MaxPooling2D(pool_size=2)(x)\n",
        "x = layers.Conv2D(filters=64, kernel_size=3, activation=\"relu\")(x)\n",
        "x = layers.MaxPooling2D(pool_size=2)(x)\n",
        "x = layers.Conv2D(filters=128, kernel_size=3, activation=\"relu\")(x)\n",
        "x = layers.MaxPooling2D(pool_size=2)(x)\n",
        "x = layers.Conv2D(filters=256, kernel_size=3, activation=\"relu\")(x)\n",
        "x = layers.MaxPooling2D(pool_size=2)(x)\n",
        "x = layers.Conv2D(filters=256, kernel_size=3, activation=\"relu\")(x)\n",
        "x = layers.Flatten()(x)\n",
        "x = layers.Dropout(0.5)(x)\n",
        "outputs = layers.Dense(1, activation=\"sigmoid\")(x)\n",
        "model = keras.Model(inputs=inputs, outputs=outputs)\n",
        "\n",
        "model.compile(loss=\"binary_crossentropy\",\n",
        "              optimizer=\"rmsprop\",\n",
        "              metrics=[\"accuracy\"])"
      ],
      "metadata": {
        "id": "AlUIVMpJrTS3"
      },
      "execution_count": 23,
      "outputs": []
    },
    {
      "cell_type": "markdown",
      "source": [
        "Training the convnet"
      ],
      "metadata": {
        "id": "cTOKc7crry-G"
      }
    },
    {
      "cell_type": "code",
      "source": [
        "callbacks = [\n",
        "    keras.callbacks.ModelCheckpoint(\n",
        "        filepath=\"convnet_from_scratch_with_dropout.keras\",\n",
        "        save_best_only=True,\n",
        "        monitor=\"val_loss\")\n",
        "]\n",
        "history = model.fit(\n",
        "    dataset_Training,\n",
        "    epochs=30,\n",
        "    validation_data=dataset_Validation,\n",
        "    callbacks=callbacks)"
      ],
      "metadata": {
        "colab": {
          "base_uri": "https://localhost:8080/"
        },
        "id": "q7fyfa5Nr2XK",
        "outputId": "1717283c-96e1-4fb3-82f0-590e56b2cc8a"
      },
      "execution_count": 24,
      "outputs": [
        {
          "output_type": "stream",
          "name": "stdout",
          "text": [
            "Epoch 1/30\n",
            "32/32 [==============================] - 3s 34ms/step - loss: 0.7003 - accuracy: 0.4880 - val_loss: 0.6933 - val_accuracy: 0.5000\n",
            "Epoch 2/30\n",
            "32/32 [==============================] - 1s 30ms/step - loss: 0.6929 - accuracy: 0.5150 - val_loss: 0.6921 - val_accuracy: 0.5010\n",
            "Epoch 3/30\n",
            "32/32 [==============================] - 1s 30ms/step - loss: 0.6910 - accuracy: 0.5300 - val_loss: 0.6874 - val_accuracy: 0.5250\n",
            "Epoch 4/30\n",
            "32/32 [==============================] - 1s 26ms/step - loss: 0.6680 - accuracy: 0.6060 - val_loss: 0.7612 - val_accuracy: 0.5200\n",
            "Epoch 5/30\n",
            "32/32 [==============================] - 1s 29ms/step - loss: 0.6621 - accuracy: 0.6200 - val_loss: 0.6524 - val_accuracy: 0.6430\n",
            "Epoch 6/30\n",
            "32/32 [==============================] - 1s 29ms/step - loss: 0.6340 - accuracy: 0.6460 - val_loss: 0.6466 - val_accuracy: 0.6300\n",
            "Epoch 7/30\n",
            "32/32 [==============================] - 1s 26ms/step - loss: 0.6135 - accuracy: 0.6570 - val_loss: 0.6498 - val_accuracy: 0.6310\n",
            "Epoch 8/30\n",
            "32/32 [==============================] - 1s 27ms/step - loss: 0.6121 - accuracy: 0.6730 - val_loss: 0.7524 - val_accuracy: 0.5840\n",
            "Epoch 9/30\n",
            "32/32 [==============================] - 1s 26ms/step - loss: 0.5646 - accuracy: 0.7190 - val_loss: 1.0920 - val_accuracy: 0.5570\n",
            "Epoch 10/30\n",
            "32/32 [==============================] - 1s 29ms/step - loss: 0.5403 - accuracy: 0.7220 - val_loss: 0.6124 - val_accuracy: 0.6610\n",
            "Epoch 11/30\n",
            "32/32 [==============================] - 1s 27ms/step - loss: 0.5224 - accuracy: 0.7410 - val_loss: 0.6178 - val_accuracy: 0.6640\n",
            "Epoch 12/30\n",
            "32/32 [==============================] - 1s 27ms/step - loss: 0.4963 - accuracy: 0.7620 - val_loss: 1.0784 - val_accuracy: 0.5680\n",
            "Epoch 13/30\n",
            "32/32 [==============================] - 1s 27ms/step - loss: 0.4879 - accuracy: 0.7840 - val_loss: 0.7058 - val_accuracy: 0.6540\n",
            "Epoch 14/30\n",
            "32/32 [==============================] - 1s 27ms/step - loss: 0.4272 - accuracy: 0.8060 - val_loss: 0.6544 - val_accuracy: 0.7080\n",
            "Epoch 15/30\n",
            "32/32 [==============================] - 1s 28ms/step - loss: 0.4369 - accuracy: 0.7920 - val_loss: 0.7371 - val_accuracy: 0.6330\n",
            "Epoch 16/30\n",
            "32/32 [==============================] - 1s 29ms/step - loss: 0.3754 - accuracy: 0.8280 - val_loss: 0.7250 - val_accuracy: 0.6820\n",
            "Epoch 17/30\n",
            "32/32 [==============================] - 1s 31ms/step - loss: 0.3378 - accuracy: 0.8540 - val_loss: 0.6122 - val_accuracy: 0.7170\n",
            "Epoch 18/30\n",
            "32/32 [==============================] - 1s 28ms/step - loss: 0.3239 - accuracy: 0.8650 - val_loss: 0.7380 - val_accuracy: 0.6740\n",
            "Epoch 19/30\n",
            "32/32 [==============================] - 1s 28ms/step - loss: 0.3267 - accuracy: 0.8730 - val_loss: 0.7618 - val_accuracy: 0.6970\n",
            "Epoch 20/30\n",
            "32/32 [==============================] - 1s 26ms/step - loss: 0.2405 - accuracy: 0.9040 - val_loss: 1.1370 - val_accuracy: 0.5970\n",
            "Epoch 21/30\n",
            "32/32 [==============================] - 1s 26ms/step - loss: 0.2431 - accuracy: 0.9100 - val_loss: 0.8524 - val_accuracy: 0.6850\n",
            "Epoch 22/30\n",
            "32/32 [==============================] - 1s 27ms/step - loss: 0.1781 - accuracy: 0.9320 - val_loss: 0.8571 - val_accuracy: 0.6950\n",
            "Epoch 23/30\n",
            "32/32 [==============================] - 1s 26ms/step - loss: 0.1492 - accuracy: 0.9390 - val_loss: 0.9194 - val_accuracy: 0.7070\n",
            "Epoch 24/30\n",
            "32/32 [==============================] - 1s 26ms/step - loss: 0.1533 - accuracy: 0.9410 - val_loss: 1.3180 - val_accuracy: 0.7020\n",
            "Epoch 25/30\n",
            "32/32 [==============================] - 1s 26ms/step - loss: 0.1481 - accuracy: 0.9510 - val_loss: 1.4979 - val_accuracy: 0.6570\n",
            "Epoch 26/30\n",
            "32/32 [==============================] - 1s 26ms/step - loss: 0.1207 - accuracy: 0.9640 - val_loss: 1.1257 - val_accuracy: 0.6900\n",
            "Epoch 27/30\n",
            "32/32 [==============================] - 1s 28ms/step - loss: 0.1041 - accuracy: 0.9650 - val_loss: 1.1112 - val_accuracy: 0.6840\n",
            "Epoch 28/30\n",
            "32/32 [==============================] - 1s 27ms/step - loss: 0.0646 - accuracy: 0.9760 - val_loss: 1.4877 - val_accuracy: 0.6770\n",
            "Epoch 29/30\n",
            "32/32 [==============================] - 1s 27ms/step - loss: 0.0993 - accuracy: 0.9660 - val_loss: 1.2265 - val_accuracy: 0.7120\n",
            "Epoch 30/30\n",
            "32/32 [==============================] - 1s 27ms/step - loss: 0.0510 - accuracy: 0.9850 - val_loss: 1.5682 - val_accuracy: 0.6830\n"
          ]
        }
      ]
    },
    {
      "cell_type": "markdown",
      "source": [
        "Checking the test dataset"
      ],
      "metadata": {
        "id": "y07MknCBsNHg"
      }
    },
    {
      "cell_type": "code",
      "source": [
        "model_testing = keras.models.load_model(\n",
        "    \"convnet_from_scratch_with_dropout.keras\")\n",
        "test_loss, test_acc = test_model.evaluate(dataset_Testing)\n",
        "print(f\"Test accuracy: {test_acc:.3f}\")"
      ],
      "metadata": {
        "colab": {
          "base_uri": "https://localhost:8080/"
        },
        "id": "7r3vW4_gsUQZ",
        "outputId": "65b4228d-4871-4b26-ddc0-04174186c29b"
      },
      "execution_count": 25,
      "outputs": [
        {
          "output_type": "stream",
          "name": "stdout",
          "text": [
            "63/63 [==============================] - 1s 10ms/step - loss: 0.6322 - accuracy: 0.6415\n",
            "Test accuracy: 0.641\n"
          ]
        }
      ]
    },
    {
      "cell_type": "markdown",
      "source": [
        "**c) Image Augmentation and dropout method**"
      ],
      "metadata": {
        "id": "E3SNYqhaskqI"
      }
    },
    {
      "cell_type": "markdown",
      "source": [
        "Applying a data augmentation stage to an model"
      ],
      "metadata": {
        "id": "4P3twtr2s-Zz"
      }
    },
    {
      "cell_type": "code",
      "source": [
        "data_augmentation = keras.Sequential(\n",
        "    [\n",
        "        layers.RandomFlip(\"horizontal\"),\n",
        "        layers.RandomRotation(0.1),\n",
        "        layers.RandomZoom(0.2),\n",
        "    ]\n",
        ")"
      ],
      "metadata": {
        "id": "zAH8BzcttD9J"
      },
      "execution_count": 26,
      "outputs": []
    },
    {
      "cell_type": "markdown",
      "source": [
        "Building a new convnet including image augmentation and dropout"
      ],
      "metadata": {
        "id": "Tv3fKAbStVsC"
      }
    },
    {
      "cell_type": "code",
      "source": [
        "inputs = keras.Input(shape=(180, 180, 3))\n",
        "x = data_augmentation(inputs)\n",
        "x = layers.Rescaling(1./255)(x)\n",
        "x = layers.Conv2D(filters=32, kernel_size=3, activation=\"relu\")(x)\n",
        "x = layers.MaxPooling2D(pool_size=2)(x)\n",
        "x = layers.Conv2D(filters=64, kernel_size=3, activation=\"relu\")(x)\n",
        "x = layers.MaxPooling2D(pool_size=2)(x)\n",
        "x = layers.Conv2D(filters=128, kernel_size=3, activation=\"relu\")(x)\n",
        "x = layers.MaxPooling2D(pool_size=2)(x)\n",
        "x = layers.Conv2D(filters=256, kernel_size=3, activation=\"relu\")(x)\n",
        "x = layers.MaxPooling2D(pool_size=2)(x)\n",
        "x = layers.Conv2D(filters=256, kernel_size=3, activation=\"relu\")(x)\n",
        "x = layers.Flatten()(x)\n",
        "x = layers.Dropout(0.5)(x)\n",
        "outputs = layers.Dense(1, activation=\"sigmoid\")(x)\n",
        "model = keras.Model(inputs=inputs, outputs=outputs)\n",
        "\n",
        "model.compile(loss=\"binary_crossentropy\",\n",
        "              optimizer=\"rmsprop\",\n",
        "              metrics=[\"accuracy\"])"
      ],
      "metadata": {
        "id": "bax3lKhvtcvm"
      },
      "execution_count": 27,
      "outputs": []
    },
    {
      "cell_type": "markdown",
      "source": [
        "Training the convnet"
      ],
      "metadata": {
        "id": "Tw4YroFPthFP"
      }
    },
    {
      "cell_type": "code",
      "source": [
        "callbacks = [\n",
        "    keras.callbacks.ModelCheckpoint(\n",
        "        filepath=\"convnet_from_scratch_with_augmentation_dropout.keras\",\n",
        "        save_best_only=True,\n",
        "        monitor=\"val_loss\")\n",
        "]\n",
        "history = model.fit(\n",
        "    dataset_Training,\n",
        "    epochs=100,\n",
        "    validation_data=dataset_Validation,\n",
        "    callbacks=callbacks)"
      ],
      "metadata": {
        "colab": {
          "base_uri": "https://localhost:8080/"
        },
        "id": "hmUDwZAQtker",
        "outputId": "8039c801-63ee-4708-e0ba-71b5f33171e0"
      },
      "execution_count": 28,
      "outputs": [
        {
          "output_type": "stream",
          "name": "stdout",
          "text": [
            "Epoch 1/100\n",
            "32/32 [==============================] - 3s 37ms/step - loss: 0.6999 - accuracy: 0.4910 - val_loss: 0.6932 - val_accuracy: 0.5000\n",
            "Epoch 2/100\n",
            "32/32 [==============================] - 1s 31ms/step - loss: 0.6942 - accuracy: 0.5200 - val_loss: 0.6920 - val_accuracy: 0.5590\n",
            "Epoch 3/100\n",
            "32/32 [==============================] - 1s 28ms/step - loss: 0.6921 - accuracy: 0.5210 - val_loss: 0.8965 - val_accuracy: 0.5000\n",
            "Epoch 4/100\n",
            "32/32 [==============================] - 1s 28ms/step - loss: 0.6937 - accuracy: 0.5620 - val_loss: 0.7875 - val_accuracy: 0.5000\n",
            "Epoch 5/100\n",
            "32/32 [==============================] - 1s 28ms/step - loss: 0.6790 - accuracy: 0.5790 - val_loss: 6.2002 - val_accuracy: 0.5000\n",
            "Epoch 6/100\n",
            "32/32 [==============================] - 1s 28ms/step - loss: 0.7841 - accuracy: 0.6060 - val_loss: 0.7134 - val_accuracy: 0.5220\n",
            "Epoch 7/100\n",
            "32/32 [==============================] - 1s 31ms/step - loss: 0.6630 - accuracy: 0.6280 - val_loss: 0.6845 - val_accuracy: 0.5180\n",
            "Epoch 8/100\n",
            "32/32 [==============================] - 1s 28ms/step - loss: 0.6473 - accuracy: 0.6270 - val_loss: 0.7974 - val_accuracy: 0.5150\n",
            "Epoch 9/100\n",
            "32/32 [==============================] - 1s 29ms/step - loss: 0.6354 - accuracy: 0.6380 - val_loss: 0.6876 - val_accuracy: 0.6050\n",
            "Epoch 10/100\n",
            "32/32 [==============================] - 1s 29ms/step - loss: 0.6385 - accuracy: 0.6370 - val_loss: 0.8353 - val_accuracy: 0.5460\n",
            "Epoch 11/100\n",
            "32/32 [==============================] - 1s 29ms/step - loss: 0.6169 - accuracy: 0.6480 - val_loss: 0.7224 - val_accuracy: 0.5640\n",
            "Epoch 12/100\n",
            "32/32 [==============================] - 1s 32ms/step - loss: 0.6483 - accuracy: 0.6620 - val_loss: 0.6153 - val_accuracy: 0.6790\n",
            "Epoch 13/100\n",
            "32/32 [==============================] - 1s 30ms/step - loss: 0.5920 - accuracy: 0.6950 - val_loss: 0.6622 - val_accuracy: 0.6100\n",
            "Epoch 14/100\n",
            "32/32 [==============================] - 1s 33ms/step - loss: 0.6039 - accuracy: 0.6810 - val_loss: 0.5957 - val_accuracy: 0.6820\n",
            "Epoch 15/100\n",
            "32/32 [==============================] - 1s 31ms/step - loss: 0.5798 - accuracy: 0.6860 - val_loss: 0.6598 - val_accuracy: 0.6230\n",
            "Epoch 16/100\n",
            "32/32 [==============================] - 1s 31ms/step - loss: 0.5866 - accuracy: 0.6950 - val_loss: 0.6176 - val_accuracy: 0.6650\n",
            "Epoch 17/100\n",
            "32/32 [==============================] - 1s 31ms/step - loss: 0.5938 - accuracy: 0.6790 - val_loss: 0.6539 - val_accuracy: 0.6460\n",
            "Epoch 18/100\n",
            "32/32 [==============================] - 1s 28ms/step - loss: 0.5739 - accuracy: 0.7070 - val_loss: 0.5974 - val_accuracy: 0.7070\n",
            "Epoch 19/100\n",
            "32/32 [==============================] - 1s 28ms/step - loss: 0.5540 - accuracy: 0.7160 - val_loss: 0.6396 - val_accuracy: 0.6230\n",
            "Epoch 20/100\n",
            "32/32 [==============================] - 1s 31ms/step - loss: 0.5538 - accuracy: 0.7270 - val_loss: 0.5741 - val_accuracy: 0.6840\n",
            "Epoch 21/100\n",
            "32/32 [==============================] - 1s 28ms/step - loss: 0.5301 - accuracy: 0.7390 - val_loss: 0.8312 - val_accuracy: 0.5980\n",
            "Epoch 22/100\n",
            "32/32 [==============================] - 1s 29ms/step - loss: 0.5387 - accuracy: 0.7230 - val_loss: 0.6141 - val_accuracy: 0.6720\n",
            "Epoch 23/100\n",
            "32/32 [==============================] - 1s 28ms/step - loss: 0.5109 - accuracy: 0.7530 - val_loss: 0.5965 - val_accuracy: 0.6990\n",
            "Epoch 24/100\n",
            "32/32 [==============================] - 1s 29ms/step - loss: 0.5209 - accuracy: 0.7260 - val_loss: 0.9031 - val_accuracy: 0.5440\n",
            "Epoch 25/100\n",
            "32/32 [==============================] - 1s 28ms/step - loss: 0.5298 - accuracy: 0.7420 - val_loss: 0.6299 - val_accuracy: 0.6810\n",
            "Epoch 26/100\n",
            "32/32 [==============================] - 1s 29ms/step - loss: 0.4843 - accuracy: 0.7440 - val_loss: 0.6694 - val_accuracy: 0.6460\n",
            "Epoch 27/100\n",
            "32/32 [==============================] - 1s 28ms/step - loss: 0.5107 - accuracy: 0.7380 - val_loss: 0.7290 - val_accuracy: 0.6410\n",
            "Epoch 28/100\n",
            "32/32 [==============================] - 1s 30ms/step - loss: 0.4795 - accuracy: 0.7710 - val_loss: 0.9903 - val_accuracy: 0.5610\n",
            "Epoch 29/100\n",
            "32/32 [==============================] - 1s 29ms/step - loss: 0.4905 - accuracy: 0.7820 - val_loss: 1.0959 - val_accuracy: 0.6190\n",
            "Epoch 30/100\n",
            "32/32 [==============================] - 1s 30ms/step - loss: 0.4818 - accuracy: 0.7610 - val_loss: 0.6122 - val_accuracy: 0.7260\n",
            "Epoch 31/100\n",
            "32/32 [==============================] - 1s 30ms/step - loss: 0.4736 - accuracy: 0.7740 - val_loss: 0.6643 - val_accuracy: 0.6400\n",
            "Epoch 32/100\n",
            "32/32 [==============================] - 1s 29ms/step - loss: 0.4748 - accuracy: 0.7820 - val_loss: 0.7084 - val_accuracy: 0.6330\n",
            "Epoch 33/100\n",
            "32/32 [==============================] - 1s 32ms/step - loss: 0.4548 - accuracy: 0.7930 - val_loss: 0.5684 - val_accuracy: 0.7360\n",
            "Epoch 34/100\n",
            "32/32 [==============================] - 1s 28ms/step - loss: 0.4281 - accuracy: 0.7960 - val_loss: 0.5918 - val_accuracy: 0.7140\n",
            "Epoch 35/100\n",
            "32/32 [==============================] - 1s 29ms/step - loss: 0.4398 - accuracy: 0.7990 - val_loss: 0.6987 - val_accuracy: 0.6930\n",
            "Epoch 36/100\n",
            "32/32 [==============================] - 1s 28ms/step - loss: 0.4286 - accuracy: 0.7990 - val_loss: 0.7428 - val_accuracy: 0.6910\n",
            "Epoch 37/100\n",
            "32/32 [==============================] - 1s 32ms/step - loss: 0.4318 - accuracy: 0.7900 - val_loss: 0.5366 - val_accuracy: 0.7450\n",
            "Epoch 38/100\n",
            "32/32 [==============================] - 1s 29ms/step - loss: 0.4235 - accuracy: 0.7930 - val_loss: 0.8372 - val_accuracy: 0.6840\n",
            "Epoch 39/100\n",
            "32/32 [==============================] - 1s 28ms/step - loss: 0.4256 - accuracy: 0.8230 - val_loss: 0.6715 - val_accuracy: 0.7130\n",
            "Epoch 40/100\n",
            "32/32 [==============================] - 1s 28ms/step - loss: 0.4122 - accuracy: 0.8170 - val_loss: 0.8266 - val_accuracy: 0.7120\n",
            "Epoch 41/100\n",
            "32/32 [==============================] - 1s 29ms/step - loss: 0.3989 - accuracy: 0.8090 - val_loss: 0.5614 - val_accuracy: 0.7330\n",
            "Epoch 42/100\n",
            "32/32 [==============================] - 1s 29ms/step - loss: 0.4058 - accuracy: 0.8180 - val_loss: 0.5435 - val_accuracy: 0.7430\n",
            "Epoch 43/100\n",
            "32/32 [==============================] - 1s 28ms/step - loss: 0.3897 - accuracy: 0.8290 - val_loss: 0.6516 - val_accuracy: 0.7250\n",
            "Epoch 44/100\n",
            "32/32 [==============================] - 1s 30ms/step - loss: 0.3844 - accuracy: 0.8280 - val_loss: 0.7086 - val_accuracy: 0.6970\n",
            "Epoch 45/100\n",
            "32/32 [==============================] - 1s 29ms/step - loss: 0.3523 - accuracy: 0.8480 - val_loss: 0.9364 - val_accuracy: 0.7000\n",
            "Epoch 46/100\n",
            "32/32 [==============================] - 1s 30ms/step - loss: 0.3821 - accuracy: 0.8310 - val_loss: 0.5827 - val_accuracy: 0.7380\n",
            "Epoch 47/100\n",
            "32/32 [==============================] - 1s 30ms/step - loss: 0.3817 - accuracy: 0.8360 - val_loss: 0.5869 - val_accuracy: 0.7570\n",
            "Epoch 48/100\n",
            "32/32 [==============================] - 1s 30ms/step - loss: 0.3560 - accuracy: 0.8560 - val_loss: 0.6298 - val_accuracy: 0.7440\n",
            "Epoch 49/100\n",
            "32/32 [==============================] - 1s 30ms/step - loss: 0.3396 - accuracy: 0.8520 - val_loss: 0.6511 - val_accuracy: 0.7210\n",
            "Epoch 50/100\n",
            "32/32 [==============================] - 1s 30ms/step - loss: 0.3197 - accuracy: 0.8630 - val_loss: 0.9855 - val_accuracy: 0.6920\n",
            "Epoch 51/100\n",
            "32/32 [==============================] - 1s 29ms/step - loss: 0.3639 - accuracy: 0.8340 - val_loss: 0.6741 - val_accuracy: 0.7310\n",
            "Epoch 52/100\n",
            "32/32 [==============================] - 1s 28ms/step - loss: 0.3408 - accuracy: 0.8710 - val_loss: 0.6788 - val_accuracy: 0.7510\n",
            "Epoch 53/100\n",
            "32/32 [==============================] - 1s 28ms/step - loss: 0.3117 - accuracy: 0.8600 - val_loss: 0.6083 - val_accuracy: 0.7450\n",
            "Epoch 54/100\n",
            "32/32 [==============================] - 1s 28ms/step - loss: 0.3102 - accuracy: 0.8720 - val_loss: 0.6419 - val_accuracy: 0.7630\n",
            "Epoch 55/100\n",
            "32/32 [==============================] - 1s 28ms/step - loss: 0.3321 - accuracy: 0.8510 - val_loss: 0.8078 - val_accuracy: 0.7270\n",
            "Epoch 56/100\n",
            "32/32 [==============================] - 1s 28ms/step - loss: 0.3192 - accuracy: 0.8600 - val_loss: 0.9376 - val_accuracy: 0.6990\n",
            "Epoch 57/100\n",
            "32/32 [==============================] - 1s 28ms/step - loss: 0.2987 - accuracy: 0.8670 - val_loss: 0.6450 - val_accuracy: 0.7260\n",
            "Epoch 58/100\n",
            "32/32 [==============================] - 1s 28ms/step - loss: 0.3122 - accuracy: 0.8580 - val_loss: 0.7543 - val_accuracy: 0.7430\n",
            "Epoch 59/100\n",
            "32/32 [==============================] - 1s 28ms/step - loss: 0.3012 - accuracy: 0.8790 - val_loss: 0.8472 - val_accuracy: 0.6780\n",
            "Epoch 60/100\n",
            "32/32 [==============================] - 1s 30ms/step - loss: 0.3141 - accuracy: 0.8700 - val_loss: 0.5687 - val_accuracy: 0.7720\n",
            "Epoch 61/100\n",
            "32/32 [==============================] - 1s 30ms/step - loss: 0.2797 - accuracy: 0.8870 - val_loss: 0.5926 - val_accuracy: 0.7710\n",
            "Epoch 62/100\n",
            "32/32 [==============================] - 1s 31ms/step - loss: 0.2622 - accuracy: 0.8950 - val_loss: 0.7930 - val_accuracy: 0.7420\n",
            "Epoch 63/100\n",
            "32/32 [==============================] - 1s 30ms/step - loss: 0.2968 - accuracy: 0.8720 - val_loss: 0.7086 - val_accuracy: 0.7680\n",
            "Epoch 64/100\n",
            "32/32 [==============================] - 1s 30ms/step - loss: 0.2668 - accuracy: 0.8900 - val_loss: 0.8340 - val_accuracy: 0.7280\n",
            "Epoch 65/100\n",
            "32/32 [==============================] - 1s 29ms/step - loss: 0.2268 - accuracy: 0.9080 - val_loss: 0.7062 - val_accuracy: 0.7600\n",
            "Epoch 66/100\n",
            "32/32 [==============================] - 1s 28ms/step - loss: 0.2681 - accuracy: 0.8910 - val_loss: 0.7325 - val_accuracy: 0.7690\n",
            "Epoch 67/100\n",
            "32/32 [==============================] - 1s 28ms/step - loss: 0.2416 - accuracy: 0.8970 - val_loss: 0.8143 - val_accuracy: 0.7660\n",
            "Epoch 68/100\n",
            "32/32 [==============================] - 1s 28ms/step - loss: 0.2522 - accuracy: 0.8850 - val_loss: 1.0228 - val_accuracy: 0.6970\n",
            "Epoch 69/100\n",
            "32/32 [==============================] - 1s 29ms/step - loss: 0.2365 - accuracy: 0.9050 - val_loss: 1.0197 - val_accuracy: 0.7390\n",
            "Epoch 70/100\n",
            "32/32 [==============================] - 1s 27ms/step - loss: 0.2568 - accuracy: 0.8980 - val_loss: 1.0239 - val_accuracy: 0.7040\n",
            "Epoch 71/100\n",
            "32/32 [==============================] - 1s 28ms/step - loss: 0.2379 - accuracy: 0.8970 - val_loss: 0.7236 - val_accuracy: 0.7780\n",
            "Epoch 72/100\n",
            "32/32 [==============================] - 1s 28ms/step - loss: 0.2212 - accuracy: 0.9000 - val_loss: 1.0458 - val_accuracy: 0.7070\n",
            "Epoch 73/100\n",
            "32/32 [==============================] - 1s 28ms/step - loss: 0.2302 - accuracy: 0.9040 - val_loss: 0.9926 - val_accuracy: 0.7360\n",
            "Epoch 74/100\n",
            "32/32 [==============================] - 1s 28ms/step - loss: 0.2110 - accuracy: 0.9040 - val_loss: 0.9680 - val_accuracy: 0.7720\n",
            "Epoch 75/100\n",
            "32/32 [==============================] - 1s 29ms/step - loss: 0.2435 - accuracy: 0.9100 - val_loss: 1.2502 - val_accuracy: 0.6860\n",
            "Epoch 76/100\n",
            "32/32 [==============================] - 1s 29ms/step - loss: 0.2312 - accuracy: 0.9040 - val_loss: 0.8864 - val_accuracy: 0.6990\n",
            "Epoch 77/100\n",
            "32/32 [==============================] - 1s 29ms/step - loss: 0.1959 - accuracy: 0.9090 - val_loss: 0.8589 - val_accuracy: 0.7690\n",
            "Epoch 78/100\n",
            "32/32 [==============================] - 1s 29ms/step - loss: 0.2249 - accuracy: 0.9140 - val_loss: 0.8500 - val_accuracy: 0.7410\n",
            "Epoch 79/100\n",
            "32/32 [==============================] - 1s 29ms/step - loss: 0.2001 - accuracy: 0.9110 - val_loss: 0.9270 - val_accuracy: 0.7820\n",
            "Epoch 80/100\n",
            "32/32 [==============================] - 1s 30ms/step - loss: 0.2058 - accuracy: 0.9170 - val_loss: 0.7270 - val_accuracy: 0.7720\n",
            "Epoch 81/100\n",
            "32/32 [==============================] - 1s 29ms/step - loss: 0.1797 - accuracy: 0.9410 - val_loss: 0.7721 - val_accuracy: 0.7710\n",
            "Epoch 82/100\n",
            "32/32 [==============================] - 1s 29ms/step - loss: 0.2260 - accuracy: 0.9090 - val_loss: 0.9841 - val_accuracy: 0.7640\n",
            "Epoch 83/100\n",
            "32/32 [==============================] - 1s 28ms/step - loss: 0.2234 - accuracy: 0.9160 - val_loss: 0.8348 - val_accuracy: 0.7220\n",
            "Epoch 84/100\n",
            "32/32 [==============================] - 1s 29ms/step - loss: 0.1772 - accuracy: 0.9360 - val_loss: 0.8874 - val_accuracy: 0.7510\n",
            "Epoch 85/100\n",
            "32/32 [==============================] - 1s 29ms/step - loss: 0.1730 - accuracy: 0.9320 - val_loss: 0.8798 - val_accuracy: 0.7390\n",
            "Epoch 86/100\n",
            "32/32 [==============================] - 1s 28ms/step - loss: 0.1582 - accuracy: 0.9400 - val_loss: 0.8472 - val_accuracy: 0.7860\n",
            "Epoch 87/100\n",
            "32/32 [==============================] - 1s 28ms/step - loss: 0.1758 - accuracy: 0.9350 - val_loss: 0.9928 - val_accuracy: 0.7470\n",
            "Epoch 88/100\n",
            "32/32 [==============================] - 1s 28ms/step - loss: 0.1598 - accuracy: 0.9440 - val_loss: 0.9259 - val_accuracy: 0.7780\n",
            "Epoch 89/100\n",
            "32/32 [==============================] - 1s 28ms/step - loss: 0.1928 - accuracy: 0.9250 - val_loss: 0.8875 - val_accuracy: 0.7970\n",
            "Epoch 90/100\n",
            "32/32 [==============================] - 1s 29ms/step - loss: 0.1723 - accuracy: 0.9370 - val_loss: 0.7493 - val_accuracy: 0.7960\n",
            "Epoch 91/100\n",
            "32/32 [==============================] - 1s 28ms/step - loss: 0.1418 - accuracy: 0.9450 - val_loss: 0.8405 - val_accuracy: 0.7920\n",
            "Epoch 92/100\n",
            "32/32 [==============================] - 1s 30ms/step - loss: 0.1803 - accuracy: 0.9340 - val_loss: 1.1109 - val_accuracy: 0.7390\n",
            "Epoch 93/100\n",
            "32/32 [==============================] - 1s 29ms/step - loss: 0.1586 - accuracy: 0.9430 - val_loss: 0.9407 - val_accuracy: 0.7740\n",
            "Epoch 94/100\n",
            "32/32 [==============================] - 1s 29ms/step - loss: 0.1830 - accuracy: 0.9380 - val_loss: 0.9471 - val_accuracy: 0.7720\n",
            "Epoch 95/100\n",
            "32/32 [==============================] - 1s 29ms/step - loss: 0.1328 - accuracy: 0.9540 - val_loss: 1.0014 - val_accuracy: 0.7900\n",
            "Epoch 96/100\n",
            "32/32 [==============================] - 1s 31ms/step - loss: 0.1753 - accuracy: 0.9380 - val_loss: 1.1321 - val_accuracy: 0.7440\n",
            "Epoch 97/100\n",
            "32/32 [==============================] - 1s 30ms/step - loss: 0.1374 - accuracy: 0.9360 - val_loss: 1.0832 - val_accuracy: 0.7520\n",
            "Epoch 98/100\n",
            "32/32 [==============================] - 1s 28ms/step - loss: 0.1748 - accuracy: 0.9390 - val_loss: 0.8696 - val_accuracy: 0.7590\n",
            "Epoch 99/100\n",
            "32/32 [==============================] - 1s 31ms/step - loss: 0.1630 - accuracy: 0.9290 - val_loss: 0.8413 - val_accuracy: 0.7680\n",
            "Epoch 100/100\n",
            "32/32 [==============================] - 1s 28ms/step - loss: 0.1382 - accuracy: 0.9520 - val_loss: 1.1338 - val_accuracy: 0.7550\n"
          ]
        }
      ]
    },
    {
      "cell_type": "code",
      "source": [
        "test_model = keras.models.load_model(\n",
        "    \"convnet_from_scratch_with_augmentation_dropout.keras\")\n",
        "test_loss, test_acc = test_model.evaluate(dataset_Testing)\n",
        "print(f\"Test accuracy: {test_acc:.3f}\")"
      ],
      "metadata": {
        "colab": {
          "base_uri": "https://localhost:8080/"
        },
        "id": "NOWtel15vgq0",
        "outputId": "e4a141be-f5b1-4078-cf58-928743a21a5d"
      },
      "execution_count": 29,
      "outputs": [
        {
          "output_type": "stream",
          "name": "stdout",
          "text": [
            "63/63 [==============================] - 1s 9ms/step - loss: 0.5164 - accuracy: 0.7510\n",
            "Test accuracy: 0.751\n"
          ]
        }
      ]
    },
    {
      "cell_type": "markdown",
      "source": [
        "Question-2\n",
        "\n",
        "Increase your training sample size. You may pick any amount. Keep the validation and test samples the same as above. Optimize your network (again training from scratch). What performance did you achieve?"
      ],
      "metadata": {
        "id": "YNbGgQBOzoO4"
      }
    },
    {
      "cell_type": "markdown",
      "source": [
        "Increasing Training sample size to 5000 samples"
      ],
      "metadata": {
        "id": "qXBKm8jnxKgb"
      }
    },
    {
      "cell_type": "markdown",
      "source": [
        "We have increased the size of the samples to 5000 and lets evaluate the performance."
      ],
      "metadata": {
        "id": "Vgx1iYZuxdg5"
      }
    },
    {
      "cell_type": "markdown",
      "source": [
        "Since the data augmentation and dropout method improved the performance above, lets use them to improve the performance here."
      ],
      "metadata": {
        "id": "K7PdsFwdxtuD"
      }
    },
    {
      "cell_type": "code",
      "source": [
        "make_subset(\"train11\", start_index=1000, end_index=6000)\n",
        "\n",
        "dataset_Training_11 = image_dataset_from_directory(\n",
        "    new_base_dir / \"train11\",\n",
        "    image_size=(180, 180),\n",
        "    batch_size=32)"
      ],
      "metadata": {
        "colab": {
          "base_uri": "https://localhost:8080/"
        },
        "id": "YsYyLP2-yCyZ",
        "outputId": "436d1781-e5ad-4e2f-b241-c6fbcbca9ce7"
      },
      "execution_count": 30,
      "outputs": [
        {
          "output_type": "stream",
          "name": "stdout",
          "text": [
            "Found 10000 files belonging to 2 classes.\n"
          ]
        }
      ]
    },
    {
      "cell_type": "markdown",
      "source": [
        "Building a new convnet including image augmentation and dropout"
      ],
      "metadata": {
        "id": "H2GRoJ_vyQ2v"
      }
    },
    {
      "cell_type": "code",
      "source": [
        "inputs = keras.Input(shape=(180, 180, 3))\n",
        "x = data_augmentation(inputs)\n",
        "x = layers.Rescaling(1./255)(inputs)\n",
        "x = layers.Conv2D(filters=32, kernel_size=3, activation=\"relu\")(x)\n",
        "x = layers.MaxPooling2D(pool_size=2)(x)\n",
        "x = layers.Conv2D(filters=64, kernel_size=3, activation=\"relu\")(x)\n",
        "x = layers.MaxPooling2D(pool_size=2)(x)\n",
        "x = layers.Conv2D(filters=128, kernel_size=3, activation=\"relu\")(x)\n",
        "x = layers.MaxPooling2D(pool_size=2)(x)\n",
        "x = layers.Conv2D(filters=256, kernel_size=3, activation=\"relu\")(x)\n",
        "x = layers.MaxPooling2D(pool_size=2)(x)\n",
        "x = layers.Conv2D(filters=256, kernel_size=3, activation=\"relu\")(x)\n",
        "x = layers.Flatten()(x)\n",
        "x = layers.Dropout(0.5)(x)\n",
        "outputs = layers.Dense(1, activation=\"sigmoid\")(x)\n",
        "model = keras.Model(inputs=inputs, outputs=outputs)\n",
        "\n",
        "model.compile(loss=\"binary_crossentropy\",\n",
        "              optimizer=\"rmsprop\",\n",
        "              metrics=[\"accuracy\"])"
      ],
      "metadata": {
        "id": "hhg4b-4vyWI1"
      },
      "execution_count": 31,
      "outputs": []
    },
    {
      "cell_type": "markdown",
      "source": [
        "Training the convnet"
      ],
      "metadata": {
        "id": "ro85SHA3yblI"
      }
    },
    {
      "cell_type": "code",
      "source": [
        "callbacks = [\n",
        "    keras.callbacks.ModelCheckpoint(\n",
        "        filepath=\"convnet_from_scratch3.keras\",\n",
        "        save_best_only=True,\n",
        "        monitor=\"val_loss\")\n",
        "]\n",
        "history = model.fit(\n",
        "    dataset_Training_11,\n",
        "    epochs=70,\n",
        "    validation_data=dataset_Validation,\n",
        "    callbacks=callbacks)"
      ],
      "metadata": {
        "colab": {
          "base_uri": "https://localhost:8080/"
        },
        "id": "z5ZLi1n_yeYR",
        "outputId": "3323f046-6579-4ffb-b3c7-d3a44beeabd9"
      },
      "execution_count": 32,
      "outputs": [
        {
          "output_type": "stream",
          "name": "stdout",
          "text": [
            "Epoch 1/70\n",
            "313/313 [==============================] - 7s 19ms/step - loss: 0.6826 - accuracy: 0.5568 - val_loss: 0.7581 - val_accuracy: 0.5600\n",
            "Epoch 2/70\n",
            "313/313 [==============================] - 5s 17ms/step - loss: 0.6074 - accuracy: 0.6756 - val_loss: 0.8979 - val_accuracy: 0.6440\n",
            "Epoch 3/70\n",
            "313/313 [==============================] - 5s 17ms/step - loss: 0.5472 - accuracy: 0.7249 - val_loss: 0.4852 - val_accuracy: 0.7520\n",
            "Epoch 4/70\n",
            "313/313 [==============================] - 5s 17ms/step - loss: 0.4817 - accuracy: 0.7696 - val_loss: 0.4697 - val_accuracy: 0.7790\n",
            "Epoch 5/70\n",
            "313/313 [==============================] - 6s 17ms/step - loss: 0.4215 - accuracy: 0.8087 - val_loss: 0.4428 - val_accuracy: 0.8010\n",
            "Epoch 6/70\n",
            "313/313 [==============================] - 5s 17ms/step - loss: 0.3681 - accuracy: 0.8346 - val_loss: 0.4834 - val_accuracy: 0.7930\n",
            "Epoch 7/70\n",
            "313/313 [==============================] - 5s 17ms/step - loss: 0.3222 - accuracy: 0.8622 - val_loss: 0.3776 - val_accuracy: 0.8430\n",
            "Epoch 8/70\n",
            "313/313 [==============================] - 6s 17ms/step - loss: 0.2748 - accuracy: 0.8830 - val_loss: 0.3420 - val_accuracy: 0.8540\n",
            "Epoch 9/70\n",
            "313/313 [==============================] - 5s 17ms/step - loss: 0.2284 - accuracy: 0.9043 - val_loss: 0.3948 - val_accuracy: 0.8460\n",
            "Epoch 10/70\n",
            "313/313 [==============================] - 6s 17ms/step - loss: 0.1988 - accuracy: 0.9146 - val_loss: 0.3774 - val_accuracy: 0.8490\n",
            "Epoch 11/70\n",
            "313/313 [==============================] - 5s 17ms/step - loss: 0.1730 - accuracy: 0.9295 - val_loss: 0.3512 - val_accuracy: 0.8570\n",
            "Epoch 12/70\n",
            "313/313 [==============================] - 5s 17ms/step - loss: 0.1402 - accuracy: 0.9442 - val_loss: 0.4142 - val_accuracy: 0.8570\n",
            "Epoch 13/70\n",
            "313/313 [==============================] - 5s 17ms/step - loss: 0.1315 - accuracy: 0.9468 - val_loss: 0.4154 - val_accuracy: 0.8910\n",
            "Epoch 14/70\n",
            "313/313 [==============================] - 5s 17ms/step - loss: 0.1130 - accuracy: 0.9563 - val_loss: 0.3925 - val_accuracy: 0.8820\n",
            "Epoch 15/70\n",
            "313/313 [==============================] - 5s 17ms/step - loss: 0.1021 - accuracy: 0.9603 - val_loss: 0.3823 - val_accuracy: 0.8950\n",
            "Epoch 16/70\n",
            "313/313 [==============================] - 5s 17ms/step - loss: 0.0931 - accuracy: 0.9684 - val_loss: 0.4975 - val_accuracy: 0.8710\n",
            "Epoch 17/70\n",
            "313/313 [==============================] - 5s 17ms/step - loss: 0.0812 - accuracy: 0.9722 - val_loss: 0.4308 - val_accuracy: 0.8940\n",
            "Epoch 18/70\n",
            "313/313 [==============================] - 5s 17ms/step - loss: 0.0779 - accuracy: 0.9736 - val_loss: 0.4772 - val_accuracy: 0.8850\n",
            "Epoch 19/70\n",
            "313/313 [==============================] - 6s 18ms/step - loss: 0.0885 - accuracy: 0.9721 - val_loss: 0.5926 - val_accuracy: 0.8720\n",
            "Epoch 20/70\n",
            "313/313 [==============================] - 5s 17ms/step - loss: 0.0751 - accuracy: 0.9747 - val_loss: 0.5321 - val_accuracy: 0.8940\n",
            "Epoch 21/70\n",
            "313/313 [==============================] - 5s 17ms/step - loss: 0.0742 - accuracy: 0.9769 - val_loss: 0.6517 - val_accuracy: 0.8810\n",
            "Epoch 22/70\n",
            "313/313 [==============================] - 6s 17ms/step - loss: 0.0802 - accuracy: 0.9755 - val_loss: 0.5208 - val_accuracy: 0.9050\n",
            "Epoch 23/70\n",
            "313/313 [==============================] - 5s 17ms/step - loss: 0.0715 - accuracy: 0.9772 - val_loss: 0.7999 - val_accuracy: 0.8300\n",
            "Epoch 24/70\n",
            "313/313 [==============================] - 6s 17ms/step - loss: 0.0769 - accuracy: 0.9757 - val_loss: 0.6702 - val_accuracy: 0.8750\n",
            "Epoch 25/70\n",
            "313/313 [==============================] - 6s 18ms/step - loss: 0.0736 - accuracy: 0.9794 - val_loss: 0.6722 - val_accuracy: 0.8930\n",
            "Epoch 26/70\n",
            "313/313 [==============================] - 5s 17ms/step - loss: 0.0793 - accuracy: 0.9794 - val_loss: 0.5114 - val_accuracy: 0.8930\n",
            "Epoch 27/70\n",
            "313/313 [==============================] - 6s 17ms/step - loss: 0.0704 - accuracy: 0.9800 - val_loss: 0.5411 - val_accuracy: 0.8880\n",
            "Epoch 28/70\n",
            "313/313 [==============================] - 5s 17ms/step - loss: 0.0752 - accuracy: 0.9790 - val_loss: 0.7337 - val_accuracy: 0.8870\n",
            "Epoch 29/70\n",
            "313/313 [==============================] - 5s 17ms/step - loss: 0.0594 - accuracy: 0.9836 - val_loss: 0.9352 - val_accuracy: 0.8710\n",
            "Epoch 30/70\n",
            "313/313 [==============================] - 5s 17ms/step - loss: 0.0890 - accuracy: 0.9810 - val_loss: 0.7182 - val_accuracy: 0.8930\n",
            "Epoch 31/70\n",
            "313/313 [==============================] - 5s 17ms/step - loss: 0.0736 - accuracy: 0.9811 - val_loss: 1.2531 - val_accuracy: 0.8290\n",
            "Epoch 32/70\n",
            "313/313 [==============================] - 5s 17ms/step - loss: 0.0887 - accuracy: 0.9805 - val_loss: 0.8202 - val_accuracy: 0.8820\n",
            "Epoch 33/70\n",
            "313/313 [==============================] - 5s 17ms/step - loss: 0.0674 - accuracy: 0.9819 - val_loss: 1.1284 - val_accuracy: 0.8800\n",
            "Epoch 34/70\n",
            "313/313 [==============================] - 6s 17ms/step - loss: 0.0754 - accuracy: 0.9821 - val_loss: 0.7202 - val_accuracy: 0.8810\n",
            "Epoch 35/70\n",
            "313/313 [==============================] - 5s 17ms/step - loss: 0.0815 - accuracy: 0.9804 - val_loss: 0.9604 - val_accuracy: 0.8830\n",
            "Epoch 36/70\n",
            "313/313 [==============================] - 5s 17ms/step - loss: 0.0814 - accuracy: 0.9812 - val_loss: 0.8045 - val_accuracy: 0.8950\n",
            "Epoch 37/70\n",
            "313/313 [==============================] - 6s 17ms/step - loss: 0.0727 - accuracy: 0.9837 - val_loss: 0.9700 - val_accuracy: 0.8860\n",
            "Epoch 38/70\n",
            "313/313 [==============================] - 5s 17ms/step - loss: 0.0724 - accuracy: 0.9849 - val_loss: 0.9308 - val_accuracy: 0.8850\n",
            "Epoch 39/70\n",
            "313/313 [==============================] - 6s 18ms/step - loss: 0.0800 - accuracy: 0.9822 - val_loss: 0.9980 - val_accuracy: 0.8920\n",
            "Epoch 40/70\n",
            "313/313 [==============================] - 5s 17ms/step - loss: 0.0705 - accuracy: 0.9839 - val_loss: 0.9238 - val_accuracy: 0.8800\n",
            "Epoch 41/70\n",
            "313/313 [==============================] - 5s 17ms/step - loss: 0.0911 - accuracy: 0.9824 - val_loss: 1.1827 - val_accuracy: 0.8850\n",
            "Epoch 42/70\n",
            "313/313 [==============================] - 6s 17ms/step - loss: 0.0888 - accuracy: 0.9828 - val_loss: 1.1239 - val_accuracy: 0.8720\n",
            "Epoch 43/70\n",
            "313/313 [==============================] - 5s 17ms/step - loss: 0.0866 - accuracy: 0.9836 - val_loss: 0.9526 - val_accuracy: 0.9070\n",
            "Epoch 44/70\n",
            "313/313 [==============================] - 5s 17ms/step - loss: 0.0977 - accuracy: 0.9830 - val_loss: 1.5222 - val_accuracy: 0.8880\n",
            "Epoch 45/70\n",
            "313/313 [==============================] - 5s 17ms/step - loss: 0.1113 - accuracy: 0.9814 - val_loss: 1.1414 - val_accuracy: 0.8590\n",
            "Epoch 46/70\n",
            "313/313 [==============================] - 5s 17ms/step - loss: 0.0959 - accuracy: 0.9835 - val_loss: 1.1573 - val_accuracy: 0.8790\n",
            "Epoch 47/70\n",
            "313/313 [==============================] - 5s 17ms/step - loss: 0.0991 - accuracy: 0.9849 - val_loss: 0.9690 - val_accuracy: 0.8980\n",
            "Epoch 48/70\n",
            "313/313 [==============================] - 5s 17ms/step - loss: 0.0822 - accuracy: 0.9851 - val_loss: 1.1346 - val_accuracy: 0.8950\n",
            "Epoch 49/70\n",
            "313/313 [==============================] - 5s 17ms/step - loss: 0.0788 - accuracy: 0.9849 - val_loss: 1.3684 - val_accuracy: 0.8790\n",
            "Epoch 50/70\n",
            "313/313 [==============================] - 5s 17ms/step - loss: 0.0830 - accuracy: 0.9849 - val_loss: 1.3928 - val_accuracy: 0.8810\n",
            "Epoch 51/70\n",
            "313/313 [==============================] - 5s 17ms/step - loss: 0.1113 - accuracy: 0.9847 - val_loss: 1.3867 - val_accuracy: 0.8870\n",
            "Epoch 52/70\n",
            "313/313 [==============================] - 5s 17ms/step - loss: 0.1007 - accuracy: 0.9840 - val_loss: 2.7904 - val_accuracy: 0.8300\n",
            "Epoch 53/70\n",
            "313/313 [==============================] - 5s 17ms/step - loss: 0.1103 - accuracy: 0.9857 - val_loss: 1.4665 - val_accuracy: 0.8960\n",
            "Epoch 54/70\n",
            "313/313 [==============================] - 5s 17ms/step - loss: 0.1164 - accuracy: 0.9850 - val_loss: 1.4024 - val_accuracy: 0.8810\n",
            "Epoch 55/70\n",
            "313/313 [==============================] - 5s 17ms/step - loss: 0.1087 - accuracy: 0.9837 - val_loss: 2.0898 - val_accuracy: 0.8920\n",
            "Epoch 56/70\n",
            "313/313 [==============================] - 5s 17ms/step - loss: 0.1015 - accuracy: 0.9856 - val_loss: 1.9751 - val_accuracy: 0.8910\n",
            "Epoch 57/70\n",
            "313/313 [==============================] - 6s 17ms/step - loss: 0.1275 - accuracy: 0.9828 - val_loss: 1.6690 - val_accuracy: 0.8790\n",
            "Epoch 58/70\n",
            "313/313 [==============================] - 5s 17ms/step - loss: 0.0919 - accuracy: 0.9862 - val_loss: 2.3915 - val_accuracy: 0.8660\n",
            "Epoch 59/70\n",
            "313/313 [==============================] - 5s 17ms/step - loss: 0.1349 - accuracy: 0.9833 - val_loss: 1.7577 - val_accuracy: 0.8780\n",
            "Epoch 60/70\n",
            "313/313 [==============================] - 6s 17ms/step - loss: 0.0982 - accuracy: 0.9865 - val_loss: 2.0733 - val_accuracy: 0.8740\n",
            "Epoch 61/70\n",
            "313/313 [==============================] - 5s 17ms/step - loss: 0.1082 - accuracy: 0.9874 - val_loss: 1.6859 - val_accuracy: 0.8880\n",
            "Epoch 62/70\n",
            "313/313 [==============================] - 5s 17ms/step - loss: 0.1045 - accuracy: 0.9865 - val_loss: 1.8108 - val_accuracy: 0.8850\n",
            "Epoch 63/70\n",
            "313/313 [==============================] - 6s 18ms/step - loss: 0.1183 - accuracy: 0.9852 - val_loss: 1.8034 - val_accuracy: 0.8790\n",
            "Epoch 64/70\n",
            "313/313 [==============================] - 5s 17ms/step - loss: 0.1103 - accuracy: 0.9863 - val_loss: 1.7402 - val_accuracy: 0.8990\n",
            "Epoch 65/70\n",
            "313/313 [==============================] - 5s 17ms/step - loss: 0.1661 - accuracy: 0.9850 - val_loss: 2.1189 - val_accuracy: 0.8860\n",
            "Epoch 66/70\n",
            "313/313 [==============================] - 6s 17ms/step - loss: 0.1382 - accuracy: 0.9868 - val_loss: 1.9901 - val_accuracy: 0.8960\n",
            "Epoch 67/70\n",
            "313/313 [==============================] - 5s 17ms/step - loss: 0.1256 - accuracy: 0.9834 - val_loss: 1.8176 - val_accuracy: 0.9020\n",
            "Epoch 68/70\n",
            "313/313 [==============================] - 5s 17ms/step - loss: 0.1423 - accuracy: 0.9860 - val_loss: 2.5601 - val_accuracy: 0.8770\n",
            "Epoch 69/70\n",
            "313/313 [==============================] - 5s 17ms/step - loss: 0.1309 - accuracy: 0.9862 - val_loss: 2.1241 - val_accuracy: 0.8990\n",
            "Epoch 70/70\n",
            "313/313 [==============================] - 5s 17ms/step - loss: 0.1549 - accuracy: 0.9843 - val_loss: 2.1849 - val_accuracy: 0.8950\n"
          ]
        }
      ]
    },
    {
      "cell_type": "code",
      "source": [
        "test_model = keras.models.load_model(\n",
        "    \"convnet_from_scratch3.keras\")\n",
        "test_loss, test_acc = test_model.evaluate(dataset_Testing)\n",
        "print(f\"Test accuracy: {test_acc:.3f}\")"
      ],
      "metadata": {
        "colab": {
          "base_uri": "https://localhost:8080/"
        },
        "id": "OzFjZAxoy9bW",
        "outputId": "526ca254-738a-4ce4-ee3d-4a65057dfbdd"
      },
      "execution_count": 33,
      "outputs": [
        {
          "output_type": "stream",
          "name": "stdout",
          "text": [
            "63/63 [==============================] - 1s 10ms/step - loss: 0.1929 - accuracy: 0.9235\n",
            "Test accuracy: 0.924\n"
          ]
        }
      ]
    },
    {
      "cell_type": "markdown",
      "source": [
        "Question-3\n",
        "\n",
        "Now change your training sample so that you achieve better performance than those\n",
        "from Steps 1 and 2. This sample size may be larger, or smaller than those in the previous steps. The objective is to find the ideal training sample size to get best prediction results."
      ],
      "metadata": {
        "id": "3JjdduZX0We7"
      }
    },
    {
      "cell_type": "markdown",
      "source": [
        "Increasing the Training samples to 10000 Samples"
      ],
      "metadata": {
        "id": "HWNQB4_dzYNs"
      }
    },
    {
      "cell_type": "markdown",
      "source": [
        "As per the question, we will increase the sample size again and test the model  to evaluate the performance."
      ],
      "metadata": {
        "id": "ssE8ep2h0qCi"
      }
    },
    {
      "cell_type": "code",
      "source": [
        "make_subset(\"train12\", start_index=1000, end_index=11000)\n",
        "\n",
        "dataset_Training_12 = image_dataset_from_directory(\n",
        "    new_base_dir / \"train12\",\n",
        "    image_size=(180, 180),\n",
        "    batch_size=32)"
      ],
      "metadata": {
        "colab": {
          "base_uri": "https://localhost:8080/"
        },
        "id": "jFo6bC3t05rF",
        "outputId": "ddfb5793-032a-46ae-cacb-697369ccee7a"
      },
      "execution_count": 34,
      "outputs": [
        {
          "output_type": "stream",
          "name": "stdout",
          "text": [
            "Found 20000 files belonging to 2 classes.\n"
          ]
        }
      ]
    },
    {
      "cell_type": "markdown",
      "source": [
        "**Model Building with Image augmentation and dropout.**"
      ],
      "metadata": {
        "id": "S3Trz3IB1UNI"
      }
    },
    {
      "cell_type": "markdown",
      "source": [
        "Building a new convnet including image augmentation and dropout"
      ],
      "metadata": {
        "id": "OAKO_g-V1Waq"
      }
    },
    {
      "cell_type": "code",
      "source": [
        "from tensorflow import keras\n",
        "from tensorflow.keras import layers\n",
        "\n",
        "inputs = keras.Input(shape=(180, 180, 3))\n",
        "#x = data_augmentation(inputs)\n",
        "x = layers.Rescaling(1./255)(inputs)\n",
        "x = layers.Conv2D(filters=32, kernel_size=3, activation=\"relu\")(x)\n",
        "x = layers.MaxPooling2D(pool_size=2)(x)\n",
        "x = layers.Conv2D(filters=64, kernel_size=3, activation=\"relu\")(x)\n",
        "x = layers.MaxPooling2D(pool_size=2)(x)\n",
        "x = layers.Conv2D(filters=128, kernel_size=3, activation=\"relu\")(x)\n",
        "x = layers.MaxPooling2D(pool_size=2)(x)\n",
        "x = layers.Conv2D(filters=256, kernel_size=3, activation=\"relu\")(x)\n",
        "x = layers.MaxPooling2D(pool_size=2)(x)\n",
        "x = layers.Conv2D(filters=256, kernel_size=3, activation=\"relu\")(x)\n",
        "x = layers.Flatten()(x)\n",
        "#x = layers.Dropout(0.5)(x)\n",
        "outputs = layers.Dense(1, activation=\"sigmoid\")(x)\n",
        "model = keras.Model(inputs=inputs, outputs=outputs)\n",
        "\n",
        "model.compile(loss=\"binary_crossentropy\",\n",
        "              optimizer=\"rmsprop\",\n",
        "              metrics=[\"accuracy\"])"
      ],
      "metadata": {
        "id": "JMZVfz471yfM"
      },
      "execution_count": 35,
      "outputs": []
    },
    {
      "cell_type": "code",
      "source": [
        "callbacks = [\n",
        "    keras.callbacks.ModelCheckpoint(\n",
        "        filepath=\"convnet_from_scratch_test3.keras\",\n",
        "        save_best_only=True,\n",
        "        monitor=\"val_loss\")\n",
        "]\n",
        "\n",
        "history = model.fit(\n",
        "    dataset_Training_11,\n",
        "    epochs=30,\n",
        "    validation_data=dataset_Validation,\n",
        "    callbacks=callbacks)"
      ],
      "metadata": {
        "colab": {
          "base_uri": "https://localhost:8080/"
        },
        "id": "oTkTO3rC12mE",
        "outputId": "55d7defc-45aa-43c7-f782-738175bb253e"
      },
      "execution_count": 36,
      "outputs": [
        {
          "output_type": "stream",
          "name": "stdout",
          "text": [
            "Epoch 1/30\n",
            "313/313 [==============================] - 7s 18ms/step - loss: 0.6894 - accuracy: 0.5550 - val_loss: 0.6243 - val_accuracy: 0.6580\n",
            "Epoch 2/30\n",
            "313/313 [==============================] - 5s 17ms/step - loss: 0.5860 - accuracy: 0.6900 - val_loss: 0.5525 - val_accuracy: 0.7280\n",
            "Epoch 3/30\n",
            "313/313 [==============================] - 5s 17ms/step - loss: 0.5044 - accuracy: 0.7516 - val_loss: 0.5079 - val_accuracy: 0.7620\n",
            "Epoch 4/30\n",
            "313/313 [==============================] - 6s 17ms/step - loss: 0.4381 - accuracy: 0.7985 - val_loss: 0.4201 - val_accuracy: 0.8050\n",
            "Epoch 5/30\n",
            "313/313 [==============================] - 5s 17ms/step - loss: 0.3840 - accuracy: 0.8266 - val_loss: 0.5005 - val_accuracy: 0.7580\n",
            "Epoch 6/30\n",
            "313/313 [==============================] - 6s 17ms/step - loss: 0.3297 - accuracy: 0.8575 - val_loss: 0.8722 - val_accuracy: 0.6700\n",
            "Epoch 7/30\n",
            "313/313 [==============================] - 6s 17ms/step - loss: 0.2710 - accuracy: 0.8854 - val_loss: 0.4085 - val_accuracy: 0.8250\n",
            "Epoch 8/30\n",
            "313/313 [==============================] - 5s 17ms/step - loss: 0.2149 - accuracy: 0.9161 - val_loss: 0.4643 - val_accuracy: 0.8410\n",
            "Epoch 9/30\n",
            "313/313 [==============================] - 5s 17ms/step - loss: 0.1648 - accuracy: 0.9315 - val_loss: 0.5493 - val_accuracy: 0.8380\n",
            "Epoch 10/30\n",
            "313/313 [==============================] - 5s 17ms/step - loss: 0.1271 - accuracy: 0.9519 - val_loss: 0.4981 - val_accuracy: 0.8300\n",
            "Epoch 11/30\n",
            "313/313 [==============================] - 5s 17ms/step - loss: 0.1020 - accuracy: 0.9614 - val_loss: 0.8002 - val_accuracy: 0.8260\n",
            "Epoch 12/30\n",
            "313/313 [==============================] - 5s 17ms/step - loss: 0.0773 - accuracy: 0.9722 - val_loss: 0.6150 - val_accuracy: 0.8490\n",
            "Epoch 13/30\n",
            "313/313 [==============================] - 5s 17ms/step - loss: 0.0715 - accuracy: 0.9740 - val_loss: 0.8668 - val_accuracy: 0.8360\n",
            "Epoch 14/30\n",
            "313/313 [==============================] - 5s 17ms/step - loss: 0.0705 - accuracy: 0.9761 - val_loss: 0.6882 - val_accuracy: 0.8530\n",
            "Epoch 15/30\n",
            "313/313 [==============================] - 5s 17ms/step - loss: 0.0675 - accuracy: 0.9778 - val_loss: 0.7066 - val_accuracy: 0.8640\n",
            "Epoch 16/30\n",
            "313/313 [==============================] - 5s 17ms/step - loss: 0.0635 - accuracy: 0.9811 - val_loss: 0.9054 - val_accuracy: 0.8460\n",
            "Epoch 17/30\n",
            "313/313 [==============================] - 5s 17ms/step - loss: 0.0691 - accuracy: 0.9782 - val_loss: 1.0276 - val_accuracy: 0.8370\n",
            "Epoch 18/30\n",
            "313/313 [==============================] - 5s 17ms/step - loss: 0.0605 - accuracy: 0.9820 - val_loss: 1.0417 - val_accuracy: 0.8320\n",
            "Epoch 19/30\n",
            "313/313 [==============================] - 5s 17ms/step - loss: 0.0569 - accuracy: 0.9827 - val_loss: 1.2044 - val_accuracy: 0.8450\n",
            "Epoch 20/30\n",
            "313/313 [==============================] - 5s 17ms/step - loss: 0.0497 - accuracy: 0.9859 - val_loss: 1.4250 - val_accuracy: 0.8370\n",
            "Epoch 21/30\n",
            "313/313 [==============================] - 6s 18ms/step - loss: 0.0598 - accuracy: 0.9833 - val_loss: 1.2250 - val_accuracy: 0.8550\n",
            "Epoch 22/30\n",
            "313/313 [==============================] - 5s 17ms/step - loss: 0.0537 - accuracy: 0.9834 - val_loss: 1.2165 - val_accuracy: 0.8320\n",
            "Epoch 23/30\n",
            "313/313 [==============================] - 5s 17ms/step - loss: 0.0544 - accuracy: 0.9857 - val_loss: 1.0555 - val_accuracy: 0.8380\n",
            "Epoch 24/30\n",
            "313/313 [==============================] - 5s 17ms/step - loss: 0.0513 - accuracy: 0.9852 - val_loss: 1.6049 - val_accuracy: 0.8390\n",
            "Epoch 25/30\n",
            "313/313 [==============================] - 5s 17ms/step - loss: 0.0622 - accuracy: 0.9842 - val_loss: 1.1969 - val_accuracy: 0.8440\n",
            "Epoch 26/30\n",
            "313/313 [==============================] - 5s 17ms/step - loss: 0.0537 - accuracy: 0.9865 - val_loss: 1.6971 - val_accuracy: 0.8600\n",
            "Epoch 27/30\n",
            "313/313 [==============================] - 5s 17ms/step - loss: 0.0734 - accuracy: 0.9852 - val_loss: 2.3391 - val_accuracy: 0.7960\n",
            "Epoch 28/30\n",
            "313/313 [==============================] - 5s 17ms/step - loss: 0.0703 - accuracy: 0.9832 - val_loss: 1.1716 - val_accuracy: 0.8600\n",
            "Epoch 29/30\n",
            "313/313 [==============================] - 5s 17ms/step - loss: 0.0587 - accuracy: 0.9866 - val_loss: 1.9164 - val_accuracy: 0.8450\n",
            "Epoch 30/30\n",
            "313/313 [==============================] - 5s 17ms/step - loss: 0.0599 - accuracy: 0.9863 - val_loss: 1.7566 - val_accuracy: 0.8530\n"
          ]
        }
      ]
    },
    {
      "cell_type": "code",
      "source": [
        "test_model = keras.models.load_model(\n",
        "    \"convnet_from_scratch_test3.keras\")\n",
        "test_loss, test_acc = test_model.evaluate(dataset_Testing)\n",
        "print(f\"Test accuracy: {test_acc:.3f}\")"
      ],
      "metadata": {
        "colab": {
          "base_uri": "https://localhost:8080/"
        },
        "id": "SX4Wh6Br2mI0",
        "outputId": "b8173e36-0b4b-4973-d392-298dff5e08be"
      },
      "execution_count": 37,
      "outputs": [
        {
          "output_type": "stream",
          "name": "stdout",
          "text": [
            "63/63 [==============================] - 1s 9ms/step - loss: 0.2628 - accuracy: 0.8885\n",
            "Test accuracy: 0.888\n"
          ]
        }
      ]
    },
    {
      "cell_type": "code",
      "source": [
        "inputs = keras.Input(shape=(180, 180, 3))\n",
        "x = data_augmentation(inputs)\n",
        "x = layers.Rescaling(1./255)(inputs)\n",
        "x = layers.Conv2D(filters=32, kernel_size=3, activation=\"relu\")(x)\n",
        "x = layers.MaxPooling2D(pool_size=2)(x)\n",
        "x = layers.Conv2D(filters=64, kernel_size=3, activation=\"relu\")(x)\n",
        "x = layers.MaxPooling2D(pool_size=2)(x)\n",
        "x = layers.Conv2D(filters=128, kernel_size=3, activation=\"relu\")(x)\n",
        "x = layers.MaxPooling2D(pool_size=2)(x)\n",
        "x = layers.Conv2D(filters=256, kernel_size=3, activation=\"relu\")(x)\n",
        "x = layers.MaxPooling2D(pool_size=2)(x)\n",
        "x = layers.Conv2D(filters=256, kernel_size=3, activation=\"relu\")(x)\n",
        "x = layers.Flatten()(x)\n",
        "x = layers.Dropout(0.5)(x)\n",
        "outputs = layers.Dense(1, activation=\"sigmoid\")(x)\n",
        "model = keras.Model(inputs=inputs, outputs=outputs)\n",
        "\n",
        "model.compile(loss=\"binary_crossentropy\",\n",
        "              optimizer=\"rmsprop\",\n",
        "              metrics=[\"accuracy\"])"
      ],
      "metadata": {
        "id": "gvhpoRJC2uZ9"
      },
      "execution_count": 38,
      "outputs": []
    },
    {
      "cell_type": "markdown",
      "source": [
        "Training the convnet"
      ],
      "metadata": {
        "id": "cP6sbQUp2yC6"
      }
    },
    {
      "cell_type": "code",
      "source": [
        "callbacks = [\n",
        "    keras.callbacks.ModelCheckpoint(\n",
        "        filepath=\"convnet_from_scratch2.keras\",\n",
        "        save_best_only=True,\n",
        "        monitor=\"val_loss\")\n",
        "]\n",
        "\n",
        "history = model.fit(\n",
        "    dataset_Training_12,\n",
        "    epochs=70,\n",
        "    validation_data=dataset_Validation,\n",
        "    callbacks=callbacks)"
      ],
      "metadata": {
        "colab": {
          "base_uri": "https://localhost:8080/"
        },
        "id": "NK66hF2Z20zs",
        "outputId": "3d8b8599-ee2f-4b01-e138-c424dd5a6720"
      },
      "execution_count": 39,
      "outputs": [
        {
          "output_type": "stream",
          "name": "stdout",
          "text": [
            "Epoch 1/70\n",
            "625/625 [==============================] - 12s 17ms/step - loss: 0.6314 - accuracy: 0.6288 - val_loss: 0.5393 - val_accuracy: 0.7290\n",
            "Epoch 2/70\n",
            "625/625 [==============================] - 11s 17ms/step - loss: 0.4852 - accuracy: 0.7674 - val_loss: 0.3849 - val_accuracy: 0.8150\n",
            "Epoch 3/70\n",
            "625/625 [==============================] - 10s 17ms/step - loss: 0.3844 - accuracy: 0.8271 - val_loss: 0.2754 - val_accuracy: 0.8740\n",
            "Epoch 4/70\n",
            "625/625 [==============================] - 10s 16ms/step - loss: 0.3052 - accuracy: 0.8703 - val_loss: 0.2581 - val_accuracy: 0.8830\n",
            "Epoch 5/70\n",
            "625/625 [==============================] - 10s 17ms/step - loss: 0.2504 - accuracy: 0.8956 - val_loss: 0.2598 - val_accuracy: 0.8780\n",
            "Epoch 6/70\n",
            "625/625 [==============================] - 11s 17ms/step - loss: 0.2153 - accuracy: 0.9129 - val_loss: 0.3641 - val_accuracy: 0.8670\n",
            "Epoch 7/70\n",
            "625/625 [==============================] - 10s 16ms/step - loss: 0.1812 - accuracy: 0.9262 - val_loss: 0.3012 - val_accuracy: 0.8870\n",
            "Epoch 8/70\n",
            "625/625 [==============================] - 10s 17ms/step - loss: 0.1631 - accuracy: 0.9352 - val_loss: 0.2022 - val_accuracy: 0.9200\n",
            "Epoch 9/70\n",
            "625/625 [==============================] - 10s 17ms/step - loss: 0.1415 - accuracy: 0.9428 - val_loss: 0.2401 - val_accuracy: 0.9200\n",
            "Epoch 10/70\n",
            "625/625 [==============================] - 10s 16ms/step - loss: 0.1319 - accuracy: 0.9517 - val_loss: 0.2429 - val_accuracy: 0.9290\n",
            "Epoch 11/70\n",
            "625/625 [==============================] - 10s 16ms/step - loss: 0.1250 - accuracy: 0.9537 - val_loss: 0.2486 - val_accuracy: 0.9160\n",
            "Epoch 12/70\n",
            "625/625 [==============================] - 10s 16ms/step - loss: 0.1201 - accuracy: 0.9578 - val_loss: 0.2989 - val_accuracy: 0.9250\n",
            "Epoch 13/70\n",
            "625/625 [==============================] - 10s 16ms/step - loss: 0.1155 - accuracy: 0.9603 - val_loss: 0.3238 - val_accuracy: 0.9030\n",
            "Epoch 14/70\n",
            "625/625 [==============================] - 11s 17ms/step - loss: 0.1108 - accuracy: 0.9637 - val_loss: 0.3171 - val_accuracy: 0.9130\n",
            "Epoch 15/70\n",
            "625/625 [==============================] - 11s 17ms/step - loss: 0.1089 - accuracy: 0.9656 - val_loss: 0.3334 - val_accuracy: 0.9120\n",
            "Epoch 16/70\n",
            "625/625 [==============================] - 11s 17ms/step - loss: 0.1116 - accuracy: 0.9657 - val_loss: 0.3269 - val_accuracy: 0.9320\n",
            "Epoch 17/70\n",
            "625/625 [==============================] - 11s 17ms/step - loss: 0.1110 - accuracy: 0.9679 - val_loss: 0.3927 - val_accuracy: 0.9270\n",
            "Epoch 18/70\n",
            "625/625 [==============================] - 11s 17ms/step - loss: 0.1093 - accuracy: 0.9677 - val_loss: 0.5063 - val_accuracy: 0.9230\n",
            "Epoch 19/70\n",
            "625/625 [==============================] - 11s 17ms/step - loss: 0.1198 - accuracy: 0.9679 - val_loss: 0.5514 - val_accuracy: 0.9220\n",
            "Epoch 20/70\n",
            "625/625 [==============================] - 11s 17ms/step - loss: 0.1146 - accuracy: 0.9694 - val_loss: 0.3432 - val_accuracy: 0.9240\n",
            "Epoch 21/70\n",
            "625/625 [==============================] - 11s 17ms/step - loss: 0.1147 - accuracy: 0.9704 - val_loss: 0.5541 - val_accuracy: 0.9080\n",
            "Epoch 22/70\n",
            "625/625 [==============================] - 11s 17ms/step - loss: 0.1316 - accuracy: 0.9695 - val_loss: 0.4840 - val_accuracy: 0.9280\n",
            "Epoch 23/70\n",
            "625/625 [==============================] - 11s 17ms/step - loss: 0.1201 - accuracy: 0.9699 - val_loss: 0.3409 - val_accuracy: 0.9210\n",
            "Epoch 24/70\n",
            "625/625 [==============================] - 11s 17ms/step - loss: 0.1216 - accuracy: 0.9720 - val_loss: 0.5897 - val_accuracy: 0.9220\n",
            "Epoch 25/70\n",
            "625/625 [==============================] - 11s 17ms/step - loss: 0.1204 - accuracy: 0.9744 - val_loss: 0.7395 - val_accuracy: 0.9120\n",
            "Epoch 26/70\n",
            "625/625 [==============================] - 11s 17ms/step - loss: 0.1276 - accuracy: 0.9723 - val_loss: 0.5308 - val_accuracy: 0.9370\n",
            "Epoch 27/70\n",
            "625/625 [==============================] - 11s 17ms/step - loss: 0.1336 - accuracy: 0.9720 - val_loss: 1.1095 - val_accuracy: 0.8870\n",
            "Epoch 28/70\n",
            "625/625 [==============================] - 11s 17ms/step - loss: 0.1373 - accuracy: 0.9704 - val_loss: 0.5610 - val_accuracy: 0.9160\n",
            "Epoch 29/70\n",
            "625/625 [==============================] - 11s 17ms/step - loss: 0.1347 - accuracy: 0.9740 - val_loss: 0.7166 - val_accuracy: 0.9040\n",
            "Epoch 30/70\n",
            "625/625 [==============================] - 11s 17ms/step - loss: 0.1450 - accuracy: 0.9721 - val_loss: 0.7836 - val_accuracy: 0.9320\n",
            "Epoch 31/70\n",
            "625/625 [==============================] - 11s 17ms/step - loss: 0.1378 - accuracy: 0.9742 - val_loss: 0.8308 - val_accuracy: 0.9210\n",
            "Epoch 32/70\n",
            "625/625 [==============================] - 11s 17ms/step - loss: 0.1504 - accuracy: 0.9732 - val_loss: 0.8127 - val_accuracy: 0.9040\n",
            "Epoch 33/70\n",
            "625/625 [==============================] - 11s 17ms/step - loss: 0.1527 - accuracy: 0.9739 - val_loss: 0.9588 - val_accuracy: 0.9210\n",
            "Epoch 34/70\n",
            "625/625 [==============================] - 11s 17ms/step - loss: 0.1627 - accuracy: 0.9726 - val_loss: 0.9763 - val_accuracy: 0.9230\n",
            "Epoch 35/70\n",
            "625/625 [==============================] - 11s 17ms/step - loss: 0.1539 - accuracy: 0.9760 - val_loss: 0.9260 - val_accuracy: 0.9240\n",
            "Epoch 36/70\n",
            "625/625 [==============================] - 11s 17ms/step - loss: 0.1452 - accuracy: 0.9761 - val_loss: 0.6363 - val_accuracy: 0.9240\n",
            "Epoch 37/70\n",
            "625/625 [==============================] - 11s 17ms/step - loss: 0.1559 - accuracy: 0.9772 - val_loss: 0.5501 - val_accuracy: 0.9190\n",
            "Epoch 38/70\n",
            "625/625 [==============================] - 11s 17ms/step - loss: 0.1634 - accuracy: 0.9745 - val_loss: 0.7683 - val_accuracy: 0.9190\n",
            "Epoch 39/70\n",
            "625/625 [==============================] - 11s 17ms/step - loss: 0.1494 - accuracy: 0.9757 - val_loss: 0.7561 - val_accuracy: 0.9120\n",
            "Epoch 40/70\n",
            "625/625 [==============================] - 11s 17ms/step - loss: 0.1509 - accuracy: 0.9776 - val_loss: 0.9498 - val_accuracy: 0.9250\n",
            "Epoch 41/70\n",
            "625/625 [==============================] - 11s 17ms/step - loss: 0.1595 - accuracy: 0.9769 - val_loss: 0.8606 - val_accuracy: 0.8950\n",
            "Epoch 42/70\n",
            "625/625 [==============================] - 11s 17ms/step - loss: 0.1744 - accuracy: 0.9768 - val_loss: 1.1259 - val_accuracy: 0.9220\n",
            "Epoch 43/70\n",
            "625/625 [==============================] - 11s 17ms/step - loss: 0.1838 - accuracy: 0.9760 - val_loss: 1.6623 - val_accuracy: 0.8990\n",
            "Epoch 44/70\n",
            "625/625 [==============================] - 11s 17ms/step - loss: 0.1822 - accuracy: 0.9775 - val_loss: 1.0609 - val_accuracy: 0.8970\n",
            "Epoch 45/70\n",
            "625/625 [==============================] - 11s 17ms/step - loss: 0.1952 - accuracy: 0.9766 - val_loss: 1.8261 - val_accuracy: 0.9150\n",
            "Epoch 46/70\n",
            "625/625 [==============================] - 11s 17ms/step - loss: 0.2020 - accuracy: 0.9787 - val_loss: 1.0901 - val_accuracy: 0.9230\n",
            "Epoch 47/70\n",
            "625/625 [==============================] - 11s 17ms/step - loss: 0.2043 - accuracy: 0.9781 - val_loss: 1.5119 - val_accuracy: 0.9150\n",
            "Epoch 48/70\n",
            "625/625 [==============================] - 11s 17ms/step - loss: 0.2060 - accuracy: 0.9779 - val_loss: 0.9366 - val_accuracy: 0.8980\n",
            "Epoch 49/70\n",
            "625/625 [==============================] - 11s 17ms/step - loss: 0.2196 - accuracy: 0.9765 - val_loss: 1.5039 - val_accuracy: 0.9370\n",
            "Epoch 50/70\n",
            "625/625 [==============================] - 11s 17ms/step - loss: 0.1940 - accuracy: 0.9776 - val_loss: 1.0871 - val_accuracy: 0.9180\n",
            "Epoch 51/70\n",
            "625/625 [==============================] - 11s 17ms/step - loss: 0.2024 - accuracy: 0.9765 - val_loss: 1.2005 - val_accuracy: 0.9310\n",
            "Epoch 52/70\n",
            "625/625 [==============================] - 11s 17ms/step - loss: 0.1963 - accuracy: 0.9780 - val_loss: 1.2961 - val_accuracy: 0.9280\n",
            "Epoch 53/70\n",
            "625/625 [==============================] - 11s 17ms/step - loss: 0.1869 - accuracy: 0.9808 - val_loss: 1.4138 - val_accuracy: 0.9240\n",
            "Epoch 54/70\n",
            "625/625 [==============================] - 11s 17ms/step - loss: 0.2079 - accuracy: 0.9803 - val_loss: 1.1693 - val_accuracy: 0.9280\n",
            "Epoch 55/70\n",
            "625/625 [==============================] - 11s 17ms/step - loss: 0.2093 - accuracy: 0.9773 - val_loss: 2.5970 - val_accuracy: 0.9270\n",
            "Epoch 56/70\n",
            "625/625 [==============================] - 11s 17ms/step - loss: 0.2266 - accuracy: 0.9808 - val_loss: 1.8810 - val_accuracy: 0.9260\n",
            "Epoch 57/70\n",
            "625/625 [==============================] - 11s 17ms/step - loss: 0.2674 - accuracy: 0.9805 - val_loss: 1.3719 - val_accuracy: 0.9250\n",
            "Epoch 58/70\n",
            "625/625 [==============================] - 11s 17ms/step - loss: 0.2327 - accuracy: 0.9792 - val_loss: 2.0332 - val_accuracy: 0.9100\n",
            "Epoch 59/70\n",
            "625/625 [==============================] - 11s 17ms/step - loss: 0.2375 - accuracy: 0.9827 - val_loss: 2.2098 - val_accuracy: 0.9230\n",
            "Epoch 60/70\n",
            "625/625 [==============================] - 11s 17ms/step - loss: 0.2170 - accuracy: 0.9829 - val_loss: 1.7933 - val_accuracy: 0.9310\n",
            "Epoch 61/70\n",
            "625/625 [==============================] - 11s 17ms/step - loss: 0.2837 - accuracy: 0.9790 - val_loss: 1.5928 - val_accuracy: 0.9140\n",
            "Epoch 62/70\n",
            "625/625 [==============================] - 11s 17ms/step - loss: 0.2381 - accuracy: 0.9800 - val_loss: 2.1488 - val_accuracy: 0.9000\n",
            "Epoch 63/70\n",
            "625/625 [==============================] - 11s 17ms/step - loss: 0.3016 - accuracy: 0.9814 - val_loss: 2.4101 - val_accuracy: 0.9230\n",
            "Epoch 64/70\n",
            "625/625 [==============================] - 11s 17ms/step - loss: 0.2682 - accuracy: 0.9816 - val_loss: 2.4662 - val_accuracy: 0.9180\n",
            "Epoch 65/70\n",
            "625/625 [==============================] - 11s 17ms/step - loss: 0.2924 - accuracy: 0.9806 - val_loss: 2.8647 - val_accuracy: 0.9160\n",
            "Epoch 66/70\n",
            "625/625 [==============================] - 11s 17ms/step - loss: 0.2715 - accuracy: 0.9841 - val_loss: 2.8183 - val_accuracy: 0.9130\n",
            "Epoch 67/70\n",
            "625/625 [==============================] - 11s 17ms/step - loss: 0.3115 - accuracy: 0.9826 - val_loss: 2.8955 - val_accuracy: 0.9360\n",
            "Epoch 68/70\n",
            "625/625 [==============================] - 11s 17ms/step - loss: 0.3187 - accuracy: 0.9834 - val_loss: 2.2802 - val_accuracy: 0.9260\n",
            "Epoch 69/70\n",
            "625/625 [==============================] - 11s 17ms/step - loss: 0.2634 - accuracy: 0.9844 - val_loss: 2.3698 - val_accuracy: 0.9300\n",
            "Epoch 70/70\n",
            "625/625 [==============================] - 11s 17ms/step - loss: 0.2822 - accuracy: 0.9833 - val_loss: 4.3398 - val_accuracy: 0.9230\n"
          ]
        }
      ]
    },
    {
      "cell_type": "markdown",
      "source": [
        "Checking the test data"
      ],
      "metadata": {
        "id": "6WJtsaBW3LkZ"
      }
    },
    {
      "cell_type": "code",
      "source": [
        "test_model = keras.models.load_model(\n",
        "    \"convnet_from_scratch2.keras\")\n",
        "test_loss, test_acc = test_model.evaluate(dataset_Testing)\n",
        "print(f\"Test accuracy: {test_acc:.3f}\")"
      ],
      "metadata": {
        "id": "iku5_FjT3SON",
        "colab": {
          "base_uri": "https://localhost:8080/"
        },
        "outputId": "2a154600-8d93-4d4f-fbda-d569a52e571d"
      },
      "execution_count": 40,
      "outputs": [
        {
          "output_type": "stream",
          "name": "stdout",
          "text": [
            "63/63 [==============================] - 1s 10ms/step - loss: 0.1009 - accuracy: 0.9590\n",
            "Test accuracy: 0.959\n"
          ]
        }
      ]
    },
    {
      "cell_type": "markdown",
      "source": [
        "Question-4\n",
        "\n",
        "Repeat Steps 1-3, but now using a pretrained network. The sample sizes you use in Steps 2 and 3 for the pretrained network may be the same or different from those using the network where you trained from scratch. Again, use any and all optimization techniques to get best performance.\n"
      ],
      "metadata": {
        "id": "DkbHB4zh3ZUD"
      }
    },
    {
      "cell_type": "markdown",
      "source": [
        "**Improving the performance of the pretrained models**"
      ],
      "metadata": {
        "id": "YQUDmlgU3iQb"
      }
    },
    {
      "cell_type": "markdown",
      "source": [
        "Likewise above steps, we will be using different sample sizes on pretrained models and check its performance on the models earlier"
      ],
      "metadata": {
        "id": "C79flH7O30Y4"
      }
    },
    {
      "cell_type": "markdown",
      "source": [
        "Pre-Trained model with 1000 samples"
      ],
      "metadata": {
        "id": "QJWLtbVg4ZXG"
      }
    },
    {
      "cell_type": "markdown",
      "source": [
        "**VGG16 convolutional base**"
      ],
      "metadata": {
        "id": "oTkMcg7W4eVC"
      }
    },
    {
      "cell_type": "code",
      "source": [
        "Conv_base  = keras.applications.vgg16.VGG16(\n",
        "    weights=\"imagenet\",\n",
        "    include_top=False,\n",
        "    input_shape=(180, 180, 3))"
      ],
      "metadata": {
        "id": "oKFOXAP14my5",
        "colab": {
          "base_uri": "https://localhost:8080/"
        },
        "outputId": "3f5d40ae-369f-4994-807f-f930ad787924"
      },
      "execution_count": 41,
      "outputs": [
        {
          "output_type": "stream",
          "name": "stdout",
          "text": [
            "Downloading data from https://storage.googleapis.com/tensorflow/keras-applications/vgg16/vgg16_weights_tf_dim_ordering_tf_kernels_notop.h5\n",
            "58889256/58889256 [==============================] - 2s 0us/step\n"
          ]
        }
      ]
    },
    {
      "cell_type": "code",
      "source": [
        "Conv_base.summary()"
      ],
      "metadata": {
        "colab": {
          "base_uri": "https://localhost:8080/"
        },
        "id": "LUvfQPit40nI",
        "outputId": "fd08d325-4d02-40fe-8ca7-90f96c9bc322"
      },
      "execution_count": 42,
      "outputs": [
        {
          "output_type": "stream",
          "name": "stdout",
          "text": [
            "Model: \"vgg16\"\n",
            "_________________________________________________________________\n",
            " Layer (type)                Output Shape              Param #   \n",
            "=================================================================\n",
            " input_8 (InputLayer)        [(None, 180, 180, 3)]     0         \n",
            "                                                                 \n",
            " block1_conv1 (Conv2D)       (None, 180, 180, 64)      1792      \n",
            "                                                                 \n",
            " block1_conv2 (Conv2D)       (None, 180, 180, 64)      36928     \n",
            "                                                                 \n",
            " block1_pool (MaxPooling2D)  (None, 90, 90, 64)        0         \n",
            "                                                                 \n",
            " block2_conv1 (Conv2D)       (None, 90, 90, 128)       73856     \n",
            "                                                                 \n",
            " block2_conv2 (Conv2D)       (None, 90, 90, 128)       147584    \n",
            "                                                                 \n",
            " block2_pool (MaxPooling2D)  (None, 45, 45, 128)       0         \n",
            "                                                                 \n",
            " block3_conv1 (Conv2D)       (None, 45, 45, 256)       295168    \n",
            "                                                                 \n",
            " block3_conv2 (Conv2D)       (None, 45, 45, 256)       590080    \n",
            "                                                                 \n",
            " block3_conv3 (Conv2D)       (None, 45, 45, 256)       590080    \n",
            "                                                                 \n",
            " block3_pool (MaxPooling2D)  (None, 22, 22, 256)       0         \n",
            "                                                                 \n",
            " block4_conv1 (Conv2D)       (None, 22, 22, 512)       1180160   \n",
            "                                                                 \n",
            " block4_conv2 (Conv2D)       (None, 22, 22, 512)       2359808   \n",
            "                                                                 \n",
            " block4_conv3 (Conv2D)       (None, 22, 22, 512)       2359808   \n",
            "                                                                 \n",
            " block4_pool (MaxPooling2D)  (None, 11, 11, 512)       0         \n",
            "                                                                 \n",
            " block5_conv1 (Conv2D)       (None, 11, 11, 512)       2359808   \n",
            "                                                                 \n",
            " block5_conv2 (Conv2D)       (None, 11, 11, 512)       2359808   \n",
            "                                                                 \n",
            " block5_conv3 (Conv2D)       (None, 11, 11, 512)       2359808   \n",
            "                                                                 \n",
            " block5_pool (MaxPooling2D)  (None, 5, 5, 512)         0         \n",
            "                                                                 \n",
            "=================================================================\n",
            "Total params: 14714688 (56.13 MB)\n",
            "Trainable params: 14714688 (56.13 MB)\n",
            "Non-trainable params: 0 (0.00 Byte)\n",
            "_________________________________________________________________\n"
          ]
        }
      ]
    },
    {
      "cell_type": "markdown",
      "source": [
        "Improving the performance of the pretrained model"
      ],
      "metadata": {
        "id": "JCrBWGvc5WhI"
      }
    },
    {
      "cell_type": "code",
      "source": [
        "conv_base  = keras.applications.vgg16.VGG16(\n",
        "    weights=\"imagenet\",\n",
        "    include_top=False)"
      ],
      "metadata": {
        "id": "LAipkHrj5RSB"
      },
      "execution_count": 43,
      "outputs": []
    },
    {
      "cell_type": "markdown",
      "source": [
        "Freezing the layers"
      ],
      "metadata": {
        "id": "ehhpqn-F5ZEN"
      }
    },
    {
      "cell_type": "code",
      "source": [
        "conv_base.trainable = True\n",
        "for layer in conv_base.layers[:-4]:\n",
        "    layer.trainable = False"
      ],
      "metadata": {
        "id": "7NayNs7T5esB"
      },
      "execution_count": 44,
      "outputs": []
    },
    {
      "cell_type": "markdown",
      "source": [
        "Adding a data augmentation stage and classifier to this convolutional base"
      ],
      "metadata": {
        "id": "JcUd_PJD5kn8"
      }
    },
    {
      "cell_type": "code",
      "source": [
        "data_augmentation = keras.Sequential(\n",
        "    [\n",
        "        layers.RandomFlip(\"horizontal\"),\n",
        "        layers.RandomRotation(0.3),\n",
        "        layers.RandomZoom(0.5),\n",
        "    ]\n",
        ")\n",
        "\n",
        "inputs = keras.Input(shape=(180, 180, 3))\n",
        "x = data_augmentation(inputs)\n",
        "x = layers.Rescaling(1./255)(x)\n",
        "x = layers.Conv2D(filters=32, kernel_size=3, activation=\"relu\")(x)\n",
        "x = layers.MaxPooling2D(pool_size=2)(x)\n",
        "x = layers.Conv2D(filters=64, kernel_size=3, activation=\"relu\")(x)\n",
        "x = layers.MaxPooling2D(pool_size=2)(x)\n",
        "x = layers.Conv2D(filters=128, kernel_size=3, activation=\"relu\")(x)\n",
        "x = layers.MaxPooling2D(pool_size=2)(x)\n",
        "x = layers.Conv2D(filters=256, kernel_size=3, activation=\"relu\")(x)\n",
        "x = layers.MaxPooling2D(pool_size=2)(x)\n",
        "x = layers.Conv2D(filters=256, kernel_size=3, activation=\"relu\")(x)\n",
        "x = layers.Flatten()(x)\n",
        "x = layers.Dropout(0.5)(x)\n",
        "outputs = layers.Dense(1, activation=\"sigmoid\")(x)\n",
        "model = keras.Model(inputs=inputs, outputs=outputs)\n",
        "\n",
        "model.compile(loss=\"binary_crossentropy\",optimizer=\"rmsprop\",metrics=[\"accuracy\"])\n"
      ],
      "metadata": {
        "id": "jQwXYxxA5r_Y"
      },
      "execution_count": 45,
      "outputs": []
    },
    {
      "cell_type": "code",
      "source": [
        "callbacks = [\n",
        "    keras.callbacks.ModelCheckpoint(\n",
        "        filepath=\"convnet_from_scratch_augmentation.keras\",\n",
        "        save_best_only=True,\n",
        "        monitor=\"val_loss\")\n",
        "]\n",
        "history = model.fit(\n",
        "   dataset_Training,\n",
        "   epochs=20,\n",
        "   validation_data=dataset_Validation,\n",
        "   callbacks=callbacks)\n"
      ],
      "metadata": {
        "colab": {
          "base_uri": "https://localhost:8080/"
        },
        "id": "ebvIprUs5wp8",
        "outputId": "70f7ed63-e086-4cde-f0b4-4876a33cf244"
      },
      "execution_count": 47,
      "outputs": [
        {
          "output_type": "stream",
          "name": "stdout",
          "text": [
            "Epoch 1/20\n",
            "32/32 [==============================] - 3s 38ms/step - loss: 0.7001 - accuracy: 0.5050 - val_loss: 0.6939 - val_accuracy: 0.5000\n",
            "Epoch 2/20\n",
            "32/32 [==============================] - 1s 32ms/step - loss: 0.6934 - accuracy: 0.4990 - val_loss: 0.6938 - val_accuracy: 0.5000\n",
            "Epoch 3/20\n",
            "32/32 [==============================] - 1s 29ms/step - loss: 0.6935 - accuracy: 0.5390 - val_loss: 0.7296 - val_accuracy: 0.5000\n",
            "Epoch 4/20\n",
            "32/32 [==============================] - 1s 33ms/step - loss: 0.6943 - accuracy: 0.5610 - val_loss: 0.6892 - val_accuracy: 0.5300\n",
            "Epoch 5/20\n",
            "32/32 [==============================] - 1s 29ms/step - loss: 0.6760 - accuracy: 0.5940 - val_loss: 0.7485 - val_accuracy: 0.5270\n",
            "Epoch 6/20\n",
            "32/32 [==============================] - 1s 29ms/step - loss: 0.6851 - accuracy: 0.5810 - val_loss: 0.7158 - val_accuracy: 0.5030\n",
            "Epoch 7/20\n",
            "32/32 [==============================] - 1s 29ms/step - loss: 0.6691 - accuracy: 0.6200 - val_loss: 0.7167 - val_accuracy: 0.5020\n",
            "Epoch 8/20\n",
            "32/32 [==============================] - 1s 32ms/step - loss: 0.6737 - accuracy: 0.5880 - val_loss: 0.6803 - val_accuracy: 0.5430\n",
            "Epoch 9/20\n",
            "32/32 [==============================] - 1s 32ms/step - loss: 0.6703 - accuracy: 0.5900 - val_loss: 0.6787 - val_accuracy: 0.5300\n",
            "Epoch 10/20\n",
            "32/32 [==============================] - 1s 31ms/step - loss: 0.6421 - accuracy: 0.6410 - val_loss: 2.1532 - val_accuracy: 0.5000\n",
            "Epoch 11/20\n",
            "32/32 [==============================] - 1s 31ms/step - loss: 0.6884 - accuracy: 0.6330 - val_loss: 0.7360 - val_accuracy: 0.6030\n",
            "Epoch 12/20\n",
            "32/32 [==============================] - 1s 34ms/step - loss: 0.6495 - accuracy: 0.6320 - val_loss: 0.6606 - val_accuracy: 0.6030\n",
            "Epoch 13/20\n",
            "32/32 [==============================] - 1s 35ms/step - loss: 0.6261 - accuracy: 0.6260 - val_loss: 0.6151 - val_accuracy: 0.6720\n",
            "Epoch 14/20\n",
            "32/32 [==============================] - 1s 31ms/step - loss: 0.6341 - accuracy: 0.6550 - val_loss: 0.7112 - val_accuracy: 0.5320\n",
            "Epoch 15/20\n",
            "32/32 [==============================] - 1s 35ms/step - loss: 0.6192 - accuracy: 0.6500 - val_loss: 0.6084 - val_accuracy: 0.6930\n",
            "Epoch 16/20\n",
            "32/32 [==============================] - 1s 30ms/step - loss: 0.6406 - accuracy: 0.6490 - val_loss: 0.6595 - val_accuracy: 0.5960\n",
            "Epoch 17/20\n",
            "32/32 [==============================] - 1s 32ms/step - loss: 0.6149 - accuracy: 0.6800 - val_loss: 0.5802 - val_accuracy: 0.7020\n",
            "Epoch 18/20\n",
            "32/32 [==============================] - 1s 29ms/step - loss: 0.6109 - accuracy: 0.6620 - val_loss: 0.6609 - val_accuracy: 0.6090\n",
            "Epoch 19/20\n",
            "32/32 [==============================] - 1s 31ms/step - loss: 0.5996 - accuracy: 0.6990 - val_loss: 0.6360 - val_accuracy: 0.6030\n",
            "Epoch 20/20\n",
            "32/32 [==============================] - 1s 30ms/step - loss: 0.6116 - accuracy: 0.6750 - val_loss: 0.6601 - val_accuracy: 0.5710\n"
          ]
        }
      ]
    },
    {
      "cell_type": "code",
      "source": [
        "import matplotlib.pyplot as plt\n",
        "accuracy = history.history[\"accuracy\"]\n",
        "val_accuracy = history.history[\"val_accuracy\"]\n",
        "loss = history.history[\"loss\"]\n",
        "val_loss = history.history[\"val_loss\"]\n",
        "epochs = range(1, len(accuracy) + 1)\n",
        "plt.plot(epochs, accuracy, \"bo\", label=\"Training accuracy\")\n",
        "plt.plot(epochs, val_accuracy, \"b\", label=\"Validation accuracy\")\n",
        "plt.title(\"Training and validation accuracy with Data Augmentation\")\n",
        "plt.legend()\n",
        "plt.figure()\n",
        "plt.plot(epochs, loss, \"bo\", label=\"Training loss\")\n",
        "plt.plot(epochs, val_loss, \"b\", label=\"Validation loss\")\n",
        "plt.title(\"Training and validation loss with Data Augmentation\")\n",
        "plt.legend()\n",
        "plt.show()"
      ],
      "metadata": {
        "id": "seSLV-uc8AjM",
        "colab": {
          "base_uri": "https://localhost:8080/",
          "height": 887
        },
        "outputId": "c2f70c4c-a0a6-4c20-be22-93d7315a92c1"
      },
      "execution_count": 48,
      "outputs": [
        {
          "output_type": "display_data",
          "data": {
            "text/plain": [
              "<Figure size 640x480 with 1 Axes>"
            ],
            "image/png": "[encoded data removed]"
          },
          "metadata": {}
        },
        {
          "output_type": "display_data",
          "data": {
            "text/plain": [
              "<Figure size 640x480 with 1 Axes>"
            ],
            "image/png": "[encoded data removed]"
          },
          "metadata": {}
        }
      ]
    },
    {
      "cell_type": "code",
      "source": [
        "model = keras.models.load_model(\"convnet_from_scratch_augmentation.keras\")\n",
        "test_loss, test_acc = model.evaluate(dataset_Testing)\n",
        "print(f\"Test accuracy: {test_acc:.3f}\")"
      ],
      "metadata": {
        "id": "6U6Khv5Y8Ezv",
        "colab": {
          "base_uri": "https://localhost:8080/"
        },
        "outputId": "7915dda1-2495-4016-e63d-d68af78154cb"
      },
      "execution_count": 50,
      "outputs": [
        {
          "output_type": "stream",
          "name": "stdout",
          "text": [
            "63/63 [==============================] - 1s 10ms/step - loss: 0.5959 - accuracy: 0.6710\n",
            "Test accuracy: 0.671\n"
          ]
        }
      ]
    },
    {
      "cell_type": "markdown",
      "source": [
        "VGG16 convolutional base"
      ],
      "metadata": {
        "id": "u8QELD3h8QJy"
      }
    },
    {
      "cell_type": "code",
      "source": [
        "conv_base  = keras.applications.vgg16.VGG16(\n",
        "    weights=\"imagenet\",\n",
        "    include_top=False,\n",
        "    input_shape=(180, 180, 3))"
      ],
      "metadata": {
        "id": "jtyhHPGc8X_x"
      },
      "execution_count": 51,
      "outputs": []
    },
    {
      "cell_type": "code",
      "source": [
        "import numpy as np\n",
        "def get_features_and_labels(dataset):\n",
        "    all_features = []\n",
        "    all_labels = []\n",
        "    for images, labels in dataset:\n",
        "        preprocessed_images = keras.applications.vgg16.preprocess_input(images)\n",
        "        features = conv_base.predict(preprocessed_images)\n",
        "        all_features.append(features)\n",
        "        all_labels.append(labels)\n",
        "    return np.concatenate(all_features), np.concatenate(all_labels)\n",
        "\n",
        "train_features, train_labels = get_features_and_labels(dataset_Training)\n",
        "val_features, val_labels = get_features_and_labels(dataset_Validation)\n",
        "test_features, test_labels = get_features_and_labels(dataset_Testing)"
      ],
      "metadata": {
        "id": "JyagDjbE3ClB",
        "colab": {
          "base_uri": "https://localhost:8080/"
        },
        "outputId": "c4239681-4067-4197-b67a-e03a6ad1c3d8"
      },
      "execution_count": 52,
      "outputs": [
        {
          "output_type": "stream",
          "name": "stdout",
          "text": [
            "1/1 [==============================] - 2s 2s/step\n",
            "1/1 [==============================] - 0s 28ms/step\n",
            "1/1 [==============================] - 0s 28ms/step\n",
            "1/1 [==============================] - 0s 27ms/step\n",
            "1/1 [==============================] - 0s 27ms/step\n",
            "1/1 [==============================] - 0s 27ms/step\n",
            "1/1 [==============================] - 0s 28ms/step\n",
            "1/1 [==============================] - 0s 26ms/step\n",
            "1/1 [==============================] - 0s 33ms/step\n",
            "1/1 [==============================] - 0s 28ms/step\n",
            "1/1 [==============================] - 0s 29ms/step\n",
            "1/1 [==============================] - 0s 27ms/step\n",
            "1/1 [==============================] - 0s 27ms/step\n",
            "1/1 [==============================] - 0s 27ms/step\n",
            "1/1 [==============================] - 0s 32ms/step\n",
            "1/1 [==============================] - 0s 30ms/step\n",
            "1/1 [==============================] - 0s 30ms/step\n",
            "1/1 [==============================] - 0s 31ms/step\n",
            "1/1 [==============================] - 0s 31ms/step\n",
            "1/1 [==============================] - 0s 32ms/step\n",
            "1/1 [==============================] - 0s 32ms/step\n",
            "1/1 [==============================] - 0s 32ms/step\n",
            "1/1 [==============================] - 0s 34ms/step\n",
            "1/1 [==============================] - 0s 33ms/step\n",
            "1/1 [==============================] - 0s 32ms/step\n",
            "1/1 [==============================] - 0s 34ms/step\n",
            "1/1 [==============================] - 0s 27ms/step\n",
            "1/1 [==============================] - 0s 26ms/step\n",
            "1/1 [==============================] - 0s 28ms/step\n",
            "1/1 [==============================] - 0s 26ms/step\n",
            "1/1 [==============================] - 0s 28ms/step\n",
            "1/1 [==============================] - 1s 733ms/step\n",
            "1/1 [==============================] - 0s 26ms/step\n",
            "1/1 [==============================] - 0s 27ms/step\n",
            "1/1 [==============================] - 0s 27ms/step\n",
            "1/1 [==============================] - 0s 32ms/step\n",
            "1/1 [==============================] - 0s 27ms/step\n",
            "1/1 [==============================] - 0s 26ms/step\n",
            "1/1 [==============================] - 0s 30ms/step\n",
            "1/1 [==============================] - 0s 27ms/step\n",
            "1/1 [==============================] - 0s 26ms/step\n",
            "1/1 [==============================] - 0s 27ms/step\n",
            "1/1 [==============================] - 0s 25ms/step\n",
            "1/1 [==============================] - 0s 26ms/step\n",
            "1/1 [==============================] - 0s 27ms/step\n",
            "1/1 [==============================] - 0s 31ms/step\n",
            "1/1 [==============================] - 0s 27ms/step\n",
            "1/1 [==============================] - 0s 31ms/step\n",
            "1/1 [==============================] - 0s 30ms/step\n",
            "1/1 [==============================] - 0s 26ms/step\n",
            "1/1 [==============================] - 0s 29ms/step\n",
            "1/1 [==============================] - 0s 32ms/step\n",
            "1/1 [==============================] - 0s 26ms/step\n",
            "1/1 [==============================] - 0s 25ms/step\n",
            "1/1 [==============================] - 0s 26ms/step\n",
            "1/1 [==============================] - 0s 25ms/step\n",
            "1/1 [==============================] - 0s 29ms/step\n",
            "1/1 [==============================] - 0s 30ms/step\n",
            "1/1 [==============================] - 0s 25ms/step\n",
            "1/1 [==============================] - 0s 26ms/step\n",
            "1/1 [==============================] - 0s 31ms/step\n",
            "1/1 [==============================] - 0s 28ms/step\n",
            "1/1 [==============================] - 0s 26ms/step\n",
            "1/1 [==============================] - 0s 22ms/step\n",
            "1/1 [==============================] - 0s 25ms/step\n",
            "1/1 [==============================] - 0s 25ms/step\n",
            "1/1 [==============================] - 0s 31ms/step\n",
            "1/1 [==============================] - 0s 24ms/step\n",
            "1/1 [==============================] - 0s 24ms/step\n",
            "1/1 [==============================] - 0s 31ms/step\n",
            "1/1 [==============================] - 0s 26ms/step\n",
            "1/1 [==============================] - 0s 30ms/step\n",
            "1/1 [==============================] - 0s 26ms/step\n",
            "1/1 [==============================] - 0s 26ms/step\n",
            "1/1 [==============================] - 0s 32ms/step\n",
            "1/1 [==============================] - 0s 25ms/step\n",
            "1/1 [==============================] - 0s 25ms/step\n",
            "1/1 [==============================] - 0s 29ms/step\n",
            "1/1 [==============================] - 0s 26ms/step\n",
            "1/1 [==============================] - 0s 26ms/step\n",
            "1/1 [==============================] - 0s 33ms/step\n",
            "1/1 [==============================] - 0s 30ms/step\n",
            "1/1 [==============================] - 0s 27ms/step\n",
            "1/1 [==============================] - 0s 30ms/step\n",
            "1/1 [==============================] - 0s 25ms/step\n",
            "1/1 [==============================] - 0s 25ms/step\n",
            "1/1 [==============================] - 0s 25ms/step\n",
            "1/1 [==============================] - 0s 24ms/step\n",
            "1/1 [==============================] - 0s 27ms/step\n",
            "1/1 [==============================] - 0s 25ms/step\n",
            "1/1 [==============================] - 0s 32ms/step\n",
            "1/1 [==============================] - 0s 25ms/step\n",
            "1/1 [==============================] - 0s 25ms/step\n",
            "1/1 [==============================] - 0s 26ms/step\n",
            "1/1 [==============================] - 0s 25ms/step\n",
            "1/1 [==============================] - 0s 25ms/step\n",
            "1/1 [==============================] - 0s 27ms/step\n",
            "1/1 [==============================] - 0s 26ms/step\n",
            "1/1 [==============================] - 0s 25ms/step\n",
            "1/1 [==============================] - 0s 25ms/step\n",
            "1/1 [==============================] - 0s 26ms/step\n",
            "1/1 [==============================] - 0s 29ms/step\n",
            "1/1 [==============================] - 0s 28ms/step\n",
            "1/1 [==============================] - 0s 26ms/step\n",
            "1/1 [==============================] - 0s 25ms/step\n",
            "1/1 [==============================] - 0s 26ms/step\n",
            "1/1 [==============================] - 0s 27ms/step\n",
            "1/1 [==============================] - 0s 25ms/step\n",
            "1/1 [==============================] - 0s 27ms/step\n",
            "1/1 [==============================] - 0s 24ms/step\n",
            "1/1 [==============================] - 0s 26ms/step\n",
            "1/1 [==============================] - 0s 26ms/step\n",
            "1/1 [==============================] - 0s 26ms/step\n",
            "1/1 [==============================] - 0s 26ms/step\n",
            "1/1 [==============================] - 0s 31ms/step\n",
            "1/1 [==============================] - 0s 28ms/step\n",
            "1/1 [==============================] - 0s 26ms/step\n",
            "1/1 [==============================] - 0s 31ms/step\n",
            "1/1 [==============================] - 0s 26ms/step\n",
            "1/1 [==============================] - 0s 26ms/step\n",
            "1/1 [==============================] - 0s 28ms/step\n",
            "1/1 [==============================] - 0s 26ms/step\n",
            "1/1 [==============================] - 0s 26ms/step\n",
            "1/1 [==============================] - 0s 25ms/step\n",
            "1/1 [==============================] - 0s 26ms/step\n",
            "1/1 [==============================] - 0s 26ms/step\n",
            "1/1 [==============================] - 1s 870ms/step\n"
          ]
        }
      ]
    },
    {
      "cell_type": "markdown",
      "source": [
        "Improving the model and freezing the layers"
      ],
      "metadata": {
        "id": "_Ru-z4MY8b9B"
      }
    },
    {
      "cell_type": "code",
      "source": [
        "conv_base  = keras.applications.vgg16.VGG16(\n",
        "    weights=\"imagenet\",\n",
        "    include_top=False)\n",
        "\n",
        "conv_base.trainable = True\n",
        "for layer in conv_base.layers[:-4]:\n",
        "    layer.trainable = False"
      ],
      "metadata": {
        "id": "wsWTjJ2X8gar"
      },
      "execution_count": 53,
      "outputs": []
    },
    {
      "cell_type": "markdown",
      "source": [
        "Adding a data augmentation stage and classifier to this convolutional base"
      ],
      "metadata": {
        "id": "zWDWyobj8jmi"
      }
    },
    {
      "cell_type": "code",
      "source": [
        "inputs = keras.Input(shape=(5, 5, 512))\n",
        "x = layers.Flatten()(inputs)\n",
        "x = layers.Dense(256)(x)\n",
        "x = layers.Dropout(0.5)(x)\n",
        "outputs = layers.Dense(1, activation=\"sigmoid\")(x)\n",
        "model = keras.Model(inputs, outputs)\n",
        "\n",
        "model.compile(loss=\"binary_crossentropy\", optimizer=\"rmsprop\", metrics=[\"accuracy\"])\n",
        "\n",
        "\n",
        "callbacks = [\n",
        " keras.callbacks.ModelCheckpoint(\n",
        " filepath=\"feature_extraction.keras\",\n",
        " save_best_only=True,\n",
        " monitor=\"val_loss\")\n",
        "]\n",
        "history = model.fit(\n",
        " train_features, train_labels,\n",
        " epochs=20,\n",
        " validation_data=(val_features, val_labels),\n",
        " callbacks=callbacks)"
      ],
      "metadata": {
        "id": "sgBG5IOc8qVx",
        "colab": {
          "base_uri": "https://localhost:8080/"
        },
        "outputId": "ae077226-f067-40cc-f9df-b6fde05a248f"
      },
      "execution_count": 54,
      "outputs": [
        {
          "output_type": "stream",
          "name": "stdout",
          "text": [
            "Epoch 1/20\n",
            "32/32 [==============================] - 1s 19ms/step - loss: 17.5061 - accuracy: 0.9160 - val_loss: 9.5792 - val_accuracy: 0.9460\n",
            "Epoch 2/20\n",
            "32/32 [==============================] - 0s 12ms/step - loss: 3.3404 - accuracy: 0.9780 - val_loss: 7.8623 - val_accuracy: 0.9580\n",
            "Epoch 3/20\n",
            "32/32 [==============================] - 0s 7ms/step - loss: 1.8666 - accuracy: 0.9820 - val_loss: 9.4706 - val_accuracy: 0.9570\n",
            "Epoch 4/20\n",
            "32/32 [==============================] - 0s 7ms/step - loss: 1.6792 - accuracy: 0.9910 - val_loss: 8.2244 - val_accuracy: 0.9580\n",
            "Epoch 5/20\n",
            "32/32 [==============================] - 0s 7ms/step - loss: 1.2176 - accuracy: 0.9910 - val_loss: 8.4795 - val_accuracy: 0.9580\n",
            "Epoch 6/20\n",
            "32/32 [==============================] - 0s 11ms/step - loss: 0.1544 - accuracy: 0.9980 - val_loss: 7.4617 - val_accuracy: 0.9620\n",
            "Epoch 7/20\n",
            "32/32 [==============================] - 0s 7ms/step - loss: 0.1256 - accuracy: 0.9980 - val_loss: 8.3390 - val_accuracy: 0.9610\n",
            "Epoch 8/20\n",
            "32/32 [==============================] - 0s 7ms/step - loss: 0.4411 - accuracy: 0.9950 - val_loss: 10.4134 - val_accuracy: 0.9590\n",
            "Epoch 9/20\n",
            "32/32 [==============================] - 0s 7ms/step - loss: 0.8098 - accuracy: 0.9940 - val_loss: 7.6921 - val_accuracy: 0.9680\n",
            "Epoch 10/20\n",
            "32/32 [==============================] - 0s 7ms/step - loss: 0.1405 - accuracy: 0.9960 - val_loss: 10.4089 - val_accuracy: 0.9630\n",
            "Epoch 11/20\n",
            "32/32 [==============================] - 0s 7ms/step - loss: 0.7298 - accuracy: 0.9940 - val_loss: 10.7112 - val_accuracy: 0.9560\n",
            "Epoch 12/20\n",
            "32/32 [==============================] - 0s 7ms/step - loss: 0.0277 - accuracy: 0.9990 - val_loss: 12.3225 - val_accuracy: 0.9550\n",
            "Epoch 13/20\n",
            "32/32 [==============================] - 0s 7ms/step - loss: 0.2657 - accuracy: 0.9950 - val_loss: 10.8789 - val_accuracy: 0.9560\n",
            "Epoch 14/20\n",
            "32/32 [==============================] - 0s 7ms/step - loss: 1.1302 - accuracy: 0.9910 - val_loss: 9.4590 - val_accuracy: 0.9680\n",
            "Epoch 15/20\n",
            "32/32 [==============================] - 0s 7ms/step - loss: 1.2616e-25 - accuracy: 1.0000 - val_loss: 9.4590 - val_accuracy: 0.9680\n",
            "Epoch 16/20\n",
            "32/32 [==============================] - 0s 7ms/step - loss: 0.4155 - accuracy: 0.9960 - val_loss: 10.4222 - val_accuracy: 0.9590\n",
            "Epoch 17/20\n",
            "32/32 [==============================] - 0s 7ms/step - loss: 0.0361 - accuracy: 0.9970 - val_loss: 10.8774 - val_accuracy: 0.9650\n",
            "Epoch 18/20\n",
            "32/32 [==============================] - 0s 7ms/step - loss: 7.0958e-30 - accuracy: 1.0000 - val_loss: 10.8774 - val_accuracy: 0.9650\n",
            "Epoch 19/20\n",
            "32/32 [==============================] - 0s 7ms/step - loss: 0.0000e+00 - accuracy: 1.0000 - val_loss: 10.8774 - val_accuracy: 0.9650\n",
            "Epoch 20/20\n",
            "32/32 [==============================] - 0s 7ms/step - loss: 0.0000e+00 - accuracy: 1.0000 - val_loss: 10.8774 - val_accuracy: 0.9650\n"
          ]
        }
      ]
    },
    {
      "cell_type": "code",
      "source": [
        "import matplotlib.pyplot as plt\n",
        "acc = history.history[\"accuracy\"]\n",
        "val_acc = history.history[\"val_accuracy\"]\n",
        "loss = history.history[\"loss\"]\n",
        "val_loss = history.history[\"val_loss\"]\n",
        "epochs = range(1, len(acc) + 1)\n",
        "plt.plot(epochs, acc, \"bo\", label=\"Training accuracy\")\n",
        "plt.plot(epochs, val_acc, \"b\", label=\"Validation accuracy\")\n",
        "plt.title(\"Training and validation accuracy for Feature extraction\")\n",
        "plt.legend()\n",
        "plt.figure()\n",
        "plt.plot(epochs, loss, \"bo\", label=\"Training loss\")\n",
        "plt.plot(epochs, val_loss, \"b\", label=\"Validation loss\")\n",
        "plt.title(\"Training and validation loss for feature extraction\")\n",
        "plt.legend()\n",
        "plt.show()"
      ],
      "metadata": {
        "id": "kKkOE8S73fbD",
        "colab": {
          "base_uri": "https://localhost:8080/",
          "height": 887
        },
        "outputId": "c2ae20c3-043e-4cc5-b84d-23384885fb75"
      },
      "execution_count": 55,
      "outputs": [
        {
          "output_type": "display_data",
          "data": {
            "text/plain": [
              "<Figure size 640x480 with 1 Axes>"
            ],
            "image/png": "[encoded data removed]"
          },
          "metadata": {}
        },
        {
          "output_type": "display_data",
          "data": {
            "text/plain": [
              "<Figure size 640x480 with 1 Axes>"
            ],
            "image/png": "[encoded data removed]"
          },
          "metadata": {}
        }
      ]
    },
    {
      "cell_type": "markdown",
      "source": [
        "**Pre-Trained model with 10000 samples**"
      ],
      "metadata": {
        "id": "K8G96BOc9Ky5"
      }
    },
    {
      "cell_type": "markdown",
      "source": [
        "VGG16 convolutional base"
      ],
      "metadata": {
        "id": "0vjf4mcA9Kis"
      }
    },
    {
      "cell_type": "code",
      "source": [
        "conv_base  = keras.applications.vgg16.VGG16(\n",
        "    weights=\"imagenet\",\n",
        "    include_top=False,\n",
        "    input_shape=(180, 180, 3))"
      ],
      "metadata": {
        "id": "GWcgHNPy-5T5"
      },
      "execution_count": 56,
      "outputs": []
    },
    {
      "cell_type": "markdown",
      "source": [
        "Improving the pretrained model and freezing layers"
      ],
      "metadata": {
        "id": "kaj3XFcC-7z-"
      }
    },
    {
      "cell_type": "code",
      "source": [
        "conv_base  = keras.applications.vgg16.VGG16(\n",
        "    weights=\"imagenet\",\n",
        "    include_top=False)\n",
        "\n",
        "conv_base.trainable = True\n",
        "for layer in conv_base.layers[:-4]:\n",
        "    layer.trainable = False"
      ],
      "metadata": {
        "id": "1GD50Ih7_BGC"
      },
      "execution_count": 57,
      "outputs": []
    },
    {
      "cell_type": "markdown",
      "source": [
        "Adding a data augmentation stage and a classifier to this convolutional base"
      ],
      "metadata": {
        "id": "Rn6I9e22_ETu"
      }
    },
    {
      "cell_type": "code",
      "source": [
        "data_augmentation = keras.Sequential(\n",
        "    [\n",
        "        layers.RandomFlip(\"horizontal\"),\n",
        "        layers.RandomRotation(0.3),\n",
        "        layers.RandomZoom(0.5),\n",
        "    ]\n",
        ")\n",
        "\n",
        "inputs = keras.Input(shape=(180, 180, 3))\n",
        "x = data_augmentation(inputs)\n",
        "x = keras.layers.Lambda(lambda x: keras.applications.vgg16.preprocess_input(x))(x)\n",
        "x = conv_base(x)\n",
        "x = layers.Flatten()(x)\n",
        "x = layers.Dense(256)(x)\n",
        "x = layers.Dropout(0.5)(x)\n",
        "outputs = layers.Dense(1, activation=\"sigmoid\")(x)\n",
        "model = keras.Model(inputs, outputs)\n",
        "model.compile(loss=\"binary_crossentropy\",\n",
        "              optimizer=keras.optimizers.RMSprop(learning_rate=1e-5),\n",
        "              metrics=[\"accuracy\"])"
      ],
      "metadata": {
        "id": "Ew3VGHFf_D8g"
      },
      "execution_count": 58,
      "outputs": []
    },
    {
      "cell_type": "code",
      "source": [
        "callbacks = [\n",
        "    keras.callbacks.ModelCheckpoint(\n",
        "        filepath=\"fine_tuning.keras\",\n",
        "        save_best_only=True,\n",
        "        monitor=\"val_loss\")\n",
        "]\n",
        "history = model.fit(\n",
        "    dataset_Training,\n",
        "    epochs=20,\n",
        "    validation_data=dataset_Validation,\n",
        "    callbacks=callbacks)"
      ],
      "metadata": {
        "id": "_HA52s8X3vnk",
        "colab": {
          "base_uri": "https://localhost:8080/"
        },
        "outputId": "29fec0ef-346d-460c-ddd8-69941d3c3bef"
      },
      "execution_count": 59,
      "outputs": [
        {
          "output_type": "stream",
          "name": "stdout",
          "text": [
            "Epoch 1/20\n",
            "32/32 [==============================] - 5s 97ms/step - loss: 5.6823 - accuracy: 0.5910 - val_loss: 1.8550 - val_accuracy: 0.8070\n",
            "Epoch 2/20\n",
            "32/32 [==============================] - 3s 90ms/step - loss: 2.6259 - accuracy: 0.6980 - val_loss: 1.0112 - val_accuracy: 0.8640\n",
            "Epoch 3/20\n",
            "32/32 [==============================] - 3s 89ms/step - loss: 1.7725 - accuracy: 0.7200 - val_loss: 0.5943 - val_accuracy: 0.8800\n",
            "Epoch 4/20\n",
            "32/32 [==============================] - 3s 87ms/step - loss: 1.1226 - accuracy: 0.7800 - val_loss: 0.4094 - val_accuracy: 0.9060\n",
            "Epoch 5/20\n",
            "32/32 [==============================] - 3s 89ms/step - loss: 0.7925 - accuracy: 0.7890 - val_loss: 0.3213 - val_accuracy: 0.9140\n",
            "Epoch 6/20\n",
            "32/32 [==============================] - 3s 87ms/step - loss: 0.6612 - accuracy: 0.7790 - val_loss: 0.2689 - val_accuracy: 0.9210\n",
            "Epoch 7/20\n",
            "32/32 [==============================] - 3s 86ms/step - loss: 0.5077 - accuracy: 0.8140 - val_loss: 0.2221 - val_accuracy: 0.9350\n",
            "Epoch 8/20\n",
            "32/32 [==============================] - 3s 88ms/step - loss: 0.5126 - accuracy: 0.8110 - val_loss: 0.1899 - val_accuracy: 0.9430\n",
            "Epoch 9/20\n",
            "32/32 [==============================] - 3s 88ms/step - loss: 0.4328 - accuracy: 0.8370 - val_loss: 0.1729 - val_accuracy: 0.9410\n",
            "Epoch 10/20\n",
            "32/32 [==============================] - 3s 88ms/step - loss: 0.3706 - accuracy: 0.8690 - val_loss: 0.1634 - val_accuracy: 0.9460\n",
            "Epoch 11/20\n",
            "32/32 [==============================] - 3s 89ms/step - loss: 0.3457 - accuracy: 0.8690 - val_loss: 0.1530 - val_accuracy: 0.9550\n",
            "Epoch 12/20\n",
            "32/32 [==============================] - 3s 88ms/step - loss: 0.2808 - accuracy: 0.8840 - val_loss: 0.1396 - val_accuracy: 0.9530\n",
            "Epoch 13/20\n",
            "32/32 [==============================] - 3s 90ms/step - loss: 0.2850 - accuracy: 0.8770 - val_loss: 0.1347 - val_accuracy: 0.9540\n",
            "Epoch 14/20\n",
            "32/32 [==============================] - 3s 88ms/step - loss: 0.3033 - accuracy: 0.8940 - val_loss: 0.1301 - val_accuracy: 0.9550\n",
            "Epoch 15/20\n",
            "32/32 [==============================] - 2s 71ms/step - loss: 0.2494 - accuracy: 0.8960 - val_loss: 0.1430 - val_accuracy: 0.9520\n",
            "Epoch 16/20\n",
            "32/32 [==============================] - 3s 87ms/step - loss: 0.2680 - accuracy: 0.9000 - val_loss: 0.1269 - val_accuracy: 0.9640\n",
            "Epoch 17/20\n",
            "32/32 [==============================] - 3s 86ms/step - loss: 0.2435 - accuracy: 0.9060 - val_loss: 0.1258 - val_accuracy: 0.9650\n",
            "Epoch 18/20\n",
            "32/32 [==============================] - 3s 87ms/step - loss: 0.2774 - accuracy: 0.9150 - val_loss: 0.1238 - val_accuracy: 0.9610\n",
            "Epoch 19/20\n",
            "32/32 [==============================] - 2s 71ms/step - loss: 0.2262 - accuracy: 0.9000 - val_loss: 0.1254 - val_accuracy: 0.9620\n",
            "Epoch 20/20\n",
            "32/32 [==============================] - 2s 71ms/step - loss: 0.2287 - accuracy: 0.9110 - val_loss: 0.1368 - val_accuracy: 0.9590\n"
          ]
        }
      ]
    },
    {
      "cell_type": "code",
      "source": [
        "import matplotlib.pyplot as plt\n",
        "accuracy = history.history[\"accuracy\"]\n",
        "val_accuracy = history.history[\"val_accuracy\"]\n",
        "loss = history.history[\"loss\"]\n",
        "val_loss = history.history[\"val_loss\"]\n",
        "epochs = range(1, len(accuracy) + 1)\n",
        "plt.plot(epochs, accuracy, \"bo\", label=\"Training accuracy\")\n",
        "plt.plot(epochs, val_accuracy, \"b\", label=\"Validation accuracy\")\n",
        "plt.title(\"Training and validation accuracy\")\n",
        "plt.legend()\n",
        "plt.figure()\n",
        "plt.plot(epochs, loss, \"bo\", label=\"Training loss\")\n",
        "plt.plot(epochs, val_loss, \"b\", label=\"Validation loss\")\n",
        "plt.title(\"Training and validation loss\")\n",
        "plt.legend()\n",
        "plt.show()"
      ],
      "metadata": {
        "id": "QWAgxlWy_pRw",
        "colab": {
          "base_uri": "https://localhost:8080/",
          "height": 887
        },
        "outputId": "10b7d427-5ab1-4e6a-86ba-211a4de4106b"
      },
      "execution_count": 60,
      "outputs": [
        {
          "output_type": "display_data",
          "data": {
            "text/plain": [
              "<Figure size 640x480 with 1 Axes>"
            ],
            "image/png": "[encoded data removed]"
          },
          "metadata": {}
        },
        {
          "output_type": "display_data",
          "data": {
            "text/plain": [
              "<Figure size 640x480 with 1 Axes>"
            ],
            "image/png": "[encoded data removed]"
          },
          "metadata": {}
        }
      ]
    },
    {
      "cell_type": "code",
      "source": [
        "model_conv1 = keras.models.load_model(\"fine_tuning.keras\", safe_mode=False)\n",
        "test_loss, test_acc = model_conv1.evaluate(dataset_Testing)\n",
        "print(f\"Test accuracy: {test_acc:.3f}\")"
      ],
      "metadata": {
        "id": "iPwhF7qq_thX",
        "colab": {
          "base_uri": "https://localhost:8080/"
        },
        "outputId": "d317fb46-f4d2-492b-b760-0be0384bd2df"
      },
      "execution_count": 61,
      "outputs": [
        {
          "output_type": "stream",
          "name": "stdout",
          "text": [
            "63/63 [==============================] - 2s 32ms/step - loss: 0.1454 - accuracy: 0.9585\n",
            "Test accuracy: 0.959\n"
          ]
        }
      ]
    }
  ],
  "metadata": {
    "colab": {
      "provenance": [],
      "machine_shape": "hm",
      "gpuType": "V100"
    },
    "kernelspec": {
      "display_name": "Python 3",
      "name": "python3"
    },
    "language_info": {
      "name": "python"
    },
    "accelerator": "GPU"
  },
  "nbformat": 4,
  "nbformat_minor": 0
}